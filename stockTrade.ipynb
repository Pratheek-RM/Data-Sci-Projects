{
 "cells": [
  {
   "cell_type": "markdown",
   "metadata": {},
   "source": [
    "# Stock Trading Scheme"
   ]
  },
  {
   "cell_type": "markdown",
   "metadata": {},
   "source": [
    "#### Importing packages"
   ]
  },
  {
   "cell_type": "code",
   "execution_count": 1,
   "metadata": {
    "collapsed": true
   },
   "outputs": [],
   "source": [
    "import numpy as np\n",
    "import pandas as pd\n",
    "from copy import deepcopy\n",
    "import quandl\n",
    "from stockAnalysisTools import numToString"
   ]
  },
  {
   "cell_type": "markdown",
   "metadata": {},
   "source": [
    "#### The cell below will be used to pull all the stock data we want and make a dictionary for accessing it"
   ]
  },
  {
   "cell_type": "code",
   "execution_count": 2,
   "metadata": {
    "collapsed": true
   },
   "outputs": [],
   "source": [
    "quandl.ApiConfig.api_key = \"d1JcayaRuvKSaq7GaEHs\"\n",
    "aapl = \"aapl\"\n",
    "goog  = \"goog\"\n",
    "stockList = [aapl, goog]\n",
    "finData = dict()\n",
    "\n",
    "for ticker in stockList:\n",
    "    finData[ticker] = quandl.get(\"WIKI/\"+ticker)[\"Adj. Close\"]"
   ]
  },
  {
   "cell_type": "markdown",
   "metadata": {},
   "source": [
    "#### Bollinger bands and Rolling Mean Calculated"
   ]
  },
  {
   "cell_type": "markdown",
   "metadata": {},
   "source": [
    "#### Creating object for stock data"
   ]
  },
  {
   "cell_type": "code",
   "execution_count": 5,
   "metadata": {
    "collapsed": true
   },
   "outputs": [],
   "source": [
    "#Not using this class yet\n",
    "class Stock(object):\n",
    "    \n",
    "    def __init__(self, name):\n",
    "        self.name = \"\"\n",
    "        self.num = 0"
   ]
  },
  {
   "cell_type": "markdown",
   "metadata": {},
   "source": [
    "#### Creating an object to hold portfolio data"
   ]
  },
  {
   "cell_type": "code",
   "execution_count": 6,
   "metadata": {
    "collapsed": true
   },
   "outputs": [],
   "source": [
    "class Portfolio(object):\n",
    "    names = list()\n",
    "    stocks = list()\n",
    "    uninvestedMoney = 0\n",
    "    \n",
    "    def addStock(self, name):\n",
    "        \n",
    "        if(name not in finData.keys()):\n",
    "            print(\"We haven't pulled up data for this stock, so it can't be added\")\n",
    "            return\n",
    "\n",
    "#         self.stockList.append(Stock(name))\n",
    "        self.names.append(name)\n",
    "        self.stocks.append(0)\n",
    "    \n",
    "    def addMoney(self, money):\n",
    "        \n",
    "        self.uninvestedMoney += money\n",
    "        \n",
    "    def reset(self):\n",
    "        self.uninvestedMoney = 0\n",
    "        for i in range(len(self.stocks)):\n",
    "            self.stocks[i] = 0\n",
    "#             self.stockList[i].num = 0\n",
    "            \n",
    "    def buyStock(self, name, date = 0, price = 0, num = 0, noLimit=True):\n",
    "        if name not in self.names:\n",
    "            print(\"Stock you want to buy isn't in the self\")\n",
    "            print(\"It must be added to the portfolio before you can buy\")\n",
    "            return\n",
    "\n",
    "        if(date == 0):\n",
    "            price_of_stock = price\n",
    "        else:\n",
    "            price_of_stock = finData[name].loc[date+\" 00:00:00\"]\n",
    "\n",
    "        if(noLimit):\n",
    "            numOfStock = self.uninvestedMoney/price_of_stock\n",
    "            self.uninvestedMoney -= numOfStock * price_of_stock\n",
    "            self.stocks[self.names.index(name)] += numOfStock\n",
    "        else:\n",
    "            if(num * price_of_stock() > self.uninvestedMoney):\n",
    "                print(\"Can't buy this much stock\")\n",
    "            else:\n",
    "                self.uninvestedMoney -= num * price_of_stock\n",
    "                self.stocks[self.names.index(name)] += num \n",
    "                \n",
    "    def sellStock(self, name, date = 0, price = 0, num = 0, noLimit=True):\n",
    "        if name not in self.names:\n",
    "            print(\"Stock you want to buy isn't in the self\")\n",
    "            print(\"It must be added to the portfolio before you can buy\")\n",
    "            return\n",
    "\n",
    "        if(date == 0):\n",
    "            price_of_stock = price\n",
    "        else:\n",
    "            price_of_stock = finData[name].loc[date+\" 00:00:00\"]\n",
    "\n",
    "        numOfStock = self.stocks[self.names.index(name)]\n",
    "\n",
    "        if(noLimit):\n",
    "            self.stocks[self.names.index(name)] = 0\n",
    "\n",
    "            self.uninvestedMoney += numOfStock * price_of_stock\n",
    "        else:\n",
    "            if(numOfStock - num < 0):\n",
    "                print(\"Can't sell this much stock\")\n",
    "            else:\n",
    "                self.uninvestedMoney += num * price_of_stock\n",
    "                self.stocks[self.names.index(name)] -= num\n",
    "        "
   ]
  },
  {
   "cell_type": "markdown",
   "metadata": {},
   "source": [
    "#### Creating Portfolio"
   ]
  },
  {
   "cell_type": "code",
   "execution_count": 7,
   "metadata": {
    "collapsed": true
   },
   "outputs": [],
   "source": [
    "my_portfolio = Portfolio()\n",
    "my_portfolio.addStock(aapl)"
   ]
  },
  {
   "cell_type": "markdown",
   "metadata": {},
   "source": [
    "#### Simple Trading Strategy per 30 days"
   ]
  },
  {
   "cell_type": "code",
   "execution_count": 93,
   "metadata": {
    "collapsed": true,
    "scrolled": true
   },
   "outputs": [],
   "source": [
    "startDate = '2001-07-01'\n",
    "endDate = '2018-07-01'\n",
    "\n",
    "aaplReturn = finData[aapl].pct_change().shift(-1).dropna()\n",
    "aaplSharpe = aaplReturn.mean()/aaplReturn.std()\n",
    "aaplRollingStat = finData[aapl].loc[startDate: endDate].rolling(window=30,center=False).mean().dropna()\n",
    "aaplRollingStd = finData[aapl].loc[startDate: endDate].rolling(window=30,center=False).std().dropna()\n",
    "\n",
    "aaplRollingStat = aaplRollingStat.reset_index()\n",
    "\n",
    "aaplRollingStat = aaplRollingStat.rename(index=str, columns={\"Adj. Close\": \"Rolling Mean\"})\n",
    "aaplRollingStat[\"Std\"] = aaplRollingStd.values\n",
    "aaplRollingStat[\"Upper Band\"] = aaplRollingStat.apply(lambda row: row[\"Rolling Mean\"] + 2*row[\"Std\"], axis=1)\n",
    "aaplRollingStat[\"Lower Band\"] = aaplRollingStat.apply(lambda row: row[\"Rolling Mean\"] - 2*row[\"Std\"], axis=1)\n",
    "\n",
    "aaplRollingStat = aaplRollingStat.set_index(\"Date\")\n",
    "\n",
    "aaplRollingStat[\"Adj. Close\"] = finData[aapl].loc[aaplRollingStat.index[0]:aaplRollingStat.index[-1]].values"
   ]
  },
  {
   "cell_type": "code",
   "execution_count": 9,
   "metadata": {
    "collapsed": true
   },
   "outputs": [],
   "source": [
    "startDate = '2001-07-01'\n",
    "endDate = '2018-07-01'\n",
    "\n",
    "googReturn = finData[goog].pct_change().shift(-1).dropna()\n",
    "googSharpe = googReturn.mean()/googReturn.std()\n",
    "googRollingStat = finData[goog].loc[startDate: endDate].rolling(window=30,center=False).mean().dropna()\n",
    "googRollingStd = finData[goog].loc[startDate: endDate].rolling(window=30,center=False).std().dropna()\n",
    "\n",
    "googRollingStat = googRollingStat.reset_index()\n",
    "\n",
    "googRollingStat = googRollingStat.rename(index=str, columns={\"Adj. Close\": \"Rolling Mean\"})\n",
    "googRollingStat[\"Std\"] = googRollingStd.values\n",
    "googRollingStat[\"Upper Band\"] = googRollingStat.apply(lambda row: row[\"Rolling Mean\"] + 2*row[\"Std\"], axis=1)\n",
    "googRollingStat[\"Lower Band\"] = googRollingStat.apply(lambda row: row[\"Rolling Mean\"] - 2*row[\"Std\"], axis=1)\n",
    "\n",
    "googRollingStat = googRollingStat.set_index(\"Date\")\n",
    "\n",
    "googRollingStat[\"Adj. Close\"] = finData[goog].loc[googRollingStat.index[0]:googRollingStat.index[-1]].values"
   ]
  },
  {
   "cell_type": "code",
   "execution_count": 100,
   "metadata": {
    "scrolled": true
   },
   "outputs": [
    {
     "data": {
      "text/plain": [
       "Date\n",
       "2001-11-26    0.236690\n",
       "2002-04-26    0.076743\n",
       "2002-10-25   -0.329857\n",
       "2002-12-19   -0.079118\n",
       "2003-02-18    0.075352\n",
       "2003-04-11   -0.135560\n",
       "2003-05-05    0.218939\n",
       "2003-11-14    0.333748\n",
       "2004-01-05    0.033085\n",
       "2005-04-14    2.361299\n",
       "2005-05-24    0.065486\n",
       "2006-03-21    0.556927\n",
       "2006-07-26    0.033328\n",
       "2007-08-15    0.877251\n",
       "2007-09-25    0.277565\n",
       "2008-01-16    0.042173\n",
       "2008-03-18   -0.168003\n",
       "2008-06-12    0.304472\n",
       "2009-02-06   -0.424449\n",
       "2009-03-09   -0.166566\n",
       "2009-03-23    0.295392\n",
       "2010-01-29    0.783977\n",
       "2010-03-05    0.139991\n",
       "2010-08-24    0.095821\n",
       "2010-09-16    0.152711\n",
       "2011-03-16    0.193224\n",
       "2011-07-07    0.082391\n",
       "2011-11-21    0.033063\n",
       "2011-12-27    0.101677\n",
       "2012-04-24    0.378201\n",
       "2012-07-02    0.057543\n",
       "2012-10-08    0.081642\n",
       "2013-07-30   -0.277451\n",
       "2013-09-16   -0.000490\n",
       "2013-10-21    0.158273\n",
       "2014-01-10    0.028192\n",
       "2014-04-24    0.071694\n",
       "2014-10-16    0.199361\n",
       "2014-10-23    0.089030\n",
       "2015-01-05    0.017928\n",
       "2015-01-29    0.119059\n",
       "2015-06-29    0.055820\n",
       "2015-07-20    0.060548\n",
       "2015-08-03   -0.103203\n",
       "2015-10-23    0.009945\n",
       "2015-12-15   -0.068146\n",
       "2016-03-01   -0.085246\n",
       "2016-04-27   -0.026957\n",
       "2016-07-27    0.058877\n",
       "2016-09-09    0.007142\n",
       "2016-09-14    0.083778\n",
       "2016-11-04   -0.021161\n",
       "2016-12-13    0.058343\n",
       "2017-06-12    0.272183\n",
       "2017-07-24    0.046587\n",
       "2017-09-21    0.012640\n",
       "2017-10-27    0.062977\n",
       "2018-01-29    0.030113\n",
       "Name: Returns, dtype: float64"
      ]
     },
     "execution_count": 100,
     "metadata": {},
     "output_type": "execute_result"
    }
   ],
   "source": [
    "#portfolio reset\n",
    "my_portfolio.reset()\n",
    "my_portfolio.addMoney(100)\n",
    "\n",
    "# aaplRollingStat = aaplRollingStat.reset_index()\n",
    "\n",
    "# aaplRollingStat[\"Buy Day\"] = aaplRollingStat.apply(lambda row: 1 if row[\"Adj. Close\"] < row[\"Lower Band\"] else 0, axis=1)\n",
    "# aaplRollingStat[\"Sell Day\"] = aaplRollingStat.apply(lambda row: 1 if row[\"Adj. Close\"] > row[\"Upper Band\"] else 0, axis=1)\n",
    "    \n",
    "\n",
    "# aaplRollingStat = aaplRollingStat.set_index(\"Date\")\n",
    "\n",
    "# test = aaplRollingStat[[\"Buy Day\", \"Sell Day\"]]\n",
    "# test[\"test\"] = test.apply(lambda row: row[0], axis=0)\n",
    "# test\n",
    "# # aaplRollingStat\n",
    "\n",
    "# #Loop implementation gives a strange return value\n",
    "# canBuy = True\n",
    "# canSell = False\n",
    "# for i, row in aaplRollingStat.iterrows():\n",
    "#     if row[\"Adj. Close\"] < row[\"Lower Band\"] and canBuy:\n",
    "#         my_portfolio.buyStock(aapl, price = row[\"Adj. Close\"])\n",
    "#         canBuy = False\n",
    "#         canSell = True\n",
    "#     elif row[\"Adj. Close\"] > row[\"Upper Band\"] and canSell:\n",
    "#         my_portfolio.sellStock(aapl, price = row[\"Adj. Close\"])\n",
    "#         canBuy = True\n",
    "#         canSell = False\n",
    "# #         print(i)\n",
    "        \n",
    "# if 0 not in my_portfolio.stocks:\n",
    "#     my_portfolio.sellStock(aapl, price = finData[aapl][-1])\n",
    "\n",
    "\n",
    "\n",
    "canBuy = True\n",
    "canSell = False\n",
    "buy = list()\n",
    "sell = list()\n",
    "for i, row in aaplRollingStat.iterrows():\n",
    "#     print(aaplRollingStat.loc[i])\n",
    "    if row[\"Adj. Close\"] < row[\"Lower Band\"] and canBuy:\n",
    "        buyVal = 1\n",
    "        canBuy = False\n",
    "        canSell = True\n",
    "    else:\n",
    "        buyVal = 0\n",
    "        \n",
    "    if row[\"Adj. Close\"] > row[\"Upper Band\"] and canSell:\n",
    "        sellVal = 1\n",
    "        canBuy = True\n",
    "        canSell = False\n",
    "    else:\n",
    "        sellVal = 0\n",
    "        \n",
    "    buy.append(buyVal)\n",
    "    sell.append(sellVal)\n",
    "    \n",
    "return_df = pd.DataFrame()\n",
    "return_df[\"Buy Day\"] = pd.Series(buy, index = aaplRollingStat.index)\n",
    "return_df[\"Sell Day\"] = pd.Series(sell, index = aaplRollingStat.index)\n",
    "return_df[\"Adj. Close\"] = aaplRollingStat[\"Adj. Close\"]\n",
    "\n",
    "return_df[\"Returns\"] = (return_df[\"Buy Day\"]*return_df[\"Adj. Close\"]) + (return_df[\"Sell Day\"]*return_df[\"Adj. Close\"])\n",
    "return_df[\"Returns\"] = return_df[\"Returns\"].replace(0 , np.nan)\n",
    "return_df[\"Returns\"] = return_df[\"Returns\"].pct_change(fill_method = \"pad\")\n",
    "# return_df[\"Returns\"] = return_df[\"Returns\"].replace(np.nan, 0)\n",
    "return_ser = return_df[\"Returns\"].dropna()\n",
    "# print(return_df[\"Returns\"].dropna())\n",
    "return_ser\n",
    "# for i, row in return_df.iterrows():\n",
    "# #     if np.notna(row[\"Returns\"]) and (row[\"Returns\"] != 0):\n",
    "#     if not (np.isnan(row[\"Returns\"])):\n",
    "#         print(row[\"Returns\"])\n",
    "    "
   ]
  },
  {
   "cell_type": "code",
   "execution_count": 102,
   "metadata": {},
   "outputs": [
    {
     "name": "stdout",
     "output_type": "stream",
     "text": [
      "Value of Investment $15,126.6198594536581368\n"
     ]
    }
   ],
   "source": [
    "cumulative_returns = (1+return_ser).cumprod()\n",
    "final_value = cumulative_returns[-1]*my_portfolio.uninvestedMoney\n",
    "\n",
    "print(\"Value of Investment $\"+ numToString(final_value))"
   ]
  },
  {
   "cell_type": "markdown",
   "metadata": {},
   "source": [
    "#### Rate of Return Series Generated"
   ]
  },
  {
   "cell_type": "code",
   "execution_count": null,
   "metadata": {
    "collapsed": true
   },
   "outputs": [],
   "source": []
  }
 ],
 "metadata": {
  "kernelspec": {
   "display_name": "Python 3",
   "language": "python",
   "name": "python3"
  },
  "language_info": {
   "codemirror_mode": {
    "name": "ipython",
    "version": 3
   },
   "file_extension": ".py",
   "mimetype": "text/x-python",
   "name": "python",
   "nbconvert_exporter": "python",
   "pygments_lexer": "ipython3",
   "version": "3.6.3"
  }
 },
 "nbformat": 4,
 "nbformat_minor": 2
}
