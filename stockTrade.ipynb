{
 "cells": [
  {
   "cell_type": "markdown",
   "metadata": {},
   "source": [
    "# Stock Trading Scheme"
   ]
  },
  {
   "cell_type": "markdown",
   "metadata": {},
   "source": [
    "#### Importing packages"
   ]
  },
  {
   "cell_type": "code",
   "execution_count": 2,
   "metadata": {
    "collapsed": true
   },
   "outputs": [],
   "source": [
    "import numpy as np\n",
    "import pandas as pd\n",
    "from copy import deepcopy\n",
    "import quandl\n",
    "from stockAnalysisTools import numToString"
   ]
  },
  {
   "cell_type": "markdown",
   "metadata": {},
   "source": [
    "#### The cell below will be used to pull all the stock data we want and make a dictionary for accessing it"
   ]
  },
  {
   "cell_type": "code",
   "execution_count": 3,
   "metadata": {
    "collapsed": true
   },
   "outputs": [],
   "source": [
    "quandl.ApiConfig.api_key = \"d1JcayaRuvKSaq7GaEHs\"\n",
    "aapl = \"aapl\"\n",
    "goog  = \"goog\"\n",
    "stockList = [aapl, goog]\n",
    "finData = dict()\n",
    "\n",
    "for ticker in stockList:\n",
    "    finData[ticker] = quandl.get(\"WIKI/\"+ticker)[\"Adj. Close\"]"
   ]
  },
  {
   "cell_type": "markdown",
   "metadata": {},
   "source": [
    "#### Bollinger bands and Rolling Mean Calculated"
   ]
  },
  {
   "cell_type": "code",
   "execution_count": 70,
   "metadata": {
    "scrolled": true
   },
   "outputs": [],
   "source": [
    "startDate = '2001-07-01'\n",
    "endDate = '2018-07-01'\n",
    "\n",
    "aaplReturn = finData[aapl].pct_change().dropna()\n",
    "aaplSharpe = aaplReturn.mean()/aaplReturn.std()\n",
    "aaplRollingStat = finData[aapl].loc[startDate: endDate].rolling(window=7,center=False).mean().dropna()\n",
    "aaplRollingStd = finData[aapl].loc[startDate: endDate].rolling(window=7,center=False).std().dropna()\n",
    "\n",
    "aaplRollingStat = aaplRollingStat.reset_index()\n",
    "\n",
    "aaplRollingStat = aaplRollingStat.rename(index=str, columns={\"Adj. Close\": \"Rolling Mean\"})\n",
    "aaplRollingStat[\"Std\"] = aaplRollingStd.values\n",
    "aaplRollingStat[\"Upper Band\"] = aaplRollingStat.apply(lambda row: row[\"Rolling Mean\"] + 2*row[\"Std\"], axis=1)\n",
    "aaplRollingStat[\"Lower Band\"] = aaplRollingStat.apply(lambda row: row[\"Rolling Mean\"] - 2*row[\"Std\"], axis=1)\n",
    "\n",
    "aaplRollingStat = aaplRollingStat.set_index(\"Date\")"
   ]
  },
  {
   "cell_type": "code",
   "execution_count": 71,
   "metadata": {},
   "outputs": [],
   "source": [
    "startDate = '2001-07-01'\n",
    "endDate = '2018-07-01'\n",
    "\n",
    "googReturn = finData[goog].pct_change().dropna()\n",
    "googSharpe = googReturn.mean()/googReturn.std()\n",
    "googRollingStat = finData[goog].loc[startDate: endDate].rolling(window=7,center=False).mean().dropna()\n",
    "googRollingStd = finData[goog].loc[startDate: endDate].rolling(window=7,center=False).std().dropna()\n",
    "\n",
    "googRollingStat = googRollingStat.reset_index()\n",
    "\n",
    "googRollingStat = googRollingStat.rename(index=str, columns={\"Adj. Close\": \"Rolling Mean\"})\n",
    "googRollingStat[\"Std\"] = googRollingStd.values\n",
    "googRollingStat[\"Upper Band\"] = googRollingStat.apply(lambda row: row[\"Rolling Mean\"] + 2*row[\"Std\"], axis=1)\n",
    "googRollingStat[\"Lower Band\"] = googRollingStat.apply(lambda row: row[\"Rolling Mean\"] - 2*row[\"Std\"], axis=1)\n",
    "\n",
    "googRollingStat = googRollingStat.set_index(\"Date\")"
   ]
  },
  {
   "cell_type": "markdown",
   "metadata": {},
   "source": [
    "#### Creating object for stock data"
   ]
  },
  {
   "cell_type": "code",
   "execution_count": 4,
   "metadata": {
    "collapsed": true
   },
   "outputs": [],
   "source": [
    "#Not using this class yet\n",
    "class Stock(object):\n",
    "    \n",
    "    def __init__(self, name):\n",
    "        self.name = \"\"\n",
    "        self.num = 0"
   ]
  },
  {
   "cell_type": "markdown",
   "metadata": {},
   "source": [
    "#### Creating an object to hold portfolio data"
   ]
  },
  {
   "cell_type": "code",
   "execution_count": 15,
   "metadata": {
    "collapsed": true
   },
   "outputs": [],
   "source": [
    "class Portfolio(object):\n",
    "    names = list()\n",
    "    stocks = list()\n",
    "    uninvestedMoney = 0\n",
    "    \n",
    "    def addStock(self, name):\n",
    "        \n",
    "        if(name not in finData.keys()):\n",
    "            print(\"We haven't pulled up data for this stock, so it can't be added\")\n",
    "            return\n",
    "\n",
    "#         self.stockList.append(Stock(name))\n",
    "        self.names.append(name)\n",
    "        self.stocks.append(0)\n",
    "    \n",
    "    def addMoney(self, money):\n",
    "        \n",
    "        self.uninvestedMoney += money\n",
    "        \n",
    "    def reset(self):\n",
    "        self.uninvestedMoney = 0\n",
    "        for i in range(len(self.stocks)):\n",
    "            self.stocks[i] = 0\n",
    "#             self.stockList[i].num = 0\n",
    "            \n",
    "    def buyStock(self, name, date = 0, price = 0, num = 0, noLimit=True):\n",
    "        if name not in self.names:\n",
    "            print(\"Stock you want to buy isn't in the self\")\n",
    "            print(\"It must be added to the portfolio before you can buy\")\n",
    "            return\n",
    "\n",
    "        if(date == 0):\n",
    "            price_of_stock = price\n",
    "        else:\n",
    "            price_of_stock = finData[name].loc[date+\" 00:00:00\"]\n",
    "\n",
    "        if(noLimit):\n",
    "            numOfStock = self.uninvestedMoney/price_of_stock\n",
    "            self.uninvestedMoney -= numOfStock * price_of_stock\n",
    "            self.stocks[self.names.index(name)] += numOfStock\n",
    "        else:\n",
    "            if(num * price_of_stock() > self.uninvestedMoney):\n",
    "                print(\"Can't buy this much stock\")\n",
    "            else:\n",
    "                self.uninvestedMoney -= num * price_of_stock\n",
    "                self.stocks[self.names.index(name)] += num \n",
    "                \n",
    "    def sellStock(self, name, date = 0, price = 0, num = 0, noLimit=True):\n",
    "        if name not in self.names:\n",
    "            print(\"Stock you want to buy isn't in the self\")\n",
    "            print(\"It must be added to the portfolio before you can buy\")\n",
    "            return\n",
    "\n",
    "        if(date == 0):\n",
    "            price_of_stock = price\n",
    "        else:\n",
    "            price_of_stock = finData[name].loc[date+\" 00:00:00\"]\n",
    "\n",
    "        numOfStock = self.stocks[self.names.index(name)]\n",
    "\n",
    "        if(noLimit):\n",
    "            self.stocks[self.names.index(name)] = 0\n",
    "\n",
    "            self.uninvestedMoney += numOfStock * price_of_stock\n",
    "        else:\n",
    "            if(numOfStock - num < 0):\n",
    "                print(\"Can't sell this much stock\")\n",
    "            else:\n",
    "                self.uninvestedMoney += num * price_of_stock\n",
    "                self.stocks[self.names.index(name)] -= num\n",
    "        "
   ]
  },
  {
   "cell_type": "code",
   "execution_count": 6,
   "metadata": {
    "scrolled": true
   },
   "outputs": [
    {
     "name": "stdout",
     "output_type": "stream",
     "text": [
      "Date\n",
      "2001-07-02      1.535742\n",
      "2001-07-03      1.531886\n",
      "2001-07-05      1.490119\n",
      "2001-07-06      1.415581\n",
      "2001-07-09      1.458633\n",
      "2001-07-10      1.358392\n",
      "2001-07-11      1.448352\n",
      "2001-07-12      1.565300\n",
      "2001-07-13      1.596786\n",
      "2001-07-16      1.539597\n",
      "2001-07-17      1.612850\n",
      "2001-07-18      1.335902\n",
      "2001-07-19      1.282569\n",
      "2001-07-20      1.283854\n",
      "2001-07-23      1.255581\n",
      "2001-07-24      1.226666\n",
      "2001-07-25      1.186826\n",
      "2001-07-26      1.194537\n",
      "2001-07-27      1.218312\n",
      "2001-07-30      1.216384\n",
      "2001-07-31      1.207388\n",
      "2001-08-01      1.224738\n",
      "2001-08-02      1.273573\n",
      "2001-08-03      1.253011\n",
      "2001-08-06      1.229236\n",
      "2001-08-07      1.236947\n",
      "2001-08-08      1.214457\n",
      "2001-08-09      1.224095\n",
      "2001-08-10      1.222168\n",
      "2001-08-13      1.226666\n",
      "                 ...    \n",
      "2018-02-13    164.340000\n",
      "2018-02-14    167.370000\n",
      "2018-02-15    172.990000\n",
      "2018-02-16    172.430000\n",
      "2018-02-20    171.850000\n",
      "2018-02-21    171.070000\n",
      "2018-02-22    172.600000\n",
      "2018-02-23    175.555000\n",
      "2018-02-26    178.970000\n",
      "2018-02-27    178.390000\n",
      "2018-02-28    178.120000\n",
      "2018-03-01    175.000000\n",
      "2018-03-02    176.210000\n",
      "2018-03-05    176.820000\n",
      "2018-03-06    176.670000\n",
      "2018-03-07    175.030000\n",
      "2018-03-08    176.940000\n",
      "2018-03-09    179.980000\n",
      "2018-03-12    181.720000\n",
      "2018-03-13    179.970000\n",
      "2018-03-14    178.440000\n",
      "2018-03-15    178.650000\n",
      "2018-03-16    178.020000\n",
      "2018-03-19    175.300000\n",
      "2018-03-20    175.240000\n",
      "2018-03-21    171.270000\n",
      "2018-03-22    168.845000\n",
      "2018-03-23    164.940000\n",
      "2018-03-26    172.770000\n",
      "2018-03-27    168.340000\n",
      "Name: Adj. Close, Length: 4208, dtype: float64\n"
     ]
    }
   ],
   "source": [
    "# aaplAdjClose = aaplData[\"Adj. Close\"]\n",
    "print(finData[\"aapl\"].loc['2001-07-01':'2018-07-01'])"
   ]
  },
  {
   "cell_type": "markdown",
   "metadata": {},
   "source": [
    "#### Creating Portfolio"
   ]
  },
  {
   "cell_type": "code",
   "execution_count": 17,
   "metadata": {
    "collapsed": true
   },
   "outputs": [],
   "source": [
    "my_portfolio = Portfolio()\n",
    "my_portfolio.addStock(aapl)"
   ]
  },
  {
   "cell_type": "markdown",
   "metadata": {},
   "source": [
    "#### Simple Trading Strategy"
   ]
  },
  {
   "cell_type": "code",
   "execution_count": 79,
   "metadata": {},
   "outputs": [
    {
     "name": "stdout",
     "output_type": "stream",
     "text": [
      "[0]\n"
     ]
    }
   ],
   "source": [
    "#portfolio reset\n",
    "my_portfolio.reset()\n",
    "my_portfolio.addMoney(100)\n",
    "odd = True\n",
    "startDate = '2001-07-01'\n",
    "endDate = '2018-07-01'\n",
    "for adj_price in finData[aapl].loc[startDate: endDate]:\n",
    "    if(odd):\n",
    "        my_portfolio.buyStock(aapl, price = adj_price)\n",
    "    else:\n",
    "        my_portfolio.sellStock(aapl, price = adj_price)\n",
    "        \n",
    "    odd = (not odd)\n",
    "    \n",
    "print(my_portfolio.stocks)    \n",
    "my_portfolio.sellStock(aapl, price = finData[aapl][-1])"
   ]
  },
  {
   "cell_type": "code",
   "execution_count": 74,
   "metadata": {},
   "outputs": [
    {
     "name": "stdout",
     "output_type": "stream",
     "text": [
      "Value of Investment $355.03061640616050454\n"
     ]
    }
   ],
   "source": [
    "print(\"Value of Investment $\"+ numToString(my_portfolio.uninvestedMoney))"
   ]
  },
  {
   "cell_type": "markdown",
   "metadata": {},
   "source": [
    "#### Rate of Return Series Generated"
   ]
  },
  {
   "cell_type": "code",
   "execution_count": 22,
   "metadata": {},
   "outputs": [
    {
     "name": "stdout",
     "output_type": "stream",
     "text": [
      "aapl\n",
      "Date\n",
      "1980-12-12         NaN\n",
      "1980-12-15   -0.052174\n",
      "1980-12-16   -0.073394\n",
      "1980-12-17    0.024554\n",
      "1980-12-18    0.029378\n",
      "1980-12-19    0.060834\n",
      "1980-12-22    0.048850\n",
      "1980-12-23    0.042187\n",
      "1980-12-24    0.052461\n",
      "1980-12-26    0.092308\n",
      "1980-12-29    0.014085\n",
      "1980-12-30   -0.024444\n",
      "1980-12-31   -0.028189\n",
      "1981-01-02    0.010841\n",
      "1981-01-05   -0.021739\n",
      "1981-01-06   -0.044444\n",
      "1981-01-07   -0.042481\n",
      "1981-01-08   -0.020402\n",
      "1981-01-09    0.053884\n",
      "1981-01-12   -0.008156\n",
      "1981-01-13   -0.035421\n",
      "1981-01-14    0.004262\n",
      "1981-01-15    0.020242\n",
      "1981-01-16   -0.008000\n",
      "1981-01-19    0.060323\n",
      "1981-01-20   -0.030119\n",
      "1981-01-21    0.019448\n",
      "1981-01-22    0.011385\n",
      "1981-01-23   -0.003651\n",
      "1981-01-26   -0.015267\n",
      "                ...   \n",
      "2018-02-13    0.010018\n",
      "2018-02-14    0.018437\n",
      "2018-02-15    0.033578\n",
      "2018-02-16   -0.003237\n",
      "2018-02-20   -0.003364\n",
      "2018-02-21   -0.004539\n",
      "2018-02-22    0.008944\n",
      "2018-02-23    0.017121\n",
      "2018-02-26    0.019453\n",
      "2018-02-27   -0.003241\n",
      "2018-02-28   -0.001514\n",
      "2018-03-01   -0.017516\n",
      "2018-03-02    0.006914\n",
      "2018-03-05    0.003462\n",
      "2018-03-06   -0.000848\n",
      "2018-03-07   -0.009283\n",
      "2018-03-08    0.010912\n",
      "2018-03-09    0.017181\n",
      "2018-03-12    0.009668\n",
      "2018-03-13   -0.009630\n",
      "2018-03-14   -0.008501\n",
      "2018-03-15    0.001177\n",
      "2018-03-16   -0.003526\n",
      "2018-03-19   -0.015279\n",
      "2018-03-20   -0.000342\n",
      "2018-03-21   -0.022655\n",
      "2018-03-22   -0.014159\n",
      "2018-03-23   -0.023128\n",
      "2018-03-26    0.047472\n",
      "2018-03-27   -0.025641\n",
      "Name: Adj. Close, Length: 9400, dtype: float64\n",
      "goog\n",
      "Date\n",
      "2014-03-27         NaN\n",
      "2014-03-28    0.002740\n",
      "2014-03-31   -0.005393\n",
      "2014-04-01    0.018295\n",
      "2014-04-02   -0.000282\n",
      "2014-04-03    0.004832\n",
      "2014-04-04   -0.046688\n",
      "2014-04-07   -0.009187\n",
      "2014-04-08    0.031125\n",
      "2014-04-09    0.016652\n",
      "2014-04-10   -0.041107\n",
      "2014-04-11   -0.019133\n",
      "2014-04-14    0.003619\n",
      "2014-04-15    0.007361\n",
      "2014-04-16    0.037469\n",
      "2014-04-17   -0.036727\n",
      "2014-04-21   -0.013953\n",
      "2014-04-22    0.011710\n",
      "2014-04-23   -0.014716\n",
      "2014-04-24   -0.003378\n",
      "2014-04-25   -0.017100\n",
      "2014-04-28    0.001879\n",
      "2014-04-29    0.020400\n",
      "2014-04-30   -0.001971\n",
      "2014-05-01    0.008905\n",
      "2014-05-02   -0.006436\n",
      "2014-05-05   -0.000227\n",
      "2014-05-06   -0.024005\n",
      "2014-05-07   -0.010056\n",
      "2014-05-08    0.002039\n",
      "                ...   \n",
      "2018-02-13    0.000152\n",
      "2018-02-14    0.016728\n",
      "2018-02-15    0.018529\n",
      "2018-02-16    0.004846\n",
      "2018-02-20    0.006997\n",
      "2018-02-21    0.008055\n",
      "2018-02-22   -0.004238\n",
      "2018-02-23    0.018217\n",
      "2018-02-26    0.015052\n",
      "2018-02-27   -0.022260\n",
      "2018-02-28   -0.012126\n",
      "2018-03-01   -0.031872\n",
      "2018-03-02    0.008789\n",
      "2018-03-05    0.011132\n",
      "2018-03-06    0.003786\n",
      "2018-03-07    0.013314\n",
      "2018-03-08    0.014744\n",
      "2018-03-09    0.030231\n",
      "2018-03-12    0.003845\n",
      "2018-03-13   -0.022611\n",
      "2018-03-14    0.009946\n",
      "2018-03-15    0.000078\n",
      "2018-03-16   -0.012048\n",
      "2018-03-19   -0.031618\n",
      "2018-03-20   -0.001918\n",
      "2018-03-21   -0.006222\n",
      "2018-03-22   -0.038318\n",
      "2018-03-23   -0.026223\n",
      "2018-03-26    0.030972\n",
      "2018-03-27   -0.045679\n",
      "Name: Adj. Close, Length: 1007, dtype: float64\n"
     ]
    }
   ],
   "source": [
    "returnSer = deepcopy(finData)\n",
    "for key in returnSer.keys():\n",
    "    for i in range(len(returnSer[key])-1, 0, -1):\n",
    "        returnSer[key][i] = ((returnSer[key][i]/returnSer[key][i-1]) - 1)\n",
    "    \n",
    "    returnSer[key][0] = np.nan\n",
    "    print(key)\n",
    "    print(returnSer[key])\n",
    "        \n",
    "# print(returnSer[aapl])    "
   ]
  },
  {
   "cell_type": "code",
   "execution_count": 23,
   "metadata": {
    "scrolled": true
   },
   "outputs": [
    {
     "data": {
      "text/plain": [
       "Date\n",
       "1980-12-12         NaN\n",
       "1980-12-15   -0.052174\n",
       "1980-12-16   -0.073394\n",
       "1980-12-17    0.024554\n",
       "1980-12-18    0.029378\n",
       "1980-12-19    0.060834\n",
       "1980-12-22    0.048850\n",
       "1980-12-23    0.042187\n",
       "1980-12-24    0.052461\n",
       "1980-12-26    0.092308\n",
       "1980-12-29    0.014085\n",
       "1980-12-30   -0.024444\n",
       "1980-12-31   -0.028189\n",
       "1981-01-02    0.010841\n",
       "1981-01-05   -0.021739\n",
       "1981-01-06   -0.044444\n",
       "1981-01-07   -0.042481\n",
       "1981-01-08   -0.020402\n",
       "1981-01-09    0.053884\n",
       "1981-01-12   -0.008156\n",
       "1981-01-13   -0.035421\n",
       "1981-01-14    0.004262\n",
       "1981-01-15    0.020242\n",
       "1981-01-16   -0.008000\n",
       "1981-01-19    0.060323\n",
       "1981-01-20   -0.030119\n",
       "1981-01-21    0.019448\n",
       "1981-01-22    0.011385\n",
       "1981-01-23   -0.003651\n",
       "1981-01-26   -0.015267\n",
       "                ...   \n",
       "2018-02-13    0.010018\n",
       "2018-02-14    0.018437\n",
       "2018-02-15    0.033578\n",
       "2018-02-16   -0.003237\n",
       "2018-02-20   -0.003364\n",
       "2018-02-21   -0.004539\n",
       "2018-02-22    0.008944\n",
       "2018-02-23    0.017121\n",
       "2018-02-26    0.019453\n",
       "2018-02-27   -0.003241\n",
       "2018-02-28   -0.001514\n",
       "2018-03-01   -0.017516\n",
       "2018-03-02    0.006914\n",
       "2018-03-05    0.003462\n",
       "2018-03-06   -0.000848\n",
       "2018-03-07   -0.009283\n",
       "2018-03-08    0.010912\n",
       "2018-03-09    0.017181\n",
       "2018-03-12    0.009668\n",
       "2018-03-13   -0.009630\n",
       "2018-03-14   -0.008501\n",
       "2018-03-15    0.001177\n",
       "2018-03-16   -0.003526\n",
       "2018-03-19   -0.015279\n",
       "2018-03-20   -0.000342\n",
       "2018-03-21   -0.022655\n",
       "2018-03-22   -0.014159\n",
       "2018-03-23   -0.023128\n",
       "2018-03-26    0.047472\n",
       "2018-03-27   -0.025641\n",
       "Name: Adj. Close, Length: 9400, dtype: float64"
      ]
     },
     "execution_count": 23,
     "metadata": {},
     "output_type": "execute_result"
    }
   ],
   "source": [
    "apple_ret = finData[aapl].pct_change()\n",
    "apple_ret"
   ]
  },
  {
   "cell_type": "code",
   "execution_count": null,
   "metadata": {
    "collapsed": true
   },
   "outputs": [],
   "source": []
  }
 ],
 "metadata": {
  "kernelspec": {
   "display_name": "Python 3",
   "language": "python",
   "name": "python3"
  },
  "language_info": {
   "codemirror_mode": {
    "name": "ipython",
    "version": 3
   },
   "file_extension": ".py",
   "mimetype": "text/x-python",
   "name": "python",
   "nbconvert_exporter": "python",
   "pygments_lexer": "ipython3",
   "version": "3.6.3"
  }
 },
 "nbformat": 4,
 "nbformat_minor": 2
}
