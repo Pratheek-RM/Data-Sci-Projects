{
 "cells": [
  {
   "cell_type": "markdown",
   "metadata": {},
   "source": [
    "# Stock Trading Scheme"
   ]
  },
  {
   "cell_type": "markdown",
   "metadata": {},
   "source": [
    "#### Importing packages"
   ]
  },
  {
   "cell_type": "code",
   "execution_count": 2,
   "metadata": {
    "collapsed": true
   },
   "outputs": [],
   "source": [
    "import numpy as np\n",
    "import pandas as pd\n",
    "from copy import deepcopy\n",
    "import quandl\n",
    "from stockAnalysisTools import numToString"
   ]
  },
  {
   "cell_type": "markdown",
   "metadata": {},
   "source": [
    "#### The cell below will be used to pull all the stock data we want and make a dictionary for accessing it"
   ]
  },
  {
   "cell_type": "code",
   "execution_count": 27,
   "metadata": {
    "collapsed": true
   },
   "outputs": [],
   "source": [
    "quandl.ApiConfig.api_key = \"d1JcayaRuvKSaq7GaEHs\"\n",
    "aapl = \"aapl\"\n",
    "goog  = \"goog\"\n",
    "stockList = [aapl, goog]\n",
    "finData = dict()\n",
    "\n",
    "for ticker in stockList:\n",
    "    finData[ticker] = quandl.get(\"WIKI/\"+ticker)[\"Adj. Close\"]"
   ]
  },
  {
   "cell_type": "markdown",
   "metadata": {},
   "source": [
    "#### Creating an object to hold portfolio data"
   ]
  },
  {
   "cell_type": "code",
   "execution_count": 37,
   "metadata": {},
   "outputs": [],
   "source": [
    "class Portfolio(object):\n",
    "    names = list()\n",
    "    stocks = list()\n",
    "    uninvestedMoney = 0\n",
    "    \n",
    "    def addStock(self, name):\n",
    "        \n",
    "        if(name not in finData.keys()):\n",
    "            print(\"We haven't pulled up data for this stock, so it can't be added\")\n",
    "            return\n",
    "\n",
    "        self.names.append(name)\n",
    "        self.stocks.append(0)\n",
    "    \n",
    "    def addMoney(self, money):\n",
    "        \n",
    "        self.uninvestedMoney += money\n",
    "        \n",
    "    def reset(self):\n",
    "        self.uninvestedMoney = 0\n",
    "        for i in range(len(self.stocks)):\n",
    "            self.stocks[i] = 0\n",
    "            \n",
    "    def buyStock(self, name, date = 0, price = 0, num = 0, noLimit=True):\n",
    "        if name not in self.names:\n",
    "            print(\"Stock you want to buy isn't in the self\")\n",
    "            print(\"It must be added to the portfolio before you can buy\")\n",
    "            return\n",
    "\n",
    "        if(date == 0):\n",
    "            price_of_stock = price\n",
    "        else:\n",
    "            price_of_stock = finData[name].loc[date+\" 00:00:00\"]\n",
    "\n",
    "        if(noLimit):\n",
    "            numOfStock = self.uninvestedMoney/price_of_stock\n",
    "            self.uninvestedMoney -= numOfStock * price_of_stock\n",
    "            self.stocks[self.names.index(name)] += numOfStock\n",
    "        else:\n",
    "            if(num * price_of_stock() > self.uninvestedMoney):\n",
    "                print(\"Can't buy this much stock\")\n",
    "            else:\n",
    "                self.uninvestedMoney -= num * price_of_stock\n",
    "                self.stocks[self.names.index(name)] += num \n",
    "\n",
    "    def sellStock(self, name, date = 0, price = 0, num = 0, noLimit=True):\n",
    "        if name not in self.names:\n",
    "            print(\"Stock you want to buy isn't in the self\")\n",
    "            print(\"It must be added to the portfolio before you can buy\")\n",
    "            return\n",
    "\n",
    "        if(date == 0):\n",
    "            price_of_stock = price\n",
    "        else:\n",
    "            price_of_stock = finData[name].loc[date+\" 00:00:00\"]\n",
    "\n",
    "        numOfStock = self.stocks[self.names.index(name)]\n",
    "\n",
    "        if(noLimit):\n",
    "            self.stocks[self.names.index(name)] = 0\n",
    "\n",
    "            self.uninvestedMoney += numOfStock * price_of_stock\n",
    "        else:\n",
    "            if(numOfStock - num < 0):\n",
    "                print(\"Can't sell this much stock\")\n",
    "            else:\n",
    "                self.uninvestedMoney += num * price_of_stock\n",
    "                self.stocks[self.names.index(name)] -= num\n",
    "        "
   ]
  },
  {
   "cell_type": "code",
   "execution_count": 7,
   "metadata": {
    "scrolled": true
   },
   "outputs": [
    {
     "name": "stdout",
     "output_type": "stream",
     "text": [
      "Date\n",
      "2001-07-02      1.535742\n",
      "2001-07-03      1.531886\n",
      "2001-07-05      1.490119\n",
      "2001-07-06      1.415581\n",
      "2001-07-09      1.458633\n",
      "2001-07-10      1.358392\n",
      "2001-07-11      1.448352\n",
      "2001-07-12      1.565300\n",
      "2001-07-13      1.596786\n",
      "2001-07-16      1.539597\n",
      "2001-07-17      1.612850\n",
      "2001-07-18      1.335902\n",
      "2001-07-19      1.282569\n",
      "2001-07-20      1.283854\n",
      "2001-07-23      1.255581\n",
      "2001-07-24      1.226666\n",
      "2001-07-25      1.186826\n",
      "2001-07-26      1.194537\n",
      "2001-07-27      1.218312\n",
      "2001-07-30      1.216384\n",
      "2001-07-31      1.207388\n",
      "2001-08-01      1.224738\n",
      "2001-08-02      1.273573\n",
      "2001-08-03      1.253011\n",
      "2001-08-06      1.229236\n",
      "2001-08-07      1.236947\n",
      "2001-08-08      1.214457\n",
      "2001-08-09      1.224095\n",
      "2001-08-10      1.222168\n",
      "2001-08-13      1.226666\n",
      "                 ...    \n",
      "2018-02-13    164.340000\n",
      "2018-02-14    167.370000\n",
      "2018-02-15    172.990000\n",
      "2018-02-16    172.430000\n",
      "2018-02-20    171.850000\n",
      "2018-02-21    171.070000\n",
      "2018-02-22    172.600000\n",
      "2018-02-23    175.555000\n",
      "2018-02-26    178.970000\n",
      "2018-02-27    178.390000\n",
      "2018-02-28    178.120000\n",
      "2018-03-01    175.000000\n",
      "2018-03-02    176.210000\n",
      "2018-03-05    176.820000\n",
      "2018-03-06    176.670000\n",
      "2018-03-07    175.030000\n",
      "2018-03-08    176.940000\n",
      "2018-03-09    179.980000\n",
      "2018-03-12    181.720000\n",
      "2018-03-13    179.970000\n",
      "2018-03-14    178.440000\n",
      "2018-03-15    178.650000\n",
      "2018-03-16    178.020000\n",
      "2018-03-19    175.300000\n",
      "2018-03-20    175.240000\n",
      "2018-03-21    171.270000\n",
      "2018-03-22    168.845000\n",
      "2018-03-23    164.940000\n",
      "2018-03-26    172.770000\n",
      "2018-03-27    168.340000\n",
      "Name: Adj. Close, Length: 4208, dtype: float64\n"
     ]
    }
   ],
   "source": [
    "# aaplAdjClose = aaplData[\"Adj. Close\"]\n",
    "print(finData[\"aapl\"].loc['2001-07-01':'2018-07-01'])"
   ]
  },
  {
   "cell_type": "markdown",
   "metadata": {},
   "source": [
    "#### Creating Portfolio"
   ]
  },
  {
   "cell_type": "code",
   "execution_count": 39,
   "metadata": {
    "collapsed": true
   },
   "outputs": [],
   "source": [
    "my_portfolio = Portfolio()\n",
    "my_portfolio.addStock(aapl)"
   ]
  },
  {
   "cell_type": "code",
   "execution_count": 30,
   "metadata": {
    "scrolled": true
   },
   "outputs": [
    {
     "name": "stdout",
     "output_type": "stream",
     "text": [
      "168.34\n"
     ]
    }
   ],
   "source": [
    "#This cell is used for testing\n",
    "aaplAdjClose = aaplData[\"Adj. Close\"][\"2018-03-27 00:00:00\"]\n",
    "print(aaplAdjClose)\n",
    "# print(aaplAdjClose.keys()[0])"
   ]
  },
  {
   "cell_type": "markdown",
   "metadata": {},
   "source": [
    "#### Simple Trading Strategy"
   ]
  },
  {
   "cell_type": "code",
   "execution_count": 40,
   "metadata": {},
   "outputs": [],
   "source": [
    "#portfolio reset\n",
    "my_portfolio.reset()\n",
    "my_portfolio.addMoney(100)\n",
    "odd = True\n",
    "startDate = '2001-07-01'\n",
    "endDate = '2018-03-27'\n",
    "for adj_price in finData[aapl].loc[startDate: endDate]:\n",
    "    if(odd):\n",
    "        my_portfolio.buyStock(aapl, price = adj_price)\n",
    "    else:\n",
    "        my_portfolio.sellStock(aapl, price = adj_price)\n",
    "        \n",
    "    odd = (not odd)\n",
    "    \n",
    "sellStock(aapl, my_portfolio, date = endDate)"
   ]
  },
  {
   "cell_type": "code",
   "execution_count": 41,
   "metadata": {},
   "outputs": [
    {
     "name": "stdout",
     "output_type": "stream",
     "text": [
      "Value of Investment $355.03061640616050454\n"
     ]
    }
   ],
   "source": [
    "print(\"Value of Investment $\"+ numToString(my_portfolio.uninvestedMoney))"
   ]
  },
  {
   "cell_type": "markdown",
   "metadata": {},
   "source": [
    "#### Rate of Return Series Generated"
   ]
  },
  {
   "cell_type": "code",
   "execution_count": 35,
   "metadata": {},
   "outputs": [
    {
     "name": "stdout",
     "output_type": "stream",
     "text": [
      "aapl\n",
      "Date\n",
      "1980-12-12         NaN\n",
      "1980-12-15   -5.217391\n",
      "1980-12-16   -7.339450\n",
      "1980-12-17    2.455446\n",
      "1980-12-18    2.937766\n",
      "1980-12-19    6.083365\n",
      "1980-12-22    4.884956\n",
      "1980-12-23    4.218697\n",
      "1980-12-24    5.246114\n",
      "1980-12-26    9.230769\n",
      "1980-12-29    1.408451\n",
      "1980-12-30   -2.444444\n",
      "1980-12-31   -2.818907\n",
      "1981-01-02    1.084090\n",
      "1981-01-05   -2.173913\n",
      "1981-01-06   -4.444444\n",
      "1981-01-07   -4.248062\n",
      "1981-01-08   -2.040155\n",
      "1981-01-09    5.388430\n",
      "1981-01-12   -0.815558\n",
      "1981-01-13   -3.542062\n",
      "1981-01-14    0.426230\n",
      "1981-01-15    2.024159\n",
      "1981-01-16   -0.800000\n",
      "1981-01-19    6.032258\n",
      "1981-01-20   -3.011865\n",
      "1981-01-21    1.944793\n",
      "1981-01-22    1.138462\n",
      "1981-01-23   -0.365075\n",
      "1981-01-26   -1.526718\n",
      "                ...   \n",
      "2018-02-13    1.001782\n",
      "2018-02-14    1.843739\n",
      "2018-02-15    3.357830\n",
      "2018-02-16   -0.323718\n",
      "2018-02-20   -0.336368\n",
      "2018-02-21   -0.453884\n",
      "2018-02-22    0.894371\n",
      "2018-02-23    1.712051\n",
      "2018-02-26    1.945259\n",
      "2018-02-27   -0.324077\n",
      "2018-02-28   -0.151354\n",
      "2018-03-01   -1.751628\n",
      "2018-03-02    0.691429\n",
      "2018-03-05    0.346178\n",
      "2018-03-06   -0.084832\n",
      "2018-03-07   -0.928284\n",
      "2018-03-08    1.091242\n",
      "2018-03-09    1.718097\n",
      "2018-03-12    0.966774\n",
      "2018-03-13   -0.963020\n",
      "2018-03-14   -0.850142\n",
      "2018-03-15    0.117687\n",
      "2018-03-16   -0.352645\n",
      "2018-03-19   -1.527918\n",
      "2018-03-20   -0.034227\n",
      "2018-03-21   -2.265465\n",
      "2018-03-22   -1.415893\n",
      "2018-03-23   -2.312772\n",
      "2018-03-26    4.747181\n",
      "2018-03-27   -2.564103\n",
      "Name: Adj. Close, Length: 9400, dtype: float64\n",
      "goog\n",
      "Date\n",
      "2014-03-27         NaN\n",
      "2014-03-28    0.273968\n",
      "2014-03-31   -0.539295\n",
      "2014-04-01    1.829542\n",
      "2014-04-02   -0.028211\n",
      "2014-04-03    0.483245\n",
      "2014-04-04   -4.668796\n",
      "2014-04-07   -0.918732\n",
      "2014-04-08    3.112515\n",
      "2014-04-09    1.665165\n",
      "2014-04-10   -4.110682\n",
      "2014-04-11   -1.913301\n",
      "2014-04-14    0.361855\n",
      "2014-04-15    0.736123\n",
      "2014-04-16    3.746924\n",
      "2014-04-17   -3.672692\n",
      "2014-04-21   -1.395262\n",
      "2014-04-22    1.170973\n",
      "2014-04-23   -1.471551\n",
      "2014-04-24   -0.337799\n",
      "2014-04-25   -1.709955\n",
      "2014-04-28    0.187919\n",
      "2014-04-29    2.040027\n",
      "2014-04-30   -0.197082\n",
      "2014-05-01    0.890518\n",
      "2014-05-02   -0.643644\n",
      "2014-05-05   -0.022730\n",
      "2014-05-06   -2.400485\n",
      "2014-05-07   -1.005552\n",
      "2014-05-08    0.203938\n",
      "                ...   \n",
      "2018-02-13    0.015210\n",
      "2018-02-14    1.672845\n",
      "2018-02-15    1.852856\n",
      "2018-02-16    0.484617\n",
      "2018-02-20    0.699671\n",
      "2018-02-21    0.805471\n",
      "2018-02-22   -0.423813\n",
      "2018-02-23    1.821747\n",
      "2018-02-26    1.505161\n",
      "2018-02-27   -2.226011\n",
      "2018-02-28   -1.212566\n",
      "2018-03-01   -3.187204\n",
      "2018-03-02    0.878899\n",
      "2018-03-05    1.113150\n",
      "2018-03-06    0.378576\n",
      "2018-03-07    1.331434\n",
      "2018-03-08    1.474352\n",
      "2018-03-09    3.023091\n",
      "2018-03-12    0.384470\n",
      "2018-03-13   -2.261056\n",
      "2018-03-14    0.994579\n",
      "2018-03-15    0.007830\n",
      "2018-03-16   -1.204788\n",
      "2018-03-19   -3.161843\n",
      "2018-03-20   -0.191850\n",
      "2018-03-21   -0.622204\n",
      "2018-03-22   -3.831769\n",
      "2018-03-23   -2.622298\n",
      "2018-03-26    3.097194\n",
      "2018-03-27   -4.567940\n",
      "Name: Adj. Close, Length: 1007, dtype: float64\n"
     ]
    }
   ],
   "source": [
    "returnSer = deepcopy(finData)\n",
    "for key in returnSer.keys():\n",
    "    for i in range(len(returnSer[key])-1, 0, -1):\n",
    "        returnSer[key][i] = ((returnSer[key][i]/returnSer[key][i-1]) - 1)*100\n",
    "    \n",
    "    returnSer[key][0] = np.nan\n",
    "    print(key)\n",
    "    print(returnSer[key])\n",
    "        \n",
    "# print(returnSer[aapl])    "
   ]
  },
  {
   "cell_type": "code",
   "execution_count": null,
   "metadata": {
    "collapsed": true
   },
   "outputs": [],
   "source": []
  }
 ],
 "metadata": {
  "kernelspec": {
   "display_name": "Python 3",
   "language": "python",
   "name": "python3"
  }
 },
 "nbformat": 4,
 "nbformat_minor": 2
}
