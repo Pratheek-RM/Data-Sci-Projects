{
 "cells": [
  {
   "cell_type": "code",
   "execution_count": 1,
   "metadata": {
    "collapsed": true
   },
   "outputs": [],
   "source": [
    "import numpy as np\n",
    "import pandas as pd\n",
    "import matplotlib.pyplot as plt\n",
    "from copy import deepcopy\n",
    "import quandl\n",
    "from stockAnalysisTools import numToString\n",
    "from time import time"
   ]
  },
  {
   "cell_type": "markdown",
   "metadata": {},
   "source": [
    "#### The cell below will be used to pull all the stock data we want and make a dictionary for accessing it"
   ]
  },
  {
   "cell_type": "code",
   "execution_count": 2,
   "metadata": {
    "collapsed": true
   },
   "outputs": [],
   "source": [
    "quandl.ApiConfig.api_key = \"d1JcayaRuvKSaq7GaEHs\""
   ]
  },
  {
   "cell_type": "code",
   "execution_count": 3,
   "metadata": {
    "collapsed": true
   },
   "outputs": [],
   "source": [
    "import urllib.request, urllib.parse, urllib.error\n",
    "from bs4 import BeautifulSoup\n",
    "import ssl\n",
    "import re\n",
    "\n",
    "# Ignore SSL certificate errors\n",
    "ctx = ssl.create_default_context()\n",
    "ctx.check_hostname = False\n",
    "ctx.verify_mode = ssl.CERT_NONE\n",
    "\n",
    "url = \"https://en.wikipedia.org/wiki/List_of_S%26P_500_companies\"\n",
    "html = urllib.request.urlopen(url, context=ctx).read()\n",
    "soup = BeautifulSoup(html, 'html.parser')\n",
    "\n",
    "# soup\n",
    "ticker_list = list()\n",
    "for tag in soup('a'):\n",
    "#     print(re.search(r'NyseSymbol|\\S+}', soup))\n",
    "    link = str(tag.get('href', None))\n",
    "#     print(type(link))\n",
    "    if \"https://www.nyse.com/quote/XNYS\" in link:\n",
    "        ticker_list.append(link.rsplit(':')[-1])\n",
    "    elif \"http://www.nasdaq.com/symbol/\" in link:\n",
    "        ticker_list.append(link.rsplit('/')[-1])\n",
    "    \n",
    "\n",
    "# print(ticker_list)\n",
    "# ticker_list.remove('QECx02')\n",
    "# print(len(ticker_list))\n",
    "ticker_list = list(map(lambda x: x.replace('.', '_') if '.' in x else x, ticker_list))\n",
    "# ticker_list"
   ]
  },
  {
   "cell_type": "code",
   "execution_count": 73,
   "metadata": {},
   "outputs": [
    {
     "name": "stdout",
     "output_type": "stream",
     "text": [
      "EVRG\n",
      "JEF\n",
      "Run time: 1867.257 s\n"
     ]
    }
   ],
   "source": [
    "startDate = '2001-07-01'\n",
    "endDate = '2018-07-01'\n",
    "finData = dict()\n",
    "t0 = time()\n",
    "print(\"Couldn't retrieve data for the stocks below, they may not have data available on Quandl.com, \\\n",
    "which is where the data is fetched from\")\n",
    "for ticker in ticker_list:\n",
    "    flag = 0\n",
    "    try:\n",
    "        finData[ticker] = quandl.get(\"WIKI/\"+ticker)[\"Adj. Close\"].loc[startDate:endDate]\n",
    "        flag = 1\n",
    "    except:\n",
    "        if flag == 0:\n",
    "            print(ticker)\n",
    "        \n",
    "print(\"Run time:\", round(time()-t0, 3)/60, \"min\")"
   ]
  },
  {
   "cell_type": "code",
   "execution_count": 153,
   "metadata": {
    "collapsed": true
   },
   "outputs": [],
   "source": [
    "#     #All data will be normalized to start on the indecies of apple, so that when returns are calculated, the math can be done properly\n",
    "aaplIndecies = finData[\"aapl\"].index\n",
    "    \n",
    "def createRollingDF(key):\n",
    "    rollingStat = finData[key].rolling(window=30,center=False).mean().dropna()\n",
    "    rollingStd = finData[key].rolling(window=30,center=False).std().dropna()\n",
    "\n",
    "    rollingStat = rollingStat.reset_index()\n",
    "\n",
    "    rollingStat = rollingStat.rename(index=str, columns={\"Adj. Close\": \"Rolling Mean\"})\n",
    "    rollingStat[\"Std\"] = rollingStd.values\n",
    "    rollingStat[\"Upper Band\"] = rollingStat.apply(lambda row: row[\"Rolling Mean\"] + 2*row[\"Std\"], axis=1)\n",
    "    rollingStat[\"Lower Band\"] = rollingStat.apply(lambda row: row[\"Rolling Mean\"] - 2*row[\"Std\"], axis=1)\n",
    "\n",
    "    rollingStat = rollingStat.set_index(\"Date\")\n",
    "\n",
    "    rollingStat[\"Adj. Close\"] = finData[key]\n",
    "    return rollingStat\n",
    "    \n",
    "def determineBuySell(df):\n",
    "    df = df.reset_index()\n",
    "    bd = df.apply(lambda row: (row[\"Rolling Mean\"] - row[\"Adj. Close\"])/row[\"Std\"] \\\n",
    "                  if row[\"Adj. Close\"] < row[\"Lower Band\"] else 0, axis=1)\n",
    "    sd = df.apply(lambda row: (row[\"Adj. Close\"] - row[\"Rolling Mean\"])/row[\"Std\"] \\\n",
    "                  if row[\"Adj. Close\"] > row[\"Upper Band\"] else 0, axis=1)\n",
    " \n",
    "    ret_df = pd.DataFrame()\n",
    "    ret_df[\"Date\"] = df[\"Date\"]\n",
    "    df = df.set_index(\"Date\")\n",
    " \n",
    "    ret_df[\"Position\"] = bd + sd\n",
    "    ret_df = ret_df.set_index(\"Date\")\n",
    "    ret_df[\"Buy Day\"] = ret_df.apply(lambda row: 1 if row[\"Position\"] > 0 else 0, axis=1)\n",
    "    ret_df[\"Sell Day\"] = ret_df.apply(lambda row: 1 if row[\"Position\"] < 0 else 0, axis=1)\n",
    "#     ret_df[\"Adj. Close\"] = df[\"Adj. Close\"]\n",
    "\n",
    "    ret_df[\"Returns\"] = df[\"Adj. Close\"].pct_change().shift(-1).dropna()\n",
    "#     ret_df[\"Returns\"] = returns *  ret_df[\"Position\"]\n",
    "#     ret_df[\"Returns\"] = ret_df[\"Returns\"].dropna()\n",
    "#     print(aaplIndecies)\n",
    "    ret_df = ret_df.reindex(aaplIndecies)\n",
    "    ret_df = ret_df.fillna(0)\n",
    "    ret_df[\"Returns\"][-1] = np.nan\n",
    "    return ret_df\n",
    "    "
   ]
  },
  {
   "cell_type": "code",
   "execution_count": 94,
   "metadata": {},
   "outputs": [
    {
     "name": "stdout",
     "output_type": "stream",
     "text": [
      "Run time: 8.3409 min\n",
      "Couldn't calculate rolling data for the stocks below, so they are being removed from the findData dictionary:\n"
     ]
    }
   ],
   "source": [
    "rollingDFs = dict()\n",
    "t0 = time()\n",
    "keys_to_rm = list()\n",
    "for key in finData.keys():\n",
    "    flag = 0\n",
    "    try:\n",
    "        rollingDFs[key] = createRollingDF(key)\n",
    "        flag = 1\n",
    "    except:\n",
    "        if flag == 0:\n",
    "            keys_to_rm.append(key)\n",
    "            \n",
    "print(\"Run time:\", round(time()-t0, 3)/60, \"min\")\n",
    "\n",
    "#Keys for some stocks end up getting removed because they cause errors due to\n",
    "#not enough market data being available to calculate a rolling stat over a 30 day period\n",
    "print(\"Couldn't calculate rolling data for the stocks below, so they are being removed from the findData dictionary:\")\n",
    "for key in keys_to_rm:\n",
    "    print(key)\n",
    "#     finData.pop(key, None)"
   ]
  },
  {
   "cell_type": "code",
   "execution_count": 154,
   "metadata": {},
   "outputs": [
    {
     "name": "stdout",
     "output_type": "stream",
     "text": [
      "Run time: 9.152566666666667 min\n",
      "Couldn't calculate return data for the stocks below, so they are being removed from the findData dictionary:\n"
     ]
    }
   ],
   "source": [
    "returnsDFs = dict()\n",
    "t0 = time()\n",
    "keys_to_rm = list()\n",
    "for key in rollingDFs.keys():\n",
    "    flag = 0\n",
    "    try:\n",
    "        returnsDFs[key] = determineBuySell(rollingDFs[key])\n",
    "        flag = 1\n",
    "    except:\n",
    "        if flag == 0:\n",
    "            keys_to_rm.append(key)\n",
    "            \n",
    "print(\"Run time:\", round(time()-t0, 3)/60, \"min\")\n",
    "\n",
    "#Keys for some stocks end up getting removed because they cause errors due to\n",
    "#not enough market data being available to calculate a rolling stat over a 30 day period\n",
    "print(\"Couldn't calculate return data for the stocks below, so they are being removed from the findData dictionary:\")\n",
    "for key in keys_to_rm:\n",
    "    print(key)\n",
    "    finData.pop(key, None)"
   ]
  },
  {
   "cell_type": "code",
   "execution_count": 173,
   "metadata": {
    "scrolled": true
   },
   "outputs": [
    {
     "name": "stdout",
     "output_type": "stream",
     "text": [
      "Run time: 1.492 s\n",
      "Run time: 6.094 s\n"
     ]
    }
   ],
   "source": [
    "dates = dict()\n",
    "comparison_df = pd.DataFrame()\n",
    "flag = True\n",
    "t0 = time()\n",
    "for key in returnsDFs.keys():\n",
    "#     print(key)\n",
    "#     print(returnsDFs[key])\n",
    "#     break\n",
    "    if flag is True:\n",
    "        comparison_df = returnsDFs[key][\"Position\"].to_frame()\n",
    "        comparison_df = comparison_df.rename(index=str, columns={\"Position\": key})\n",
    "        flag = False \n",
    "    else:\n",
    "#         print(key)\n",
    "        comparison_df[key] = returnsDFs[key][\"Position\"]\n",
    "#         print(comparison_df)\n",
    "#         print(returnsDFs[key][\"Position\"].cumsum())\n",
    "#         break\n",
    "#         comparison_df = pd.merge(left = comparison_df, right = returnsDFs[key][\"Position\"].to_frame(), how = 'inner', on = \"Date\")\n",
    "#         comparison_df\n",
    "#         break\n",
    "\n",
    "comparison_df.fillna(0)\n",
    "print(\"Run time:\", round(time()-t0, 3), \"s\")\n",
    "\n",
    "t0 = time()\n",
    "transpose_df = comparison_df.T\n",
    "for date in transpose_df:\n",
    "    dates[date] = transpose_df[date].nlargest(50).index.tolist()\n",
    "print(\"Run time:\", round(time()-t0, 3), \"s\")\n",
    "# print(dates)"
   ]
  },
  {
   "cell_type": "code",
   "execution_count": 188,
   "metadata": {
    "collapsed": true
   },
   "outputs": [],
   "source": [
    "def determineTop50(df, key):\n",
    "    df = df.reset_index()\n",
    "    df[\"Position\"] = df.apply(lambda row: row[\"Buy Day\"] + (-1*row[\"Sell Day\"]) if key in dates[str(row[\"Date\"])] else 0,  axis=1)\n",
    "    df = df.set_index(\"Date\")\n",
    "    return df[\"Position\"]"
   ]
  },
  {
   "cell_type": "code",
   "execution_count": 189,
   "metadata": {},
   "outputs": [
    {
     "name": "stdout",
     "output_type": "stream",
     "text": [
      "Run time: 4.649683333333333 min\n"
     ]
    }
   ],
   "source": [
    "t0 = time()\n",
    "for key in returnsDFs.keys():\n",
    "    returnsDFs[key][\"Position\"] = determineTop50(returnsDFs[key], key)\n",
    "print(\"Run time:\", round(time()-t0, 3)/60, \"min\")"
   ]
  },
  {
   "cell_type": "code",
   "execution_count": 191,
   "metadata": {},
   "outputs": [
    {
     "name": "stdout",
     "output_type": "stream",
     "text": [
      "Run time: 0.206 s\n"
     ]
    }
   ],
   "source": [
    "t0 = time()\n",
    "flag = True\n",
    "for key in returnsDFs.keys():\n",
    "    d = returnsDFs[key]\n",
    "    if flag is True:\n",
    "        ret = d[\"Position\"] * d[\"Returns\"]\n",
    "        flag = False\n",
    "    else:\n",
    "        ret += d[\"Position\"] * d[\"Returns\"]\n",
    "        \n",
    "print(\"Run time:\", round(time()-t0, 3), \"s\")"
   ]
  },
  {
   "cell_type": "markdown",
   "metadata": {},
   "source": [
    "## Sharpe Calculated"
   ]
  },
  {
   "cell_type": "code",
   "execution_count": 193,
   "metadata": {},
   "outputs": [
    {
     "data": {
      "text/plain": [
       "0.03151458791930259"
      ]
     },
     "execution_count": 193,
     "metadata": {},
     "output_type": "execute_result"
    }
   ],
   "source": [
    "ret.mean()/ret.std()"
   ]
  },
  {
   "cell_type": "markdown",
   "metadata": {},
   "source": [
    "## Beta Calculated"
   ]
  },
  {
   "cell_type": "code",
   "execution_count": 227,
   "metadata": {
    "collapsed": true
   },
   "outputs": [],
   "source": [
    "sp500 = quandl.get(\"MULTPL/SP500_REAL_PRICE_MONTH\").loc[startDate:endDate]"
   ]
  },
  {
   "cell_type": "code",
   "execution_count": 216,
   "metadata": {},
   "outputs": [
    {
     "data": {
      "text/plain": [
       "-0.44194293139257651"
      ]
     },
     "execution_count": 216,
     "metadata": {},
     "output_type": "execute_result"
    }
   ],
   "source": [
    "ret.corr(sp500[\"Value\"])"
   ]
  },
  {
   "cell_type": "code",
   "execution_count": 2,
   "metadata": {
    "collapsed": true
   },
   "outputs": [],
   "source": [
    "aapl = \"aapl\"\n",
    "goog  = \"goog\"\n",
    "stockList = [aapl, goog]\n",
    "finData = dict()\n",
    "\n",
    "for ticker in stockList:\n",
    "    finData[ticker] = quandl.get(\"WIKI/\"+ticker)[\"Adj. Close\"]"
   ]
  },
  {
   "cell_type": "code",
   "execution_count": 66,
   "metadata": {
    "collapsed": true
   },
   "outputs": [],
   "source": [
    "class Stock(object):\n",
    "    \n",
    "    def __init__(self, name):\n",
    "        self.name = name\n",
    "        self.percentage = 0.0\n",
    "        \n",
    "    def set_portfolio_percentage(self, val):\n",
    "        self.percentage = val/100.0\n",
    "#         if val > 100.0 or val < 0.0:\n",
    "#             print(\"Invalid value. A stock can only occupy between 0 - 100 percent of a portfolio\")\n",
    "#         else:\n",
    "#             self.percentage = val/100.0\\\n",
    "\n",
    "        \n",
    "            "
   ]
  },
  {
   "cell_type": "code",
   "execution_count": 68,
   "metadata": {
    "collapsed": true
   },
   "outputs": [],
   "source": [
    "class Portfolio(object):\n",
    "    stocks = list()\n",
    "    uninvestedMoney = 0\n",
    "    \n",
    "    def addStock(self, stock):\n",
    "        \n",
    "        if(stock.name not in finData.keys()):\n",
    "            print(\"We haven't pulled up data for this stock, so it can't be added\")\n",
    "            return\n",
    "        \n",
    "        self.stocks.append(stock)\n",
    "    \n",
    "    def addMoney(self, money):\n",
    "        \n",
    "        self.uninvestedMoney += money\n",
    "        \n",
    "    def reset(self):\n",
    "        self.uninvestedMoney = 0\n",
    "        if len(self.stocks) != 0:\n",
    "            self.stocks = []\n",
    "            \n",
    "    def validity_check(self):\n",
    "        sum_of_percentage = 0.0\n",
    "        for stock in self.stocks:\n",
    "            sum_of_percentage += stock.percentage\n",
    "            \n",
    "        if(sum_of_percentage == 1):\n",
    "            return True\n",
    "        else:\n",
    "            return False"
   ]
  },
  {
   "cell_type": "markdown",
   "metadata": {},
   "source": [
    "#### Creating Portfolio"
   ]
  },
  {
   "cell_type": "code",
   "execution_count": 69,
   "metadata": {},
   "outputs": [
    {
     "name": "stdout",
     "output_type": "stream",
     "text": [
      "Portfolio Valid\n"
     ]
    }
   ],
   "source": [
    "my_portfolio = Portfolio()\n",
    "my_portfolio.addMoney(100)\n",
    "aapl = Stock(\"aapl\")\n",
    "aapl.set_portfolio_percentage(50)\n",
    "goog = Stock(\"goog\")\n",
    "goog.set_portfolio_percentage(50)\n",
    "my_portfolio.addStock(aapl)\n",
    "my_portfolio.addStock(goog)\n",
    "\n",
    "if my_portfolio.validity_check():\n",
    "    print(\"Portfolio Valid\")\n",
    "else:\n",
    "    print(\"Not Valid\")"
   ]
  },
  {
   "cell_type": "markdown",
   "metadata": {},
   "source": [
    "#### Simple Trading Strategy per 30 days"
   ]
  },
  {
   "cell_type": "code",
   "execution_count": 39,
   "metadata": {
    "collapsed": true
   },
   "outputs": [],
   "source": [
    "startDate = '2001-07-01'\n",
    "endDate = '2018-07-01'\n",
    "\n",
    "aaplReturn = finData[aapl.name].loc[startDate: endDate].pct_change().shift(-1).dropna()\n",
    "aaplSharpe = aaplReturn.mean()/aaplReturn.std()\n",
    "aaplRollingStat = finData[aapl.name].loc[startDate: endDate].rolling(window=30,center=False).mean().dropna()\n",
    "aaplRollingStd = finData[aapl.name].loc[startDate: endDate].rolling(window=30,center=False).std().dropna()\n",
    "\n",
    "aaplRollingStat = aaplRollingStat.reset_index()\n",
    "\n",
    "aaplRollingStat = aaplRollingStat.rename(index=str, columns={\"Adj. Close\": \"Rolling Mean\"})\n",
    "aaplRollingStat[\"Std\"] = aaplRollingStd.values\n",
    "aaplRollingStat[\"Upper Band\"] = aaplRollingStat.apply(lambda row: row[\"Rolling Mean\"] + 2*row[\"Std\"], axis=1)\n",
    "aaplRollingStat[\"Lower Band\"] = aaplRollingStat.apply(lambda row: row[\"Rolling Mean\"] - 2*row[\"Std\"], axis=1)\n",
    "\n",
    "aaplRollingStat = aaplRollingStat.set_index(\"Date\")\n",
    "\n",
    "aaplRollingStat[\"Adj. Close\"] = finData[aapl.name].loc[aaplRollingStat.index[0]:aaplRollingStat.index[-1]].values"
   ]
  },
  {
   "cell_type": "code",
   "execution_count": 40,
   "metadata": {
    "collapsed": true
   },
   "outputs": [],
   "source": [
    "startDate = '2001-07-01'\n",
    "endDate = '2018-07-01'\n",
    "\n",
    "googReturn = finData[goog.name].loc[startDate: endDate].pct_change().shift(-1).dropna()\n",
    "googSharpe = googReturn.mean()/googReturn.std()\n",
    "googRollingStat = finData[goog.name].loc[startDate: endDate].rolling(window=30,center=False).mean().dropna()\n",
    "googRollingStd = finData[goog.name].loc[startDate: endDate].rolling(window=30,center=False).std().dropna()\n",
    "\n",
    "googRollingStat = googRollingStat.reset_index()\n",
    "\n",
    "googRollingStat = googRollingStat.rename(index=str, columns={\"Adj. Close\": \"Rolling Mean\"})\n",
    "googRollingStat[\"Std\"] = googRollingStd.values\n",
    "googRollingStat[\"Upper Band\"] = googRollingStat.apply(lambda row: row[\"Rolling Mean\"] + 2*row[\"Std\"], axis=1)\n",
    "googRollingStat[\"Lower Band\"] = googRollingStat.apply(lambda row: row[\"Rolling Mean\"] - 2*row[\"Std\"], axis=1)\n",
    "\n",
    "googRollingStat = googRollingStat.set_index(\"Date\")\n",
    "\n",
    "googRollingStat[\"Adj. Close\"] = finData[goog.name].loc[googRollingStat.index[0]:googRollingStat.index[-1]].values"
   ]
  },
  {
   "cell_type": "markdown",
   "metadata": {},
   "source": [
    "## Stratagey In Practice"
   ]
  },
  {
   "cell_type": "markdown",
   "metadata": {},
   "source": [
    "##### Longs only"
   ]
  },
  {
   "cell_type": "code",
   "execution_count": 54,
   "metadata": {
    "collapsed": true
   },
   "outputs": [],
   "source": [
    "aaplRollingStat = aaplRollingStat.reset_index()\n",
    "\n",
    "aaplRollingStat[\"Buy Day\"] = aaplRollingStat.apply(lambda row: 1 if row[\"Adj. Close\"] < row[\"Lower Band\"] else 0, axis=1)\n",
    "aaplRollingStat[\"Sell Day\"] = aaplRollingStat.apply(lambda row: 1 if row[\"Adj. Close\"] > row[\"Upper Band\"] else 0, axis=1)\n",
    "    \n",
    "\n",
    "aaplRollingStat = aaplRollingStat.set_index(\"Date\")\n",
    "\n",
    "\n",
    "return_aapl = pd.DataFrame()\n",
    "return_aapl[\"Position\"] =aaplRollingStat[\"Buy Day\"]\n",
    "return_aapl[\"Adj. Close\"] = aaplRollingStat[\"Adj. Close\"]\n",
    "\n",
    "return_aapl[\"Returns\"] = aaplReturn *  return_aapl[\"Position\"]\n",
    "return_aapl[\"Returns\"] = return_aapl[\"Returns\"].dropna()"
   ]
  },
  {
   "cell_type": "code",
   "execution_count": 55,
   "metadata": {
    "collapsed": true
   },
   "outputs": [],
   "source": [
    "googRollingStat = googRollingStat.reset_index()\n",
    "\n",
    "googRollingStat[\"Buy Day\"] = googRollingStat.apply(lambda row: 1 if row[\"Adj. Close\"] < row[\"Lower Band\"] else 0, axis=1)\n",
    "googRollingStat[\"Sell Day\"] = googRollingStat.apply(lambda row: 1 if row[\"Adj. Close\"] > row[\"Upper Band\"] else 0, axis=1)\n",
    "    \n",
    "\n",
    "googRollingStat = googRollingStat.set_index(\"Date\")\n",
    "\n",
    "\n",
    "return_goog = pd.DataFrame()\n",
    "return_goog[\"Position\"] =googRollingStat[\"Buy Day\"]\n",
    "return_goog[\"Adj. Close\"] = googRollingStat[\"Adj. Close\"]\n",
    "\n",
    "return_goog[\"Returns\"] = googReturn *  return_goog[\"Position\"]\n",
    "return_goog[\"Returns\"] = return_goog[\"Returns\"].dropna()\n",
    "\n",
    "#Done to match aapl's data\n",
    "return_goog = return_goog.reindex(return_aapl.index)\n",
    "return_goog[\"Returns\"] = return_goog[\"Returns\"].replace(np.nan, 0)\n",
    "return_goog[\"Returns\"][-1] = np.nan"
   ]
  },
  {
   "cell_type": "code",
   "execution_count": 56,
   "metadata": {},
   "outputs": [
    {
     "data": {
      "image/png": "[encoded data removed]",
      "text/plain": [
       "<matplotlib.figure.Figure at 0x2b0d7c4a780>"
      ]
     },
     "metadata": {},
     "output_type": "display_data"
    },
    {
     "name": "stdout",
     "output_type": "stream",
     "text": [
      "Percent return of the portfolio:  1.60321389529\n",
      "Sharpe of this stratagey: 0.037442399544633034\n"
     ]
    }
   ],
   "source": [
    "returns = (return_aapl[\"Returns\"]*aapl.percentage) + (return_goog[\"Returns\"]*goog.percentage)\n",
    "ret_plt =  returns.plot()\n",
    "plt.show()\n",
    "\n",
    "list_of_returns = list()\n",
    "list_of_returns.append(((1+return_aapl[\"Returns\"]).dropna()).cumprod()[-1])\n",
    "list_of_returns.append(((1+return_goog[\"Returns\"]).dropna()).cumprod()[-1])\n",
    "print(\"Percent return of the portfolio: \", sum(list_of_returns)/len(list_of_returns))\n",
    "\n",
    "ret_sharpe = returns.mean()/returns.std()\n",
    "print(\"Sharpe of this stratagey:\", ret_sharpe)"
   ]
  },
  {
   "cell_type": "markdown",
   "metadata": {},
   "source": [
    "##### Shorts and Longs"
   ]
  },
  {
   "cell_type": "code",
   "execution_count": 57,
   "metadata": {},
   "outputs": [
    {
     "data": {
      "image/png": "[encoded data removed]",
      "text/plain": [
       "<matplotlib.figure.Figure at 0x2b0d76767f0>"
      ]
     },
     "metadata": {},
     "output_type": "display_data"
    },
    {
     "name": "stdout",
     "output_type": "stream",
     "text": [
      "Percent return of the portfolio:  0.959386028284\n",
      "Sharpe of this stratagey: 0.0014593536878933062\n"
     ]
    }
   ],
   "source": [
    "aaplRollingStat = aaplRollingStat.reset_index()\n",
    "\n",
    "aaplRollingStat[\"Buy Day\"] = aaplRollingStat.apply(lambda row: 1 if row[\"Adj. Close\"] < row[\"Lower Band\"] else 0, axis=1)\n",
    "aaplRollingStat[\"Sell Day\"] = aaplRollingStat.apply(lambda row: 1 if row[\"Adj. Close\"] > row[\"Upper Band\"] else 0, axis=1)\n",
    "    \n",
    "\n",
    "aaplRollingStat = aaplRollingStat.set_index(\"Date\")\n",
    "\n",
    "\n",
    "return_aapl = pd.DataFrame()\n",
    "return_aapl[\"Position\"] = aaplRollingStat[\"Buy Day\"] + (-1*aaplRollingStat[\"Sell Day\"])\n",
    "return_aapl[\"Adj. Close\"] = aaplRollingStat[\"Adj. Close\"]\n",
    "\n",
    "return_aapl[\"Returns\"] = aaplReturn *  return_aapl[\"Position\"]\n",
    "return_aapl[\"Returns\"] = return_aapl[\"Returns\"].dropna()\n",
    "\n",
    "googRollingStat = googRollingStat.reset_index()\n",
    "\n",
    "googRollingStat[\"Buy Day\"] = googRollingStat.apply(lambda row: 1 if row[\"Adj. Close\"] < row[\"Lower Band\"] else 0, axis=1)\n",
    "googRollingStat[\"Sell Day\"] = googRollingStat.apply(lambda row: 1 if row[\"Adj. Close\"] > row[\"Upper Band\"] else 0, axis=1)\n",
    "    \n",
    "\n",
    "googRollingStat = googRollingStat.set_index(\"Date\")\n",
    "\n",
    "\n",
    "return_goog = pd.DataFrame()\n",
    "return_goog[\"Position\"] =googRollingStat[\"Buy Day\"] + (-1*googRollingStat[\"Sell Day\"])\n",
    "return_goog[\"Adj. Close\"] = googRollingStat[\"Adj. Close\"]\n",
    "\n",
    "return_goog[\"Returns\"] = googReturn *  return_goog[\"Position\"]\n",
    "return_goog[\"Returns\"] = return_goog[\"Returns\"].dropna()\n",
    "\n",
    "#Done to match aapl's data\n",
    "return_goog = return_goog.reindex(return_aapl.index)\n",
    "return_goog[\"Returns\"] = return_goog[\"Returns\"].replace(np.nan, 0)\n",
    "return_goog[\"Returns\"][-1] = np.nan\n",
    "\n",
    "returns = (return_aapl[\"Returns\"]*aapl.percentage) + (return_goog[\"Returns\"]*goog.percentage)\n",
    "ret_plt =  returns.plot()\n",
    "plt.show()\n",
    "\n",
    "list_of_returns = list()\n",
    "list_of_returns.append(((1+return_aapl[\"Returns\"]).dropna()).cumprod()[-1])\n",
    "list_of_returns.append(((1+return_goog[\"Returns\"]).dropna()).cumprod()[-1])\n",
    "print(\"Percent return of the portfolio: \", sum(list_of_returns)/len(list_of_returns))\n",
    "\n",
    "ret_sharpe = returns.mean()/returns.std()\n",
    "print(\"Sharpe of this stratagey:\", ret_sharpe)"
   ]
  },
  {
   "cell_type": "code",
   "execution_count": null,
   "metadata": {
    "collapsed": true
   },
   "outputs": [],
   "source": []
  }
 ],
 "metadata": {
  "kernelspec": {
   "display_name": "Python 3",
   "language": "python",
   "name": "python3"
  },
  "language_info": {
   "codemirror_mode": {
    "name": "ipython",
    "version": 3
   },
   "file_extension": ".py",
   "mimetype": "text/x-python",
   "name": "python",
   "nbconvert_exporter": "python",
   "pygments_lexer": "ipython3",
   "version": "3.6.3"
  }
 },
 "nbformat": 4,
 "nbformat_minor": 2
}
