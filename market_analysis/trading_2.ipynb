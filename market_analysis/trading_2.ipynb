{
 "cells": [
  {
   "cell_type": "code",
   "execution_count": 1,
   "metadata": {
    "collapsed": true
   },
   "outputs": [],
   "source": [
    "import numpy as np\n",
    "import pandas as pd\n",
    "import matplotlib.pyplot as plt\n",
    "import quandl\n",
    "from itertools import permutations\n",
    "from time import time\n",
    "from stockAnalysisTools import numToString"
   ]
  },
  {
   "cell_type": "markdown",
   "metadata": {},
   "source": [
    "#### The cell below will be used to pull all the stock data we want and make a dictionary for accessing it"
   ]
  },
  {
   "cell_type": "code",
   "execution_count": 2,
   "metadata": {},
   "outputs": [
    {
     "name": "stdout",
     "output_type": "stream",
     "text": [
      "Run time: 9.577 s\n"
     ]
    }
   ],
   "source": [
    "quandl.ApiConfig.api_key = \"d1JcayaRuvKSaq7GaEHs\"\n",
    "aapl = \"aapl\"\n",
    "goog  = \"goog\"\n",
    "msft = \"msft\"\n",
    "amzn = \"amzn\"\n",
    "stockList = [aapl, goog, msft, amzn]\n",
    "finData = dict()\n",
    "\n",
    "t0 = time()\n",
    "\n",
    "for ticker in stockList:\n",
    "    finData[ticker] = quandl.get(\"WIKI/\"+ticker)[\"Adj. Close\"]\n",
    "    \n",
    "print(\"Run time:\", round(time()-t0, 3), \"s\")"
   ]
  },
  {
   "cell_type": "code",
   "execution_count": 3,
   "metadata": {
    "collapsed": true
   },
   "outputs": [],
   "source": [
    "class Stock(object):\n",
    "    \n",
    "    def __init__(self, name):\n",
    "        self.name = name\n",
    "        self.percentage = 0.0\n",
    "        \n",
    "    def set_portfolio_percentage(self, val):\n",
    "        self.percentage = val/100.0"
   ]
  },
  {
   "cell_type": "code",
   "execution_count": 4,
   "metadata": {
    "collapsed": true
   },
   "outputs": [],
   "source": [
    "class Portfolio(object):\n",
    "    stocks = list()\n",
    "    uninvestedMoney = 0\n",
    "    \n",
    "    def addStock(self, stock):\n",
    "        \n",
    "        if(stock.name not in finData.keys()):\n",
    "            print(\"We haven't pulled up data for this stock, so it can't be added\")\n",
    "            return\n",
    "        \n",
    "        self.stocks.append(stock)\n",
    "    \n",
    "    def addMoney(self, money):\n",
    "        \n",
    "        self.uninvestedMoney += money\n",
    "        \n",
    "    def reset(self):\n",
    "        self.uninvestedMoney = 0\n",
    "        if len(self.stocks) != 0:\n",
    "            self.stocks = []\n",
    "            \n",
    "    def validity_check(self):\n",
    "        sum_of_percentage = 0.0\n",
    "        for stock in self.stocks:\n",
    "            sum_of_percentage += stock.percentage\n",
    "            \n",
    "        if(sum_of_percentage == 1):\n",
    "            return True\n",
    "        else:\n",
    "            return False"
   ]
  },
  {
   "cell_type": "markdown",
   "metadata": {},
   "source": [
    "#### Creating Portfolio"
   ]
  },
  {
   "cell_type": "code",
   "execution_count": 5,
   "metadata": {
    "collapsed": true
   },
   "outputs": [],
   "source": [
    "my_portfolio = Portfolio()\n",
    "my_portfolio.addMoney(100)\n",
    "aapl = Stock(\"aapl\")\n",
    "goog = Stock(\"goog\")\n",
    "msft = Stock(\"msft\")\n",
    "amzn = Stock(\"amzn\")\n",
    "my_portfolio.addStock(aapl)\n",
    "my_portfolio.addStock(goog)\n",
    "my_portfolio.addStock(msft)\n",
    "my_portfolio.addStock(amzn)"
   ]
  },
  {
   "cell_type": "markdown",
   "metadata": {},
   "source": [
    "### Combinations Generated"
   ]
  },
  {
   "cell_type": "code",
   "execution_count": 52,
   "metadata": {},
   "outputs": [
    {
     "name": "stdout",
     "output_type": "stream",
     "text": [
      "Run time: 28.635 s\n"
     ]
    }
   ],
   "source": [
    "#creating possible values of the combination of stock weights\n",
    "list_of_values = []\n",
    "# for i in range(101):\n",
    "#     for j in range(4):\n",
    "#         list_of_values.append(i)\n",
    "        \n",
    "# perm = permutations(list_of_values, len(my_portfolio.stocks))\n",
    "t0 = time()\n",
    "for i in range(101):\n",
    "    for j in range(101):\n",
    "        for k in range(101):\n",
    "            for l in range(101):\n",
    "                \n",
    "                if(i+j+k+l == 100):\n",
    "                    list_of_values.append((i,j,k,l))\n",
    "print(\"Run time:\", round(time()-t0, 3), \"s\")"
   ]
  },
  {
   "cell_type": "code",
   "execution_count": 20,
   "metadata": {},
   "outputs": [
    {
     "name": "stdout",
     "output_type": "stream",
     "text": [
      "176851\n"
     ]
    }
   ],
   "source": [
    "print(len(list_of_values))"
   ]
  },
  {
   "cell_type": "markdown",
   "metadata": {},
   "source": [
    "### Calculating Rolling Stats"
   ]
  },
  {
   "cell_type": "code",
   "execution_count": 12,
   "metadata": {
    "scrolled": true
   },
   "outputs": [
    {
     "data": {
      "text/html": [
       "<div>\n",
       "<style>\n",
       "    .dataframe thead tr:only-child th {\n",
       "        text-align: right;\n",
       "    }\n",
       "\n",
       "    .dataframe thead th {\n",
       "        text-align: left;\n",
       "    }\n",
       "\n",
       "    .dataframe tbody tr th {\n",
       "        vertical-align: top;\n",
       "    }\n",
       "</style>\n",
       "<table border=\"1\" class=\"dataframe\">\n",
       "  <thead>\n",
       "    <tr style=\"text-align: right;\">\n",
       "      <th></th>\n",
       "      <th>Adj. Close</th>\n",
       "    </tr>\n",
       "    <tr>\n",
       "      <th>Date</th>\n",
       "      <th></th>\n",
       "    </tr>\n",
       "  </thead>\n",
       "  <tbody>\n",
       "    <tr>\n",
       "      <th>2001-08-13</th>\n",
       "      <td>1.226666</td>\n",
       "    </tr>\n",
       "    <tr>\n",
       "      <th>2001-08-14</th>\n",
       "      <td>1.203533</td>\n",
       "    </tr>\n",
       "    <tr>\n",
       "      <th>2001-08-15</th>\n",
       "      <td>1.184899</td>\n",
       "    </tr>\n",
       "    <tr>\n",
       "      <th>2001-08-16</th>\n",
       "      <td>1.198392</td>\n",
       "    </tr>\n",
       "    <tr>\n",
       "      <th>2001-08-17</th>\n",
       "      <td>1.161123</td>\n",
       "    </tr>\n",
       "    <tr>\n",
       "      <th>2001-08-20</th>\n",
       "      <td>1.164336</td>\n",
       "    </tr>\n",
       "    <tr>\n",
       "      <th>2001-08-21</th>\n",
       "      <td>1.151485</td>\n",
       "    </tr>\n",
       "    <tr>\n",
       "      <th>2001-08-22</th>\n",
       "      <td>1.170119</td>\n",
       "    </tr>\n",
       "    <tr>\n",
       "      <th>2001-08-23</th>\n",
       "      <td>1.144417</td>\n",
       "    </tr>\n",
       "    <tr>\n",
       "      <th>2001-08-24</th>\n",
       "      <td>1.193252</td>\n",
       "    </tr>\n",
       "    <tr>\n",
       "      <th>2001-08-27</th>\n",
       "      <td>1.215742</td>\n",
       "    </tr>\n",
       "    <tr>\n",
       "      <th>2001-08-28</th>\n",
       "      <td>1.182328</td>\n",
       "    </tr>\n",
       "    <tr>\n",
       "      <th>2001-08-29</th>\n",
       "      <td>1.145702</td>\n",
       "    </tr>\n",
       "    <tr>\n",
       "      <th>2001-08-30</th>\n",
       "      <td>1.145702</td>\n",
       "    </tr>\n",
       "    <tr>\n",
       "      <th>2001-08-31</th>\n",
       "      <td>1.191967</td>\n",
       "    </tr>\n",
       "    <tr>\n",
       "      <th>2001-09-04</th>\n",
       "      <td>1.172690</td>\n",
       "    </tr>\n",
       "    <tr>\n",
       "      <th>2001-09-05</th>\n",
       "      <td>1.191967</td>\n",
       "    </tr>\n",
       "    <tr>\n",
       "      <th>2001-09-06</th>\n",
       "      <td>1.138633</td>\n",
       "    </tr>\n",
       "    <tr>\n",
       "      <th>2001-09-07</th>\n",
       "      <td>1.110360</td>\n",
       "    </tr>\n",
       "    <tr>\n",
       "      <th>2001-09-10</th>\n",
       "      <td>1.116144</td>\n",
       "    </tr>\n",
       "    <tr>\n",
       "      <th>2001-09-17</th>\n",
       "      <td>1.091726</td>\n",
       "    </tr>\n",
       "    <tr>\n",
       "      <th>2001-09-18</th>\n",
       "      <td>1.046103</td>\n",
       "    </tr>\n",
       "    <tr>\n",
       "      <th>2001-09-19</th>\n",
       "      <td>1.093654</td>\n",
       "    </tr>\n",
       "    <tr>\n",
       "      <th>2001-09-20</th>\n",
       "      <td>1.007549</td>\n",
       "    </tr>\n",
       "    <tr>\n",
       "      <th>2001-09-21</th>\n",
       "      <td>1.010762</td>\n",
       "    </tr>\n",
       "    <tr>\n",
       "      <th>2001-09-24</th>\n",
       "      <td>1.057027</td>\n",
       "    </tr>\n",
       "    <tr>\n",
       "      <th>2001-09-25</th>\n",
       "      <td>0.998553</td>\n",
       "    </tr>\n",
       "    <tr>\n",
       "      <th>2001-09-26</th>\n",
       "      <td>0.973493</td>\n",
       "    </tr>\n",
       "    <tr>\n",
       "      <th>2001-09-27</th>\n",
       "      <td>0.996626</td>\n",
       "    </tr>\n",
       "    <tr>\n",
       "      <th>2001-09-28</th>\n",
       "      <td>0.996626</td>\n",
       "    </tr>\n",
       "    <tr>\n",
       "      <th>...</th>\n",
       "      <td>...</td>\n",
       "    </tr>\n",
       "    <tr>\n",
       "      <th>2018-02-13</th>\n",
       "      <td>164.340000</td>\n",
       "    </tr>\n",
       "    <tr>\n",
       "      <th>2018-02-14</th>\n",
       "      <td>167.370000</td>\n",
       "    </tr>\n",
       "    <tr>\n",
       "      <th>2018-02-15</th>\n",
       "      <td>172.990000</td>\n",
       "    </tr>\n",
       "    <tr>\n",
       "      <th>2018-02-16</th>\n",
       "      <td>172.430000</td>\n",
       "    </tr>\n",
       "    <tr>\n",
       "      <th>2018-02-20</th>\n",
       "      <td>171.850000</td>\n",
       "    </tr>\n",
       "    <tr>\n",
       "      <th>2018-02-21</th>\n",
       "      <td>171.070000</td>\n",
       "    </tr>\n",
       "    <tr>\n",
       "      <th>2018-02-22</th>\n",
       "      <td>172.600000</td>\n",
       "    </tr>\n",
       "    <tr>\n",
       "      <th>2018-02-23</th>\n",
       "      <td>175.555000</td>\n",
       "    </tr>\n",
       "    <tr>\n",
       "      <th>2018-02-26</th>\n",
       "      <td>178.970000</td>\n",
       "    </tr>\n",
       "    <tr>\n",
       "      <th>2018-02-27</th>\n",
       "      <td>178.390000</td>\n",
       "    </tr>\n",
       "    <tr>\n",
       "      <th>2018-02-28</th>\n",
       "      <td>178.120000</td>\n",
       "    </tr>\n",
       "    <tr>\n",
       "      <th>2018-03-01</th>\n",
       "      <td>175.000000</td>\n",
       "    </tr>\n",
       "    <tr>\n",
       "      <th>2018-03-02</th>\n",
       "      <td>176.210000</td>\n",
       "    </tr>\n",
       "    <tr>\n",
       "      <th>2018-03-05</th>\n",
       "      <td>176.820000</td>\n",
       "    </tr>\n",
       "    <tr>\n",
       "      <th>2018-03-06</th>\n",
       "      <td>176.670000</td>\n",
       "    </tr>\n",
       "    <tr>\n",
       "      <th>2018-03-07</th>\n",
       "      <td>175.030000</td>\n",
       "    </tr>\n",
       "    <tr>\n",
       "      <th>2018-03-08</th>\n",
       "      <td>176.940000</td>\n",
       "    </tr>\n",
       "    <tr>\n",
       "      <th>2018-03-09</th>\n",
       "      <td>179.980000</td>\n",
       "    </tr>\n",
       "    <tr>\n",
       "      <th>2018-03-12</th>\n",
       "      <td>181.720000</td>\n",
       "    </tr>\n",
       "    <tr>\n",
       "      <th>2018-03-13</th>\n",
       "      <td>179.970000</td>\n",
       "    </tr>\n",
       "    <tr>\n",
       "      <th>2018-03-14</th>\n",
       "      <td>178.440000</td>\n",
       "    </tr>\n",
       "    <tr>\n",
       "      <th>2018-03-15</th>\n",
       "      <td>178.650000</td>\n",
       "    </tr>\n",
       "    <tr>\n",
       "      <th>2018-03-16</th>\n",
       "      <td>178.020000</td>\n",
       "    </tr>\n",
       "    <tr>\n",
       "      <th>2018-03-19</th>\n",
       "      <td>175.300000</td>\n",
       "    </tr>\n",
       "    <tr>\n",
       "      <th>2018-03-20</th>\n",
       "      <td>175.240000</td>\n",
       "    </tr>\n",
       "    <tr>\n",
       "      <th>2018-03-21</th>\n",
       "      <td>171.270000</td>\n",
       "    </tr>\n",
       "    <tr>\n",
       "      <th>2018-03-22</th>\n",
       "      <td>168.845000</td>\n",
       "    </tr>\n",
       "    <tr>\n",
       "      <th>2018-03-23</th>\n",
       "      <td>164.940000</td>\n",
       "    </tr>\n",
       "    <tr>\n",
       "      <th>2018-03-26</th>\n",
       "      <td>172.770000</td>\n",
       "    </tr>\n",
       "    <tr>\n",
       "      <th>2018-03-27</th>\n",
       "      <td>168.340000</td>\n",
       "    </tr>\n",
       "  </tbody>\n",
       "</table>\n",
       "<p>4179 rows × 1 columns</p>\n",
       "</div>"
      ],
      "text/plain": [
       "            Adj. Close\n",
       "Date                  \n",
       "2001-08-13    1.226666\n",
       "2001-08-14    1.203533\n",
       "2001-08-15    1.184899\n",
       "2001-08-16    1.198392\n",
       "2001-08-17    1.161123\n",
       "2001-08-20    1.164336\n",
       "2001-08-21    1.151485\n",
       "2001-08-22    1.170119\n",
       "2001-08-23    1.144417\n",
       "2001-08-24    1.193252\n",
       "2001-08-27    1.215742\n",
       "2001-08-28    1.182328\n",
       "2001-08-29    1.145702\n",
       "2001-08-30    1.145702\n",
       "2001-08-31    1.191967\n",
       "2001-09-04    1.172690\n",
       "2001-09-05    1.191967\n",
       "2001-09-06    1.138633\n",
       "2001-09-07    1.110360\n",
       "2001-09-10    1.116144\n",
       "2001-09-17    1.091726\n",
       "2001-09-18    1.046103\n",
       "2001-09-19    1.093654\n",
       "2001-09-20    1.007549\n",
       "2001-09-21    1.010762\n",
       "2001-09-24    1.057027\n",
       "2001-09-25    0.998553\n",
       "2001-09-26    0.973493\n",
       "2001-09-27    0.996626\n",
       "2001-09-28    0.996626\n",
       "...                ...\n",
       "2018-02-13  164.340000\n",
       "2018-02-14  167.370000\n",
       "2018-02-15  172.990000\n",
       "2018-02-16  172.430000\n",
       "2018-02-20  171.850000\n",
       "2018-02-21  171.070000\n",
       "2018-02-22  172.600000\n",
       "2018-02-23  175.555000\n",
       "2018-02-26  178.970000\n",
       "2018-02-27  178.390000\n",
       "2018-02-28  178.120000\n",
       "2018-03-01  175.000000\n",
       "2018-03-02  176.210000\n",
       "2018-03-05  176.820000\n",
       "2018-03-06  176.670000\n",
       "2018-03-07  175.030000\n",
       "2018-03-08  176.940000\n",
       "2018-03-09  179.980000\n",
       "2018-03-12  181.720000\n",
       "2018-03-13  179.970000\n",
       "2018-03-14  178.440000\n",
       "2018-03-15  178.650000\n",
       "2018-03-16  178.020000\n",
       "2018-03-19  175.300000\n",
       "2018-03-20  175.240000\n",
       "2018-03-21  171.270000\n",
       "2018-03-22  168.845000\n",
       "2018-03-23  164.940000\n",
       "2018-03-26  172.770000\n",
       "2018-03-27  168.340000\n",
       "\n",
       "[4179 rows x 1 columns]"
      ]
     },
     "execution_count": 12,
     "metadata": {},
     "output_type": "execute_result"
    }
   ],
   "source": [
    "startDate = '2001-07-01'\n",
    "endDate = '2018-07-01'\n",
    "\n",
    "aaplReturn = finData[aapl.name].loc[startDate: endDate].pct_change().shift(-1).dropna()\n",
    "aaplRollingStat = finData[aapl.name].loc[startDate: endDate].rolling(window=30,center=False).mean().dropna()\n",
    "aaplRollingStd = finData[aapl.name].loc[startDate: endDate].rolling(window=30,center=False).std().dropna()\n",
    "\n",
    "aaplRollingStat = aaplRollingStat.reset_index()\n",
    "\n",
    "aaplRollingStat = aaplRollingStat.rename(index=str, columns={\"Adj. Close\": \"Rolling Mean\"})\n",
    "aaplRollingStat[\"Std\"] = aaplRollingStd.values\n",
    "aaplRollingStat[\"Upper Band\"] = aaplRollingStat.apply(lambda row: row[\"Rolling Mean\"] + 2*row[\"Std\"], axis=1)\n",
    "aaplRollingStat[\"Lower Band\"] = aaplRollingStat.apply(lambda row: row[\"Rolling Mean\"] - 2*row[\"Std\"], axis=1)\n",
    "\n",
    "aaplRollingStat = aaplRollingStat.set_index(\"Date\")\n",
    "\n",
    "aaplRollingStat[\"Adj. Close\"] = finData[aapl.name]"
   ]
  },
  {
   "cell_type": "code",
   "execution_count": 54,
   "metadata": {
    "collapsed": true
   },
   "outputs": [],
   "source": [
    "startDate = '2001-07-01'\n",
    "endDate = '2018-07-01'\n",
    "\n",
    "googReturn = finData[goog.name].loc[startDate: endDate].pct_change().shift(-1).dropna()\n",
    "googRollingStat = finData[goog.name].loc[startDate: endDate].rolling(window=30,center=False).mean().dropna()\n",
    "googRollingStd = finData[goog.name].loc[startDate: endDate].rolling(window=30,center=False).std().dropna()\n",
    "\n",
    "googRollingStat = googRollingStat.reset_index()\n",
    "\n",
    "googRollingStat = googRollingStat.rename(index=str, columns={\"Adj. Close\": \"Rolling Mean\"})\n",
    "googRollingStat[\"Std\"] = googRollingStd.values\n",
    "googRollingStat[\"Upper Band\"] = googRollingStat.apply(lambda row: row[\"Rolling Mean\"] + 2*row[\"Std\"], axis=1)\n",
    "googRollingStat[\"Lower Band\"] = googRollingStat.apply(lambda row: row[\"Rolling Mean\"] - 2*row[\"Std\"], axis=1)\n",
    "\n",
    "googRollingStat = googRollingStat.set_index(\"Date\")\n",
    "\n",
    "googRollingStat[\"Adj. Close\"] = finData[goog.name]\n",
    "# googRollingStat"
   ]
  },
  {
   "cell_type": "code",
   "execution_count": 55,
   "metadata": {
    "collapsed": true
   },
   "outputs": [],
   "source": [
    "startDate = '2001-07-01'\n",
    "endDate = '2018-07-01'\n",
    "\n",
    "msftReturn = finData[msft.name].loc[startDate: endDate].pct_change().shift(-1).dropna()\n",
    "msftRollingStat = finData[msft.name].loc[startDate: endDate].rolling(window=30,center=False).mean().dropna()\n",
    "msftRollingStd = finData[msft.name].loc[startDate: endDate].rolling(window=30,center=False).std().dropna()\n",
    "\n",
    "msftRollingStat = msftRollingStat.reset_index()\n",
    "\n",
    "msftRollingStat = msftRollingStat.rename(index=str, columns={\"Adj. Close\": \"Rolling Mean\"})\n",
    "msftRollingStat[\"Std\"] = msftRollingStd.values\n",
    "msftRollingStat[\"Upper Band\"] = msftRollingStat.apply(lambda row: row[\"Rolling Mean\"] + 2*row[\"Std\"], axis=1)\n",
    "msftRollingStat[\"Lower Band\"] = msftRollingStat.apply(lambda row: row[\"Rolling Mean\"] - 2*row[\"Std\"], axis=1)\n",
    "\n",
    "msftRollingStat = msftRollingStat.set_index(\"Date\")\n",
    "\n",
    "msftRollingStat[\"Adj. Close\"] = finData[msft.name]\n",
    "# msftRollingStat"
   ]
  },
  {
   "cell_type": "code",
   "execution_count": 56,
   "metadata": {
    "collapsed": true
   },
   "outputs": [],
   "source": [
    "startDate = '2001-07-01'\n",
    "endDate = '2018-07-01'\n",
    "\n",
    "amznReturn = finData[amzn.name].loc[startDate: endDate].pct_change().shift(-1).dropna()\n",
    "amznRollingStat = finData[amzn.name].loc[startDate: endDate].rolling(window=30,center=False).mean().dropna()\n",
    "amznRollingStd = finData[amzn.name].loc[startDate: endDate].rolling(window=30,center=False).std().dropna()\n",
    "\n",
    "amznRollingStat = amznRollingStat.reset_index()\n",
    "\n",
    "amznRollingStat = amznRollingStat.rename(index=str, columns={\"Adj. Close\": \"Rolling Mean\"})\n",
    "amznRollingStat[\"Std\"] = amznRollingStd.values\n",
    "amznRollingStat[\"Upper Band\"] = amznRollingStat.apply(lambda row: row[\"Rolling Mean\"] + 2*row[\"Std\"], axis=1)\n",
    "amznRollingStat[\"Lower Band\"] = amznRollingStat.apply(lambda row: row[\"Rolling Mean\"] - 2*row[\"Std\"], axis=1)\n",
    "\n",
    "amznRollingStat = amznRollingStat.set_index(\"Date\")\n",
    "\n",
    "amznRollingStat[\"Adj. Close\"] = finData[amzn.name]\n",
    "# amznRollingStat"
   ]
  },
  {
   "cell_type": "markdown",
   "metadata": {},
   "source": [
    "### Returns Calculations"
   ]
  },
  {
   "cell_type": "code",
   "execution_count": 57,
   "metadata": {
    "collapsed": true
   },
   "outputs": [],
   "source": [
    "aaplRollingStat = aaplRollingStat.reset_index()\n",
    "aaplRollingStat[\"Buy Day\"] = aaplRollingStat.apply(lambda row: 1 if row[\"Adj. Close\"] < row[\"Lower Band\"] else 0, axis=1)\n",
    "aaplRollingStat[\"Sell Day\"] = aaplRollingStat.apply(lambda row: 1 if row[\"Adj. Close\"] > row[\"Upper Band\"] else 0, axis=1)\n",
    "aaplRollingStat = aaplRollingStat.set_index(\"Date\")\n",
    "\n",
    "\n",
    "return_aapl = pd.DataFrame()\n",
    "return_aapl[\"Position\"] =aaplRollingStat[\"Buy Day\"]\n",
    "return_aapl[\"Adj. Close\"] = aaplRollingStat[\"Adj. Close\"]\n",
    "\n",
    "return_aapl[\"Returns\"] = aaplReturn *  return_aapl[\"Position\"]\n",
    "return_aapl[\"Returns\"] = return_aapl[\"Returns\"].dropna()"
   ]
  },
  {
   "cell_type": "code",
   "execution_count": 58,
   "metadata": {
    "collapsed": true
   },
   "outputs": [],
   "source": [
    "googRollingStat = googRollingStat.reset_index()\n",
    "googRollingStat[\"Buy Day\"] = googRollingStat.apply(lambda row: 1 if row[\"Adj. Close\"] < row[\"Lower Band\"] else 0, axis=1)\n",
    "googRollingStat[\"Sell Day\"] = googRollingStat.apply(lambda row: 1 if row[\"Adj. Close\"] > row[\"Upper Band\"] else 0, axis=1)\n",
    "googRollingStat = googRollingStat.set_index(\"Date\")\n",
    "\n",
    "\n",
    "return_goog = pd.DataFrame()\n",
    "return_goog[\"Position\"] =googRollingStat[\"Buy Day\"]\n",
    "return_goog[\"Adj. Close\"] = googRollingStat[\"Adj. Close\"]\n",
    "\n",
    "return_goog[\"Returns\"] = googReturn *  return_goog[\"Position\"]\n",
    "return_goog[\"Returns\"] = return_goog[\"Returns\"].dropna()\n",
    "\n",
    "#Done to match aapl's data\n",
    "return_goog = return_goog.reindex(return_aapl.index)\n",
    "return_goog[\"Returns\"] = return_goog[\"Returns\"].replace(np.nan, 0)\n",
    "return_goog[\"Returns\"][-1] = np.nan"
   ]
  },
  {
   "cell_type": "code",
   "execution_count": 59,
   "metadata": {
    "collapsed": true
   },
   "outputs": [],
   "source": [
    "msftRollingStat = msftRollingStat.reset_index()\n",
    "msftRollingStat[\"Buy Day\"] = msftRollingStat.apply(lambda row: 1 if row[\"Adj. Close\"] < row[\"Lower Band\"] else 0, axis=1)\n",
    "msftRollingStat[\"Sell Day\"] = msftRollingStat.apply(lambda row: 1 if row[\"Adj. Close\"] > row[\"Upper Band\"] else 0, axis=1)\n",
    "msftRollingStat = msftRollingStat.set_index(\"Date\")\n",
    "\n",
    "\n",
    "return_msft = pd.DataFrame()\n",
    "return_msft[\"Position\"] =msftRollingStat[\"Buy Day\"]\n",
    "return_msft[\"Adj. Close\"] = msftRollingStat[\"Adj. Close\"]\n",
    "\n",
    "return_msft[\"Returns\"] = msftReturn *  return_msft[\"Position\"]\n",
    "return_msft[\"Returns\"] = return_msft[\"Returns\"].dropna()"
   ]
  },
  {
   "cell_type": "code",
   "execution_count": 60,
   "metadata": {
    "collapsed": true
   },
   "outputs": [],
   "source": [
    "amznRollingStat = amznRollingStat.reset_index()\n",
    "amznRollingStat[\"Buy Day\"] = amznRollingStat.apply(lambda row: 1 if row[\"Adj. Close\"] < row[\"Lower Band\"] else 0, axis=1)\n",
    "amznRollingStat[\"Sell Day\"] = amznRollingStat.apply(lambda row: 1 if row[\"Adj. Close\"] > row[\"Upper Band\"] else 0, axis=1)\n",
    "amznRollingStat = amznRollingStat.set_index(\"Date\")\n",
    "\n",
    "\n",
    "return_amzn = pd.DataFrame()\n",
    "return_amzn[\"Position\"] =amznRollingStat[\"Buy Day\"]\n",
    "return_amzn[\"Adj. Close\"] = amznRollingStat[\"Adj. Close\"]\n",
    "\n",
    "return_amzn[\"Returns\"] = amznReturn *  return_amzn[\"Position\"]\n",
    "return_amzn[\"Returns\"] = return_amzn[\"Returns\"].dropna()"
   ]
  },
  {
   "cell_type": "markdown",
   "metadata": {},
   "source": [
    "### Plot Generated"
   ]
  },
  {
   "cell_type": "code",
   "execution_count": 61,
   "metadata": {},
   "outputs": [
    {
     "name": "stdout",
     "output_type": "stream",
     "text": [
      "Run time: 576.707 s\n"
     ]
    },
    {
     "data": {
      "image/png": "[encoded data removed]",
      "text/plain": [
       "<matplotlib.figure.Figure at 0x20401f93898>"
      ]
     },
     "metadata": {},
     "output_type": "display_data"
    },
    {
     "name": "stdout",
     "output_type": "stream",
     "text": [
      "Best Sharpe of any combination of these Apple, Google, Microsoft, and Amazon: 0.0594626651438306\n",
      "Apple portion: 28 Google portion: 26 Microsoft portion: 10 Amazon portion: 36\n"
     ]
    }
   ],
   "source": [
    "meanL = []\n",
    "stdL = []\n",
    "sharpe = 0\n",
    "best_combo = (0,0,0,0)\n",
    "t0 = time()\n",
    "for combo in list_of_values:\n",
    "    returns = (return_aapl[\"Returns\"]*combo[0]) + (return_goog[\"Returns\"]*combo[1]) + (return_msft[\"Returns\"]*combo[2]) \\\n",
    "    + (return_amzn[\"Returns\"]*combo[3])\n",
    "    \n",
    "    mean = returns.mean() \n",
    "    std = returns.std()\n",
    "    meanL.append(mean)\n",
    "    stdL.append(std)\n",
    "    \n",
    "    if (mean/std) > sharpe:\n",
    "        sharpe = mean/std\n",
    "        best_combo = combo\n",
    "\n",
    "print(\"Run time:\", round(time()-t0, 3), \"s\")\n",
    "    \n",
    "plt.scatter(stdL, meanL)\n",
    "plt.xlabel(\"Std\")\n",
    "plt.ylabel(\"Mean\")\n",
    "plt.show()\n",
    "print(\"Best Sharpe of any combination of these Apple, Google, Microsoft, and Amazon:\", sharpe)\n",
    "print(\"Apple portion:\", best_combo[0],\"Google portion:\", best_combo[1], \"Microsoft portion:\", best_combo[2], \\\n",
    "      \"Amazon portion:\", best_combo[3])"
   ]
  },
  {
   "cell_type": "code",
   "execution_count": null,
   "metadata": {
    "collapsed": true
   },
   "outputs": [],
   "source": []
  }
 ],
 "metadata": {
  "kernelspec": {
   "display_name": "Python 3",
   "language": "python",
   "name": "python3"
  },
  "language_info": {
   "codemirror_mode": {
    "name": "ipython",
    "version": 3
   },
   "file_extension": ".py",
   "mimetype": "text/x-python",
   "name": "python",
   "nbconvert_exporter": "python",
   "pygments_lexer": "ipython3",
   "version": "3.6.3"
  }
 },
 "nbformat": 4,
 "nbformat_minor": 2
}
