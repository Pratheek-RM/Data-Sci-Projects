{
 "cells": [
  {
   "cell_type": "code",
   "execution_count": 1,
   "metadata": {
    "collapsed": true
   },
   "outputs": [],
   "source": [
    "import numpy as np\n",
    "import pandas as pd\n",
    "import matplotlib.pyplot as plt\n",
    "from copy import deepcopy\n",
    "import quandl\n",
    "from stockAnalysisTools import numToString\n",
    "from time import time"
   ]
  },
  {
   "cell_type": "markdown",
   "metadata": {},
   "source": [
    "#### The cell below will be used to pull all the stock data we want and make a dictionary for accessing it"
   ]
  },
  {
   "cell_type": "code",
   "execution_count": 2,
   "metadata": {
    "collapsed": true
   },
   "outputs": [],
   "source": [
    "quandl.ApiConfig.api_key = \"d1JcayaRuvKSaq7GaEHs\"\n",
    "\n",
    "import urllib.request, urllib.parse, urllib.error\n",
    "from bs4 import BeautifulSoup\n",
    "import ssl\n",
    "import re\n",
    "\n",
    "# Ignore SSL certificate errors\n",
    "ctx = ssl.create_default_context()\n",
    "ctx.check_hostname = False\n",
    "ctx.verify_mode = ssl.CERT_NONE\n",
    "\n",
    "url = \"https://en.wikipedia.org/wiki/List_of_S%26P_500_companies\"\n",
    "html = urllib.request.urlopen(url, context=ctx).read()\n",
    "soup = BeautifulSoup(html, 'html.parser')\n",
    "\n",
    "# soup\n",
    "ticker_list = list()\n",
    "for tag in soup('a'):\n",
    "#     print(re.search(r'NyseSymbol|\\S+}', soup))\n",
    "    link = str(tag.get('href', None))\n",
    "#     print(type(link))\n",
    "    if \"https://www.nyse.com/quote/XNYS\" in link:\n",
    "        ticker_list.append(link.rsplit(':')[-1])\n",
    "    elif \"http://www.nasdaq.com/symbol/\" in link:\n",
    "        ticker_list.append(link.rsplit('/')[-1])\n",
    "    \n",
    "\n",
    "# print(ticker_list)\n",
    "# ticker_list.remove('QECx02')\n",
    "# print(len(ticker_list))\n",
    "ticker_list = list(map(lambda x: x.replace('.', '_') if '.' in x else x, ticker_list))\n",
    "# ticker_list"
   ]
  },
  {
   "cell_type": "code",
   "execution_count": 4,
   "metadata": {},
   "outputs": [
    {
     "name": "stdout",
     "output_type": "stream",
     "text": [
      "Couldn't retrieve data for the stocks below, they may not have data available on Quandl.com, which is where the data is fetched from\n",
      "EVRG\n",
      "JEF\n",
      "Run time: 37.90321666666667 min\n"
     ]
    }
   ],
   "source": [
    "startDate = '2001-07-01'\n",
    "endDate = '2018-07-01'\n",
    "finData = dict()\n",
    "t0 = time()\n",
    "print(\"Couldn't retrieve data for the stocks below, they may not have data available on Quandl.com, \\\n",
    "which is where the data is fetched from\")\n",
    "for ticker in ticker_list:\n",
    "    flag = 0\n",
    "    try:\n",
    "        finData[ticker] = quandl.get(\"WIKI/\"+ticker)[\"Adj. Close\"].loc[startDate:endDate]\n",
    "        flag = 1\n",
    "    except:\n",
    "        if flag == 0:\n",
    "            print(ticker)\n",
    "        \n",
    "print(\"Run time:\", round(time()-t0, 3)/60, \"min\")"
   ]
  },
  {
   "cell_type": "code",
   "execution_count": 5,
   "metadata": {
    "collapsed": true
   },
   "outputs": [],
   "source": [
    "#     #All data will be normalized to start on the indecies of apple, so that when returns are calculated, the math can be done properly\n",
    "aaplIndecies = finData[\"aapl\"].index\n",
    "    \n",
    "def createRollingDF(key):\n",
    "    rollingStat = finData[key].rolling(window=30,center=False).mean().dropna()\n",
    "    rollingStd = finData[key].rolling(window=30,center=False).std().dropna()\n",
    "\n",
    "    rollingStat = rollingStat.reset_index()\n",
    "\n",
    "    rollingStat = rollingStat.rename(index=str, columns={\"Adj. Close\": \"Rolling Mean\"})\n",
    "    rollingStat[\"Std\"] = rollingStd.values\n",
    "    rollingStat[\"Upper Band\"] = rollingStat.apply(lambda row: row[\"Rolling Mean\"] + 2*row[\"Std\"], axis=1)\n",
    "    rollingStat[\"Lower Band\"] = rollingStat.apply(lambda row: row[\"Rolling Mean\"] - 2*row[\"Std\"], axis=1)\n",
    "\n",
    "    rollingStat = rollingStat.set_index(\"Date\")\n",
    "\n",
    "    rollingStat[\"Adj. Close\"] = finData[key]\n",
    "    return rollingStat\n",
    "    \n",
    "def determineBuySell(df):\n",
    "    df = df.reset_index()\n",
    "    bd = df.apply(lambda row: (row[\"Rolling Mean\"] - row[\"Adj. Close\"])/row[\"Std\"] \\\n",
    "                  if row[\"Adj. Close\"] < row[\"Lower Band\"] else 0, axis=1)\n",
    "    sd = df.apply(lambda row: (row[\"Adj. Close\"] - row[\"Rolling Mean\"])/row[\"Std\"] \\\n",
    "                  if row[\"Adj. Close\"] > row[\"Upper Band\"] else 0, axis=1)\n",
    " \n",
    "    ret_df = pd.DataFrame()\n",
    "    ret_df[\"Date\"] = df[\"Date\"]\n",
    "    df = df.set_index(\"Date\")\n",
    " \n",
    "    ret_df[\"Position\"] = bd + sd\n",
    "    ret_df = ret_df.set_index(\"Date\")\n",
    "    ret_df[\"Buy Day\"] = ret_df.apply(lambda row: 1 if row[\"Position\"] > 0 else 0, axis=1)\n",
    "    ret_df[\"Sell Day\"] = ret_df.apply(lambda row: 1 if row[\"Position\"] < 0 else 0, axis=1)\n",
    "#     ret_df[\"Adj. Close\"] = df[\"Adj. Close\"]\n",
    "\n",
    "    ret_df[\"Returns\"] = df[\"Adj. Close\"].pct_change().shift(-1).dropna()\n",
    "#     ret_df[\"Returns\"] = returns *  ret_df[\"Position\"]\n",
    "#     ret_df[\"Returns\"] = ret_df[\"Returns\"].dropna()\n",
    "#     print(aaplIndecies)\n",
    "    ret_df = ret_df.reindex(aaplIndecies)\n",
    "    ret_df = ret_df.fillna(0)\n",
    "    ret_df[\"Returns\"][-1] = np.nan\n",
    "    return ret_df\n",
    "    "
   ]
  },
  {
   "cell_type": "code",
   "execution_count": 6,
   "metadata": {},
   "outputs": [
    {
     "name": "stdout",
     "output_type": "stream",
     "text": [
      "Run time: 12.358433333333332 min\n",
      "Couldn't calculate rolling data for the stocks below, so they are being removed from the findData dictionary:\n",
      "bkng\n",
      "CBRE\n",
      "WELL\n"
     ]
    }
   ],
   "source": [
    "rollingDFs = dict()\n",
    "t0 = time()\n",
    "keys_to_rm = list()\n",
    "for key in finData.keys():\n",
    "    flag = 0\n",
    "    try:\n",
    "        rollingDFs[key] = createRollingDF(key)\n",
    "        flag = 1\n",
    "    except:\n",
    "        if flag == 0:\n",
    "            keys_to_rm.append(key)\n",
    "            \n",
    "print(\"Run time:\", round(time()-t0, 3)/60, \"min\")\n",
    "\n",
    "#Keys for some stocks end up getting removed because they cause errors due to\n",
    "#not enough market data being available to calculate a rolling stat over a 30 day period\n",
    "print(\"Couldn't calculate rolling data for the stocks below, so they are being removed from the findData dictionary:\")\n",
    "for key in keys_to_rm:\n",
    "    print(key)\n",
    "#     finData.pop(key, None)"
   ]
  },
  {
   "cell_type": "code",
   "execution_count": 7,
   "metadata": {},
   "outputs": [
    {
     "name": "stdout",
     "output_type": "stream",
     "text": [
      "Run time: 10.607983333333333 min\n",
      "Couldn't calculate return data for the stocks below, so they are being removed from the findData dictionary:\n"
     ]
    }
   ],
   "source": [
    "returnsDFs = dict()\n",
    "t0 = time()\n",
    "keys_to_rm = list()\n",
    "for key in rollingDFs.keys():\n",
    "    flag = 0\n",
    "    try:\n",
    "        returnsDFs[key] = determineBuySell(rollingDFs[key])\n",
    "        flag = 1\n",
    "    except:\n",
    "        if flag == 0:\n",
    "            keys_to_rm.append(key)\n",
    "            \n",
    "print(\"Run time:\", round(time()-t0, 3)/60, \"min\")\n",
    "\n",
    "#Keys for some stocks end up getting removed because they cause errors due to\n",
    "#not enough market data being available to calculate a rolling stat over a 30 day period\n",
    "print(\"Couldn't calculate return data for the stocks below, so they are being removed from the findData dictionary:\")\n",
    "for key in keys_to_rm:\n",
    "    print(key)\n",
    "    finData.pop(key, None)"
   ]
  },
  {
   "cell_type": "code",
   "execution_count": 8,
   "metadata": {},
   "outputs": [
    {
     "name": "stdout",
     "output_type": "stream",
     "text": [
      "Run time: 0.821 s\n"
     ]
    }
   ],
   "source": [
    "dates = dict()\n",
    "comparison_df = pd.DataFrame()\n",
    "flag = True\n",
    "t0 = time()\n",
    "for key in returnsDFs.keys():\n",
    "#     print(key)\n",
    "#     print(returnsDFs[key])\n",
    "#     break\n",
    "    if flag is True:\n",
    "        comparison_df = returnsDFs[key][\"Position\"].to_frame()\n",
    "        comparison_df = comparison_df.rename(index=str, columns={\"Position\": key})\n",
    "        flag = False \n",
    "    else:\n",
    "#         print(key)\n",
    "        comparison_df[key] = returnsDFs[key][\"Position\"]\n",
    "#         print(comparison_df)\n",
    "#         print(returnsDFs[key][\"Position\"].cumsum())\n",
    "#         break\n",
    "#         comparison_df = pd.merge(left = comparison_df, right = returnsDFs[key][\"Position\"].to_frame(), how = 'inner', on = \"Date\")\n",
    "#         comparison_df\n",
    "#         break\n",
    "\n",
    "comparison_df.fillna(0)\n",
    "print(\"Run time:\", round(time()-t0, 3), \"s\")"
   ]
  },
  {
   "cell_type": "code",
   "execution_count": 9,
   "metadata": {},
   "outputs": [
    {
     "name": "stdout",
     "output_type": "stream",
     "text": [
      "Run time: 2.869 s\n"
     ]
    }
   ],
   "source": [
    "t0 = time()\n",
    "transpose_df = comparison_df.T\n",
    "for date in transpose_df:\n",
    "    dates[date] = transpose_df[date].nlargest(50).index.tolist()\n",
    "print(\"Run time:\", round(time()-t0, 3), \"s\")\n",
    "# print(dates)"
   ]
  },
  {
   "cell_type": "code",
   "execution_count": 10,
   "metadata": {
    "collapsed": true
   },
   "outputs": [],
   "source": [
    "def determineTop50(df, key):\n",
    "    df = df.reset_index()\n",
    "    df[\"Position\"] = df.apply(lambda row: row[\"Buy Day\"] + (-1*row[\"Sell Day\"]) if key in dates[str(row[\"Date\"])] else 0,  axis=1)\n",
    "    df = df.set_index(\"Date\")\n",
    "    return df[\"Position\"]"
   ]
  },
  {
   "cell_type": "code",
   "execution_count": 11,
   "metadata": {},
   "outputs": [
    {
     "name": "stdout",
     "output_type": "stream",
     "text": [
      "Run time: 4.680466666666666 min\n",
      "Run time: 0.326 s\n"
     ]
    }
   ],
   "source": [
    "t0 = time()\n",
    "for key in returnsDFs.keys():\n",
    "    returnsDFs[key][\"Position\"] = determineTop50(returnsDFs[key], key)\n",
    "print(\"Run time:\", round(time()-t0, 3)/60, \"min\")\n",
    "\n",
    "t0 = time()\n",
    "flag = True\n",
    "for key in returnsDFs.keys():\n",
    "    d = returnsDFs[key]\n",
    "    if flag is True:\n",
    "        ret = d[\"Position\"] * d[\"Returns\"]\n",
    "        flag = False\n",
    "    else:\n",
    "        ret += d[\"Position\"] * d[\"Returns\"]\n",
    "        \n",
    "print(\"Run time:\", round(time()-t0, 3), \"s\")"
   ]
  },
  {
   "cell_type": "markdown",
   "metadata": {},
   "source": [
    "## Sharpe Calculated"
   ]
  },
  {
   "cell_type": "code",
   "execution_count": 12,
   "metadata": {},
   "outputs": [
    {
     "data": {
      "text/plain": [
       "0.03151458791930259"
      ]
     },
     "execution_count": 12,
     "metadata": {},
     "output_type": "execute_result"
    }
   ],
   "source": [
    "ret.mean()/ret.std()"
   ]
  },
  {
   "cell_type": "markdown",
   "metadata": {},
   "source": [
    "## Beta Calculated"
   ]
  },
  {
   "cell_type": "code",
   "execution_count": null,
   "metadata": {
    "collapsed": true
   },
   "outputs": [],
   "source": [
    "sp500 = quandl.get(\"MULTPL/SP500_REAL_PRICE_MONTH\").loc[startDate:endDate]\n",
    "\n",
    "ret.corr(sp500[\"Value\"])"
   ]
  },
  {
   "cell_type": "code",
   "execution_count": null,
   "metadata": {
    "collapsed": true
   },
   "outputs": [],
   "source": []
  }
 ],
 "metadata": {
  "kernelspec": {
   "display_name": "Python 3",
   "language": "python",
   "name": "python3"
  },
  "language_info": {
   "codemirror_mode": {
    "name": "ipython",
    "version": 3
   },
   "file_extension": ".py",
   "mimetype": "text/x-python",
   "name": "python",
   "nbconvert_exporter": "python",
   "pygments_lexer": "ipython3",
   "version": "3.6.3"
  }
 },
 "nbformat": 4,
 "nbformat_minor": 2
}
