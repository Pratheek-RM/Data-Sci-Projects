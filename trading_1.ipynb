{
 "cells": [
  {
   "cell_type": "code",
   "execution_count": 1,
   "metadata": {
    "collapsed": true
   },
   "outputs": [],
   "source": [
    "import numpy as np\n",
    "import pandas as pd\n",
    "import matplotlib.pyplot as plt\n",
    "from copy import deepcopy\n",
    "import quandl\n",
    "from stockAnalysisTools import numToString"
   ]
  },
  {
   "cell_type": "markdown",
   "metadata": {},
   "source": [
    "#### The cell below will be used to pull all the stock data we want and make a dictionary for accessing it"
   ]
  },
  {
   "cell_type": "code",
   "execution_count": 2,
   "metadata": {
    "collapsed": true
   },
   "outputs": [],
   "source": [
    "quandl.ApiConfig.api_key = \"d1JcayaRuvKSaq7GaEHs\"\n",
    "aapl = \"aapl\"\n",
    "goog  = \"goog\"\n",
    "stockList = [aapl, goog]\n",
    "finData = dict()\n",
    "\n",
    "for ticker in stockList:\n",
    "    finData[ticker] = quandl.get(\"WIKI/\"+ticker)[\"Adj. Close\"]"
   ]
  },
  {
   "cell_type": "code",
   "execution_count": 15,
   "metadata": {
    "collapsed": true
   },
   "outputs": [],
   "source": [
    "class Stock(object):\n",
    "    \n",
    "    def __init__(self, name):\n",
    "        self.name = name\n",
    "        self.percentage = 0.0\n",
    "        \n",
    "    def set_portfolio_percentage(self, val):\n",
    "        if val > 100.0 or val < 0.0:\n",
    "            print(\"Invalid value. A stock can only occupy between 0 - 100 percent of a portfolio\")\n",
    "        else:\n",
    "            self.percentage = val/100.0\n",
    "        \n",
    "            "
   ]
  },
  {
   "cell_type": "code",
   "execution_count": 16,
   "metadata": {
    "collapsed": true
   },
   "outputs": [],
   "source": [
    "class Portfolio(object):\n",
    "    stocks = list()\n",
    "    uninvestedMoney = 0\n",
    "    \n",
    "    def addStock(self, stock):\n",
    "        \n",
    "        if(stock.name not in finData.keys()):\n",
    "            print(\"We haven't pulled up data for this stock, so it can't be added\")\n",
    "            return\n",
    "        \n",
    "        self.stocks.append(stock)\n",
    "    \n",
    "    def addMoney(self, money):\n",
    "        \n",
    "        self.uninvestedMoney += money\n",
    "        \n",
    "    def reset(self):\n",
    "        self.uninvestedMoney = 0\n",
    "        if len(self.stocks) != 0:\n",
    "            self.stocks = []      "
   ]
  },
  {
   "cell_type": "markdown",
   "metadata": {},
   "source": [
    "#### Creating Portfolio"
   ]
  },
  {
   "cell_type": "code",
   "execution_count": 17,
   "metadata": {},
   "outputs": [],
   "source": [
    "my_portfolio = Portfolio()\n",
    "aapl = Stock(\"aapl\")\n",
    "aapl.set_portfolio_percentage(50)\n",
    "goog = Stock(\"goog\")\n",
    "goog.set_portfolio_percentage(50)\n",
    "my_portfolio.addStock(aapl)\n",
    "my_portfolio.addStock(goog)"
   ]
  },
  {
   "cell_type": "markdown",
   "metadata": {},
   "source": [
    "#### Simple Trading Strategy per 30 days"
   ]
  },
  {
   "cell_type": "code",
   "execution_count": 20,
   "metadata": {
    "collapsed": true
   },
   "outputs": [],
   "source": [
    "startDate = '2001-07-01'\n",
    "endDate = '2018-07-01'\n",
    "\n",
    "aaplReturn = finData[aapl.name].loc[startDate: endDate].pct_change().shift(-1).dropna()\n",
    "aaplSharpe = aaplReturn.mean()/aaplReturn.std()\n",
    "aaplRollingStat = finData[aapl.name].loc[startDate: endDate].rolling(window=30,center=False).mean().dropna()\n",
    "aaplRollingStd = finData[aapl.name].loc[startDate: endDate].rolling(window=30,center=False).std().dropna()\n",
    "\n",
    "aaplRollingStat = aaplRollingStat.reset_index()\n",
    "\n",
    "aaplRollingStat = aaplRollingStat.rename(index=str, columns={\"Adj. Close\": \"Rolling Mean\"})\n",
    "aaplRollingStat[\"Std\"] = aaplRollingStd.values\n",
    "aaplRollingStat[\"Upper Band\"] = aaplRollingStat.apply(lambda row: row[\"Rolling Mean\"] + 2*row[\"Std\"], axis=1)\n",
    "aaplRollingStat[\"Lower Band\"] = aaplRollingStat.apply(lambda row: row[\"Rolling Mean\"] - 2*row[\"Std\"], axis=1)\n",
    "\n",
    "aaplRollingStat = aaplRollingStat.set_index(\"Date\")\n",
    "\n",
    "aaplRollingStat[\"Adj. Close\"] = finData[aapl.name].loc[aaplRollingStat.index[0]:aaplRollingStat.index[-1]].values"
   ]
  },
  {
   "cell_type": "code",
   "execution_count": 21,
   "metadata": {
    "collapsed": true
   },
   "outputs": [],
   "source": [
    "startDate = '2001-07-01'\n",
    "endDate = '2018-07-01'\n",
    "\n",
    "googReturn = finData[goog.name].loc[startDate: endDate].pct_change().shift(-1).dropna()\n",
    "googSharpe = googReturn.mean()/googReturn.std()\n",
    "googRollingStat = finData[goog.name].loc[startDate: endDate].rolling(window=30,center=False).mean().dropna()\n",
    "googRollingStd = finData[goog.name].loc[startDate: endDate].rolling(window=30,center=False).std().dropna()\n",
    "\n",
    "googRollingStat = googRollingStat.reset_index()\n",
    "\n",
    "googRollingStat = googRollingStat.rename(index=str, columns={\"Adj. Close\": \"Rolling Mean\"})\n",
    "googRollingStat[\"Std\"] = googRollingStd.values\n",
    "googRollingStat[\"Upper Band\"] = googRollingStat.apply(lambda row: row[\"Rolling Mean\"] + 2*row[\"Std\"], axis=1)\n",
    "googRollingStat[\"Lower Band\"] = googRollingStat.apply(lambda row: row[\"Rolling Mean\"] - 2*row[\"Std\"], axis=1)\n",
    "\n",
    "googRollingStat = googRollingStat.set_index(\"Date\")\n",
    "\n",
    "googRollingStat[\"Adj. Close\"] = finData[goog.name].loc[googRollingStat.index[0]:googRollingStat.index[-1]].values"
   ]
  },
  {
   "cell_type": "markdown",
   "metadata": {},
   "source": [
    "## Stratagey In Practice"
   ]
  },
  {
   "cell_type": "code",
   "execution_count": 22,
   "metadata": {
    "collapsed": true
   },
   "outputs": [],
   "source": [
    "#portfolio reset\n",
    "my_portfolio.reset()\n",
    "my_portfolio.addMoney(100)"
   ]
  },
  {
   "cell_type": "code",
   "execution_count": 25,
   "metadata": {},
   "outputs": [],
   "source": [
    "aaplRollingStat = aaplRollingStat.reset_index()\n",
    "\n",
    "aaplRollingStat[\"Buy Day\"] = aaplRollingStat.apply(lambda row: 1 if row[\"Adj. Close\"] < row[\"Lower Band\"] else 0, axis=1)\n",
    "aaplRollingStat[\"Sell Day\"] = aaplRollingStat.apply(lambda row: 1 if row[\"Adj. Close\"] > row[\"Upper Band\"] else 0, axis=1)\n",
    "    \n",
    "\n",
    "aaplRollingStat = aaplRollingStat.set_index(\"Date\")\n",
    "\n",
    "\n",
    "return_aapl = pd.DataFrame()\n",
    "return_aapl[\"Position\"] =aaplRollingStat[\"Buy Day\"]\n",
    "return_aapl[\"Adj. Close\"] = aaplRollingStat[\"Adj. Close\"]\n",
    "\n",
    "return_aapl[\"Returns\"] = aaplReturn *  return_aapl[\"Position\"]\n",
    "return_aapl[\"Returns\"] = return_aapl[\"Returns\"].dropna()"
   ]
  },
  {
   "cell_type": "code",
   "execution_count": 27,
   "metadata": {},
   "outputs": [],
   "source": [
    "googRollingStat = googRollingStat.reset_index()\n",
    "\n",
    "googRollingStat[\"Buy Day\"] = googRollingStat.apply(lambda row: 1 if row[\"Adj. Close\"] < row[\"Lower Band\"] else 0, axis=1)\n",
    "googRollingStat[\"Sell Day\"] = googRollingStat.apply(lambda row: 1 if row[\"Adj. Close\"] > row[\"Upper Band\"] else 0, axis=1)\n",
    "    \n",
    "\n",
    "googRollingStat = googRollingStat.set_index(\"Date\")\n",
    "\n",
    "\n",
    "return_goog = pd.DataFrame()\n",
    "return_goog[\"Position\"] =googRollingStat[\"Buy Day\"]\n",
    "return_goog[\"Adj. Close\"] = googRollingStat[\"Adj. Close\"]\n",
    "\n",
    "return_goog[\"Returns\"] = googReturn *  return_goog[\"Position\"]\n",
    "return_goog[\"Returns\"] = return_goog[\"Returns\"].dropna()\n",
    "\n",
    "return_goog = return_goog.reindex(return_aapl.index).replace(np.nan, 0)\n",
    "return_goog[\"Returns\"][-1] = np.nan\n",
    "# return_goog #= return_goog.replace(np.nan, 0)"
   ]
  },
  {
   "cell_type": "code",
   "execution_count": 32,
   "metadata": {},
   "outputs": [
    {
     "data": {
      "image/png": "[encoded data removed]",
      "text/plain": [
       "<matplotlib.figure.Figure at 0x2b0d7968da0>"
      ]
     },
     "metadata": {},
     "output_type": "display_data"
    },
    {
     "data": {
      "text/plain": [
       "Date\n",
       "2001-08-13    1.000000\n",
       "2001-08-14    1.000000\n",
       "2001-08-15    1.000000\n",
       "2001-08-16    1.000000\n",
       "2001-08-17    1.000000\n",
       "2001-08-20    1.000000\n",
       "2001-08-21    1.000000\n",
       "2001-08-22    1.000000\n",
       "2001-08-23    1.000000\n",
       "2001-08-24    1.000000\n",
       "2001-08-27    1.000000\n",
       "2001-08-28    1.000000\n",
       "2001-08-29    1.000000\n",
       "2001-08-30    1.000000\n",
       "2001-08-31    1.000000\n",
       "2001-09-04    1.000000\n",
       "2001-09-05    1.000000\n",
       "2001-09-06    1.000000\n",
       "2001-09-07    1.005208\n",
       "2001-09-10    1.005208\n",
       "2001-09-17    0.963201\n",
       "2001-09-18    1.006983\n",
       "2001-09-19    1.006983\n",
       "2001-09-20    1.010194\n",
       "2001-09-21    1.056433\n",
       "2001-09-24    1.056433\n",
       "2001-09-25    1.029921\n",
       "2001-09-26    1.054394\n",
       "2001-09-27    1.054394\n",
       "2001-09-28    1.054394\n",
       "                ...   \n",
       "2018-02-13    2.122683\n",
       "2018-02-14    2.122683\n",
       "2018-02-15    2.122683\n",
       "2018-02-16    2.122683\n",
       "2018-02-20    2.122683\n",
       "2018-02-21    2.122683\n",
       "2018-02-22    2.122683\n",
       "2018-02-23    2.122683\n",
       "2018-02-26    2.122683\n",
       "2018-02-27    2.122683\n",
       "2018-02-28    2.122683\n",
       "2018-03-01    2.122683\n",
       "2018-03-02    2.122683\n",
       "2018-03-05    2.122683\n",
       "2018-03-06    2.122683\n",
       "2018-03-07    2.122683\n",
       "2018-03-08    2.122683\n",
       "2018-03-09    2.122683\n",
       "2018-03-12    2.122683\n",
       "2018-03-13    2.122683\n",
       "2018-03-14    2.122683\n",
       "2018-03-15    2.122683\n",
       "2018-03-16    2.122683\n",
       "2018-03-19    2.122683\n",
       "2018-03-20    2.122683\n",
       "2018-03-21    2.122683\n",
       "2018-03-22    2.122683\n",
       "2018-03-23    2.122683\n",
       "2018-03-26    2.122683\n",
       "2018-03-27         NaN\n",
       "Name: Returns, Length: 4179, dtype: float64"
      ]
     },
     "execution_count": 32,
     "metadata": {},
     "output_type": "execute_result"
    }
   ],
   "source": [
    "returns = (return_aapl[\"Returns\"]*aapl.percentage) + (return_goog[\"Returns\"]*goog.percentage)\n",
    "ret_plt =  returns.plot()\n",
    "plt.show()\n",
    "\n",
    "list_of_returns = list()\n",
    "list_of_returns.append(((1+return_aapl[\"Returns\"]).dropna()).cumprod()[-1])\n",
    "list_of_returns.append(((1+return_goog[\"Returns\"]).dropna()).cumprod()[-1])\n",
    "(1+return_aapl[\"Returns\"]).cumprod()\n",
    "# ((1+return_aapl[\"Returns\"]).dropna()).cumprod()\n",
    "# print(\"Percent return of the portfolio: \", sum(list_of_returns)/len(list_of_returns))"
   ]
  },
  {
   "cell_type": "code",
   "execution_count": null,
   "metadata": {
    "collapsed": true
   },
   "outputs": [],
   "source": []
  }
 ],
 "metadata": {
  "kernelspec": {
   "display_name": "Python 3",
   "language": "python",
   "name": "python3"
  },
  "language_info": {
   "codemirror_mode": {
    "name": "ipython",
    "version": 3
   },
   "file_extension": ".py",
   "mimetype": "text/x-python",
   "name": "python",
   "nbconvert_exporter": "python",
   "pygments_lexer": "ipython3",
   "version": "3.6.3"
  }
 },
 "nbformat": 4,
 "nbformat_minor": 2
}
