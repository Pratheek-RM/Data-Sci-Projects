{
 "cells": [
  {
   "cell_type": "code",
   "execution_count": 1,
   "metadata": {
    "collapsed": true
   },
   "outputs": [],
   "source": [
    "from time import time\n",
    "import pandas as pd\n",
    "import numpy as np"
   ]
  },
  {
   "cell_type": "code",
   "execution_count": 2,
   "metadata": {
    "collapsed": true,
    "scrolled": true
   },
   "outputs": [],
   "source": [
    "train = pd.read_csv('all/train.csv')\n",
    "test = pd.read_csv('all/test.csv')\n",
    "\n",
    "columns_to_drop  = [\"Name\", \"Ticket\", \"Cabin\"]\n",
    "\n",
    "train_aug = train.drop(columns_to_drop, axis = 1)\n",
    "test_aug = test.drop(columns_to_drop, axis = 1)\n",
    "\n",
    "train_aug = train_aug.replace(np.nan, 0)\n",
    "test_aug =  test_aug.replace(np.nan, 0)\n",
    "\n",
    "train_aug[\"Embarked\"] = train_aug.apply(lambda row: int(row[\"Embarked\"].encode('utf-8').hex(), 16) \\\n",
    "                                        if type(row[\"Embarked\"]) == str else row[\"Embarked\"], axis=1)\n",
    "test_aug[\"Embarked\"] = test_aug.apply(lambda row: int(row[\"Embarked\"].encode('utf-8').hex(), 16) \\\n",
    "                                        if type(row[\"Embarked\"]) == str else row[\"Embarked\"], axis=1)\n",
    "\n",
    "train_aug[\"Sex\"] = train_aug.apply(lambda row: 1 if row[\"Sex\"] == \"female\" else 0, axis = 1)\n",
    "test_aug[\"Sex\"] = test_aug.apply(lambda row: 1 if row[\"Sex\"] == \"female\" else 0, axis  = 1)\n",
    "\n",
    "# #Key was needed to the int's could fit into the dataframe\n",
    "# #   - key value was chosen abitrarily\n",
    "# key = 111222333\n",
    "\n",
    "# for column in train_aug:\n",
    "#     train_aug[column] = train_aug.apply(lambda row: int(row[column].encode('utf-8').hex(), 16)/key \\\n",
    "#                                 if type(row[column]) == str else row[column], axis=1)\n",
    "# for column in test_aug:\n",
    "#     test_aug[column] = test_aug.apply(lambda row: int(row[column].encode('utf-8').hex(), 16)/key \\\n",
    "#                                 if type(row[column]) == str else row[column], axis=1)"
   ]
  },
  {
   "cell_type": "code",
   "execution_count": 3,
   "metadata": {
    "scrolled": true
   },
   "outputs": [
    {
     "data": {
      "text/html": [
       "<div>\n",
       "<style>\n",
       "    .dataframe thead tr:only-child th {\n",
       "        text-align: right;\n",
       "    }\n",
       "\n",
       "    .dataframe thead th {\n",
       "        text-align: left;\n",
       "    }\n",
       "\n",
       "    .dataframe tbody tr th {\n",
       "        vertical-align: top;\n",
       "    }\n",
       "</style>\n",
       "<table border=\"1\" class=\"dataframe\">\n",
       "  <thead>\n",
       "    <tr style=\"text-align: right;\">\n",
       "      <th></th>\n",
       "      <th>PassengerId</th>\n",
       "      <th>Survived</th>\n",
       "      <th>Pclass</th>\n",
       "      <th>Sex</th>\n",
       "      <th>Age</th>\n",
       "      <th>SibSp</th>\n",
       "      <th>Parch</th>\n",
       "      <th>Fare</th>\n",
       "      <th>Embarked</th>\n",
       "    </tr>\n",
       "  </thead>\n",
       "  <tbody>\n",
       "    <tr>\n",
       "      <th>0</th>\n",
       "      <td>1</td>\n",
       "      <td>0</td>\n",
       "      <td>3</td>\n",
       "      <td>0</td>\n",
       "      <td>22.0</td>\n",
       "      <td>1</td>\n",
       "      <td>0</td>\n",
       "      <td>7.2500</td>\n",
       "      <td>83</td>\n",
       "    </tr>\n",
       "    <tr>\n",
       "      <th>1</th>\n",
       "      <td>2</td>\n",
       "      <td>1</td>\n",
       "      <td>1</td>\n",
       "      <td>1</td>\n",
       "      <td>38.0</td>\n",
       "      <td>1</td>\n",
       "      <td>0</td>\n",
       "      <td>71.2833</td>\n",
       "      <td>67</td>\n",
       "    </tr>\n",
       "    <tr>\n",
       "      <th>2</th>\n",
       "      <td>3</td>\n",
       "      <td>1</td>\n",
       "      <td>3</td>\n",
       "      <td>1</td>\n",
       "      <td>26.0</td>\n",
       "      <td>0</td>\n",
       "      <td>0</td>\n",
       "      <td>7.9250</td>\n",
       "      <td>83</td>\n",
       "    </tr>\n",
       "    <tr>\n",
       "      <th>3</th>\n",
       "      <td>4</td>\n",
       "      <td>1</td>\n",
       "      <td>1</td>\n",
       "      <td>1</td>\n",
       "      <td>35.0</td>\n",
       "      <td>1</td>\n",
       "      <td>0</td>\n",
       "      <td>53.1000</td>\n",
       "      <td>83</td>\n",
       "    </tr>\n",
       "    <tr>\n",
       "      <th>4</th>\n",
       "      <td>5</td>\n",
       "      <td>0</td>\n",
       "      <td>3</td>\n",
       "      <td>0</td>\n",
       "      <td>35.0</td>\n",
       "      <td>0</td>\n",
       "      <td>0</td>\n",
       "      <td>8.0500</td>\n",
       "      <td>83</td>\n",
       "    </tr>\n",
       "  </tbody>\n",
       "</table>\n",
       "</div>"
      ],
      "text/plain": [
       "   PassengerId  Survived  Pclass  Sex   Age  SibSp  Parch     Fare  Embarked\n",
       "0            1         0       3    0  22.0      1      0   7.2500        83\n",
       "1            2         1       1    1  38.0      1      0  71.2833        67\n",
       "2            3         1       3    1  26.0      0      0   7.9250        83\n",
       "3            4         1       1    1  35.0      1      0  53.1000        83\n",
       "4            5         0       3    0  35.0      0      0   8.0500        83"
      ]
     },
     "execution_count": 3,
     "metadata": {},
     "output_type": "execute_result"
    }
   ],
   "source": [
    "#Test cell\n",
    "train_aug.head()#.as_matrix().tolist()"
   ]
  },
  {
   "cell_type": "code",
   "execution_count": 4,
   "metadata": {},
   "outputs": [
    {
     "data": {
      "text/html": [
       "<div>\n",
       "<style>\n",
       "    .dataframe thead tr:only-child th {\n",
       "        text-align: right;\n",
       "    }\n",
       "\n",
       "    .dataframe thead th {\n",
       "        text-align: left;\n",
       "    }\n",
       "\n",
       "    .dataframe tbody tr th {\n",
       "        vertical-align: top;\n",
       "    }\n",
       "</style>\n",
       "<table border=\"1\" class=\"dataframe\">\n",
       "  <thead>\n",
       "    <tr style=\"text-align: right;\">\n",
       "      <th></th>\n",
       "      <th>PassengerId</th>\n",
       "      <th>Pclass</th>\n",
       "      <th>Sex</th>\n",
       "      <th>Age</th>\n",
       "      <th>SibSp</th>\n",
       "      <th>Parch</th>\n",
       "      <th>Fare</th>\n",
       "      <th>Embarked</th>\n",
       "    </tr>\n",
       "  </thead>\n",
       "  <tbody>\n",
       "    <tr>\n",
       "      <th>0</th>\n",
       "      <td>892</td>\n",
       "      <td>3</td>\n",
       "      <td>0</td>\n",
       "      <td>34.5</td>\n",
       "      <td>0</td>\n",
       "      <td>0</td>\n",
       "      <td>7.8292</td>\n",
       "      <td>81</td>\n",
       "    </tr>\n",
       "    <tr>\n",
       "      <th>1</th>\n",
       "      <td>893</td>\n",
       "      <td>3</td>\n",
       "      <td>1</td>\n",
       "      <td>47.0</td>\n",
       "      <td>1</td>\n",
       "      <td>0</td>\n",
       "      <td>7.0000</td>\n",
       "      <td>83</td>\n",
       "    </tr>\n",
       "    <tr>\n",
       "      <th>2</th>\n",
       "      <td>894</td>\n",
       "      <td>2</td>\n",
       "      <td>0</td>\n",
       "      <td>62.0</td>\n",
       "      <td>0</td>\n",
       "      <td>0</td>\n",
       "      <td>9.6875</td>\n",
       "      <td>81</td>\n",
       "    </tr>\n",
       "    <tr>\n",
       "      <th>3</th>\n",
       "      <td>895</td>\n",
       "      <td>3</td>\n",
       "      <td>0</td>\n",
       "      <td>27.0</td>\n",
       "      <td>0</td>\n",
       "      <td>0</td>\n",
       "      <td>8.6625</td>\n",
       "      <td>83</td>\n",
       "    </tr>\n",
       "    <tr>\n",
       "      <th>4</th>\n",
       "      <td>896</td>\n",
       "      <td>3</td>\n",
       "      <td>1</td>\n",
       "      <td>22.0</td>\n",
       "      <td>1</td>\n",
       "      <td>1</td>\n",
       "      <td>12.2875</td>\n",
       "      <td>83</td>\n",
       "    </tr>\n",
       "  </tbody>\n",
       "</table>\n",
       "</div>"
      ],
      "text/plain": [
       "   PassengerId  Pclass  Sex   Age  SibSp  Parch     Fare  Embarked\n",
       "0          892       3    0  34.5      0      0   7.8292        81\n",
       "1          893       3    1  47.0      1      0   7.0000        83\n",
       "2          894       2    0  62.0      0      0   9.6875        81\n",
       "3          895       3    0  27.0      0      0   8.6625        83\n",
       "4          896       3    1  22.0      1      1  12.2875        83"
      ]
     },
     "execution_count": 4,
     "metadata": {},
     "output_type": "execute_result"
    }
   ],
   "source": [
    "#Test cell\n",
    "test_aug.head()#.as_matrix().tolist()"
   ]
  },
  {
   "cell_type": "code",
   "execution_count": 5,
   "metadata": {},
   "outputs": [
    {
     "name": "stdout",
     "output_type": "stream",
     "text": [
      "[1, 2, 3]\n",
      "[4, 5, 6]\n",
      "[1, 2, 3, 4, 5, 6]\n",
      "[1, 2, 3, 4, 5, 6]\n"
     ]
    },
    {
     "data": {
      "text/plain": [
       "83"
      ]
     },
     "execution_count": 5,
     "metadata": {},
     "output_type": "execute_result"
    }
   ],
   "source": [
    "#test cell\n",
    "a = [1,2, 3]\n",
    "b = [4,5, 6]\n",
    "print(a)\n",
    "print(b)\n",
    "print(a+b)\n",
    "c = (a+b)\n",
    "print(c[:2] + c[2:])\n",
    "int(\"female\".encode('utf-8').hex(), 16)/111222333\n",
    "# type(7.462530e-07)\n",
    "int('S'.encode('utf-8').hex(), 16)"
   ]
  },
  {
   "cell_type": "code",
   "execution_count": 8,
   "metadata": {
    "scrolled": true
   },
   "outputs": [],
   "source": [
    "# data_train = train_aug.as_matrix().tolist()\n",
    "# features_train = list(map(lambda passenger: passenger[:1] + passenger[2:3] + passenger[4:], data_train))\n",
    "# labels_train =  list(map(lambda passenger: passenger[1] , data))\n",
    "\n",
    "# data_test = test_aug.as_matrix().tolist()\n",
    "# features_test = list(map(lambda passenger: passenger[:1] + passenger[2:3] + passenger[4:], data_test))\n",
    "# labels_test =  list(map(lambda passenger: passenger[1] , data))\n",
    "data_train = train_aug.as_matrix().tolist()\n",
    "features_train = list(map(lambda passenger: passenger[:1] + passenger[2:], data_train))\n",
    "labels_train =  list(map(lambda passenger: passenger[1] , data_train))\n",
    "\n",
    "data_test = test_aug.as_matrix().tolist()\n",
    "features_test = data_test\n",
    "# print(data_test)\n",
    "# print(labels)"
   ]
  },
  {
   "cell_type": "markdown",
   "metadata": {},
   "source": [
    "## Test Plots"
   ]
  },
  {
   "cell_type": "code",
   "execution_count": 36,
   "metadata": {},
   "outputs": [
    {
     "data": {
      "image/png": "[encoded data removed]",
      "text/plain": [
       "<matplotlib.figure.Figure at 0x2727b0d57f0>"
      ]
     },
     "metadata": {},
     "output_type": "display_data"
    }
   ],
   "source": [
    "import matplotlib.pyplot as plt\n",
    "plt.clf()\n",
    "f1_name = list(train_aug)[4]\n",
    "f2_name = list(train_aug)[7]\n",
    "\n",
    "# for passenger, aod in zip(features_train, labels_train):\n",
    "#     if(aod):\n",
    "#         plt.scatter(passenger[3], passenger[6], color = 'b')\n",
    "#     else:\n",
    "#         plt.scatter(passenger[3], passenger[6], color = 'r')\n",
    "x_s = []\n",
    "y_s = []\n",
    "x_d = []\n",
    "y_d = []\n",
    "for passenger, aod in zip(features_train, labels_train):\n",
    "    if(aod):\n",
    "        x_s.append(passenger[3])\n",
    "        y_s.append(passenger[6])\n",
    "    else:\n",
    "        x_d.append(passenger[3])\n",
    "        y_d.append(passenger[6])\n",
    "        \n",
    "plt.scatter(x_s, y_s, label = 'Survived', color = 'b')\n",
    "plt.scatter(x_d, y_d, label = 'Did not survived', color = 'r')\n",
    "\n",
    "plt.title(f1_name+\" vs \"+f2_name)\n",
    "plt.xlabel(f1_name)\n",
    "plt.ylabel(f2_name)\n",
    "plt.legend()\n",
    "plt.show()"
   ]
  },
  {
   "cell_type": "code",
   "execution_count": 37,
   "metadata": {},
   "outputs": [
    {
     "data": {
      "image/png": "[encoded data removed]",
      "text/plain": [
       "<matplotlib.figure.Figure at 0x272784915c0>"
      ]
     },
     "metadata": {},
     "output_type": "display_data"
    }
   ],
   "source": [
    "import matplotlib.pyplot as plt\n",
    "plt.clf()\n",
    "f1_name = list(train_aug)[3]\n",
    "f2_name = list(train_aug)[4]\n",
    "\n",
    "x_s = []\n",
    "y_s = []\n",
    "x_d = []\n",
    "y_d = []\n",
    "for passenger, aod in zip(features_train, labels_train):\n",
    "    if(aod):\n",
    "        x_s.append(passenger[2])\n",
    "        y_s.append(passenger[3])\n",
    "    else:\n",
    "        x_d.append(passenger[2])\n",
    "        y_d.append(passenger[3])\n",
    "        \n",
    "plt.scatter(x_s, y_s, label = 'Survived', color = 'b')\n",
    "plt.scatter(x_d, y_d, label = 'Did not survived', color = 'r')\n",
    "\n",
    "plt.title(f1_name+\" vs \"+f2_name)\n",
    "plt.xlabel(f1_name)\n",
    "plt.ylabel(f2_name)\n",
    "plt.legend()\n",
    "plt.show()"
   ]
  },
  {
   "cell_type": "code",
   "execution_count": 41,
   "metadata": {},
   "outputs": [
    {
     "data": {
      "image/png": "[encoded data removed]",
      "text/plain": [
       "<matplotlib.figure.Figure at 0x2727b0f4278>"
      ]
     },
     "metadata": {},
     "output_type": "display_data"
    }
   ],
   "source": [
    "import matplotlib.pyplot as plt\n",
    "plt.clf()\n",
    "f1_name = list(train_aug)[2]\n",
    "f2_name = list(train_aug)[4]\n",
    "\n",
    "x_s = []\n",
    "y_s = []\n",
    "x_d = []\n",
    "y_d = []\n",
    "for passenger, aod in zip(features_train, labels_train):\n",
    "    if(aod):\n",
    "        x_s.append(passenger[1])\n",
    "        y_s.append(passenger[3])\n",
    "    else:\n",
    "        x_d.append(passenger[1])\n",
    "        y_d.append(passenger[3])\n",
    "        \n",
    "plt.scatter(x_s, y_s, label = 'Survived', color = 'b')\n",
    "plt.scatter(x_d, y_d, label = 'Did not survived', color = 'r')\n",
    "\n",
    "plt.title(f1_name+\" vs \"+f2_name)\n",
    "plt.xlabel(f1_name)\n",
    "plt.ylabel(f2_name)\n",
    "plt.legend()\n",
    "plt.show()"
   ]
  },
  {
   "cell_type": "code",
   "execution_count": 39,
   "metadata": {},
   "outputs": [
    {
     "data": {
      "image/png": "[encoded data removed]",
      "text/plain": [
       "<matplotlib.figure.Figure at 0x2727a7e3cc0>"
      ]
     },
     "metadata": {},
     "output_type": "display_data"
    }
   ],
   "source": [
    "import matplotlib.pyplot as plt\n",
    "plt.clf()\n",
    "f1_name = list(train_aug)[2]\n",
    "f2_name = list(train_aug)[7]\n",
    "\n",
    "x_s = []\n",
    "y_s = []\n",
    "x_d = []\n",
    "y_d = []\n",
    "for passenger, aod in zip(features_train, labels_train):\n",
    "    if(aod):\n",
    "        x_s.append(passenger[1])\n",
    "        y_s.append(passenger[6])\n",
    "    else:\n",
    "        x_d.append(passenger[1])\n",
    "        y_d.append(passenger[6])\n",
    "        \n",
    "plt.scatter(x_s, y_s, label = 'Survived', color = 'b')\n",
    "plt.scatter(x_d, y_d, label = 'Did not survived', color = 'r')\n",
    "\n",
    "plt.title(f1_name+\" vs \"+f2_name)\n",
    "plt.xlabel(f1_name)\n",
    "plt.ylabel(f2_name)\n",
    "plt.legend()\n",
    "plt.show()"
   ]
  },
  {
   "cell_type": "code",
   "execution_count": 22,
   "metadata": {},
   "outputs": [
    {
     "name": "stdout",
     "output_type": "stream",
     "text": [
      "training time: 0.004 s\n",
      "prediction time: 0.0 s\n"
     ]
    },
    {
     "data": {
      "text/html": [
       "<div>\n",
       "<style>\n",
       "    .dataframe thead tr:only-child th {\n",
       "        text-align: right;\n",
       "    }\n",
       "\n",
       "    .dataframe thead th {\n",
       "        text-align: left;\n",
       "    }\n",
       "\n",
       "    .dataframe tbody tr th {\n",
       "        vertical-align: top;\n",
       "    }\n",
       "</style>\n",
       "<table border=\"1\" class=\"dataframe\">\n",
       "  <thead>\n",
       "    <tr style=\"text-align: right;\">\n",
       "      <th></th>\n",
       "      <th>Survived</th>\n",
       "    </tr>\n",
       "    <tr>\n",
       "      <th>PassengerId</th>\n",
       "      <th></th>\n",
       "    </tr>\n",
       "  </thead>\n",
       "  <tbody>\n",
       "    <tr>\n",
       "      <th>892</th>\n",
       "      <td>0.0</td>\n",
       "    </tr>\n",
       "    <tr>\n",
       "      <th>893</th>\n",
       "      <td>0.0</td>\n",
       "    </tr>\n",
       "    <tr>\n",
       "      <th>894</th>\n",
       "      <td>0.0</td>\n",
       "    </tr>\n",
       "    <tr>\n",
       "      <th>895</th>\n",
       "      <td>1.0</td>\n",
       "    </tr>\n",
       "    <tr>\n",
       "      <th>896</th>\n",
       "      <td>0.0</td>\n",
       "    </tr>\n",
       "  </tbody>\n",
       "</table>\n",
       "</div>"
      ],
      "text/plain": [
       "             Survived\n",
       "PassengerId          \n",
       "892               0.0\n",
       "893               0.0\n",
       "894               0.0\n",
       "895               1.0\n",
       "896               0.0"
      ]
     },
     "execution_count": 22,
     "metadata": {},
     "output_type": "execute_result"
    }
   ],
   "source": [
    "from sklearn.tree import DecisionTreeClassifier as dt\n",
    "\n",
    "clf  = dt()\n",
    "\n",
    "t0 = time()\n",
    "clf.fit(features_train, labels_train)\n",
    "print(\"training time:\", round(time()-t0, 3), \"s\")\n",
    "\n",
    "t0 = time()\n",
    "pred = clf.predict(features_test)\n",
    "print(\"prediction time:\", round(time()-t0, 3), \"s\")\n",
    "\n",
    "# from sklearn.metrics import accuracy_score\n",
    "# acc = accuracy_score(pred, labels_test)\n",
    "\n",
    "# print(acc)\n",
    "result = test_aug[\"PassengerId\"].to_frame()\n",
    "result[\"Survived\"] = pd.Series(pred)\n",
    "result = result.set_index(\"PassengerId\")\n",
    "result.to_csv('all/results.csv')\n",
    "result.head()"
   ]
  },
  {
   "cell_type": "code",
   "execution_count": 49,
   "metadata": {},
   "outputs": [
    {
     "name": "stdout",
     "output_type": "stream",
     "text": [
      "Classifier Accuracy: 0.782296650718\n"
     ]
    }
   ],
   "source": [
    "actual = pd.read_csv('all/gender_submission.csv')\n",
    "from sklearn.metrics import accuracy_score\n",
    "acc = accuracy_score(actual[\"Survived\"], result[\"Survived\"])\n",
    "print(\"Classifier Accuracy: \"+ str(acc))"
   ]
  },
  {
   "cell_type": "code",
   "execution_count": null,
   "metadata": {
    "collapsed": true
   },
   "outputs": [],
   "source": []
  }
 ],
 "metadata": {
  "kernelspec": {
   "display_name": "Python 3",
   "language": "python",
   "name": "python3"
  },
  "language_info": {
   "codemirror_mode": {
    "name": "ipython",
    "version": 3
   },
   "file_extension": ".py",
   "mimetype": "text/x-python",
   "name": "python",
   "nbconvert_exporter": "python",
   "pygments_lexer": "ipython3",
   "version": "3.6.3"
  }
 },
 "nbformat": 4,
 "nbformat_minor": 2
}
