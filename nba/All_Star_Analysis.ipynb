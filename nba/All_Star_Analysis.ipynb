{
 "cells": [
  {
   "cell_type": "code",
   "execution_count": 61,
   "metadata": {
    "collapsed": true
   },
   "outputs": [],
   "source": [
    "#Packages Needed\n",
    "import pandas as pd\n",
    "import numpy as np\n",
    "import re"
   ]
  },
  {
   "cell_type": "markdown",
   "metadata": {},
   "source": [
    "### This analysis is based on the All-Star data from 2000 - 2016"
   ]
  },
  {
   "cell_type": "markdown",
   "metadata": {},
   "source": [
    "The .csv file was created by "
   ]
  },
  {
   "cell_type": "code",
   "execution_count": 9,
   "metadata": {
    "scrolled": true
   },
   "outputs": [
    {
     "data": {
      "text/html": [
       "<div>\n",
       "<style>\n",
       "    .dataframe thead tr:only-child th {\n",
       "        text-align: right;\n",
       "    }\n",
       "\n",
       "    .dataframe thead th {\n",
       "        text-align: left;\n",
       "    }\n",
       "\n",
       "    .dataframe tbody tr th {\n",
       "        vertical-align: top;\n",
       "    }\n",
       "</style>\n",
       "<table border=\"1\" class=\"dataframe\">\n",
       "  <thead>\n",
       "    <tr style=\"text-align: right;\">\n",
       "      <th></th>\n",
       "      <th>year</th>\n",
       "      <th>player</th>\n",
       "      <th>pos</th>\n",
       "      <th>ht</th>\n",
       "      <th>wt</th>\n",
       "      <th>team</th>\n",
       "      <th>selection_type</th>\n",
       "      <th>nba_draft_status</th>\n",
       "      <th>nationality</th>\n",
       "    </tr>\n",
       "  </thead>\n",
       "  <tbody>\n",
       "    <tr>\n",
       "      <th>434</th>\n",
       "      <td>2000</td>\n",
       "      <td>Antonio McDyess</td>\n",
       "      <td>F</td>\n",
       "      <td>6-9</td>\n",
       "      <td>245</td>\n",
       "      <td>Denver Nuggets</td>\n",
       "      <td>Western All-Star Coaches Selection</td>\n",
       "      <td>1995 Rnd 1 Pick 2</td>\n",
       "      <td>United States</td>\n",
       "    </tr>\n",
       "    <tr>\n",
       "      <th>435</th>\n",
       "      <td>2000</td>\n",
       "      <td>Gary Payton</td>\n",
       "      <td>G</td>\n",
       "      <td>6-4</td>\n",
       "      <td>180</td>\n",
       "      <td>Seattle SuperSonics</td>\n",
       "      <td>Western All-Star Coaches Selection</td>\n",
       "      <td>1990 Rnd 1 Pick 2</td>\n",
       "      <td>United States</td>\n",
       "    </tr>\n",
       "    <tr>\n",
       "      <th>436</th>\n",
       "      <td>2000</td>\n",
       "      <td>Rasheed Wallace</td>\n",
       "      <td>FC</td>\n",
       "      <td>6-11</td>\n",
       "      <td>230</td>\n",
       "      <td>Portland Trail Blazers</td>\n",
       "      <td>Western All-Star Coaches Selection</td>\n",
       "      <td>1995 Rnd 1 Pick 4</td>\n",
       "      <td>United States</td>\n",
       "    </tr>\n",
       "    <tr>\n",
       "      <th>437</th>\n",
       "      <td>2000</td>\n",
       "      <td>David Robinson</td>\n",
       "      <td>C</td>\n",
       "      <td>7-1</td>\n",
       "      <td>250</td>\n",
       "      <td>San Antonio Spurs</td>\n",
       "      <td>Western All-Star Coaches Selection</td>\n",
       "      <td>1987 Rnd 1 Pick 1</td>\n",
       "      <td>United States</td>\n",
       "    </tr>\n",
       "    <tr>\n",
       "      <th>438</th>\n",
       "      <td>2000</td>\n",
       "      <td>Vlade Divac</td>\n",
       "      <td>C</td>\n",
       "      <td>7-1</td>\n",
       "      <td>260</td>\n",
       "      <td>Sacramento Kings</td>\n",
       "      <td>Western All-Star Replacement Selection</td>\n",
       "      <td>1989 Rnd 1 Pick 26</td>\n",
       "      <td>Serbia</td>\n",
       "    </tr>\n",
       "  </tbody>\n",
       "</table>\n",
       "</div>"
      ],
      "text/plain": [
       "     year           player pos    ht   wt                    team  \\\n",
       "434  2000  Antonio McDyess   F   6-9  245          Denver Nuggets   \n",
       "435  2000      Gary Payton   G   6-4  180     Seattle SuperSonics   \n",
       "436  2000  Rasheed Wallace  FC  6-11  230  Portland Trail Blazers   \n",
       "437  2000   David Robinson   C   7-1  250       San Antonio Spurs   \n",
       "438  2000      Vlade Divac   C   7-1  260        Sacramento Kings   \n",
       "\n",
       "                             selection_type    nba_draft_status    nationality  \n",
       "434      Western All-Star Coaches Selection   1995 Rnd 1 Pick 2  United States  \n",
       "435      Western All-Star Coaches Selection   1990 Rnd 1 Pick 2  United States  \n",
       "436      Western All-Star Coaches Selection   1995 Rnd 1 Pick 4  United States  \n",
       "437      Western All-Star Coaches Selection   1987 Rnd 1 Pick 1  United States  \n",
       "438  Western All-Star Replacement Selection  1989 Rnd 1 Pick 26         Serbia  "
      ]
     },
     "execution_count": 9,
     "metadata": {},
     "output_type": "execute_result"
    }
   ],
   "source": [
    "df = pd.read_csv('gmoney-nba-all-stars-2000-2016/data/nba_all_star_games.csv')\n",
    "df.tail()"
   ]
  },
  {
   "cell_type": "code",
   "execution_count": 10,
   "metadata": {
    "scrolled": false
   },
   "outputs": [
    {
     "data": {
      "text/html": [
       "<div>\n",
       "<style>\n",
       "    .dataframe thead tr:only-child th {\n",
       "        text-align: right;\n",
       "    }\n",
       "\n",
       "    .dataframe thead th {\n",
       "        text-align: left;\n",
       "    }\n",
       "\n",
       "    .dataframe tbody tr th {\n",
       "        vertical-align: top;\n",
       "    }\n",
       "</style>\n",
       "<table border=\"1\" class=\"dataframe\">\n",
       "  <thead>\n",
       "    <tr style=\"text-align: right;\">\n",
       "      <th></th>\n",
       "      <th>index</th>\n",
       "      <th>year</th>\n",
       "      <th>player</th>\n",
       "      <th>pos</th>\n",
       "      <th>ht</th>\n",
       "      <th>wt</th>\n",
       "      <th>team</th>\n",
       "      <th>selection_type</th>\n",
       "      <th>nba_draft_status</th>\n",
       "      <th>nationality</th>\n",
       "    </tr>\n",
       "  </thead>\n",
       "  <tbody>\n",
       "    <tr>\n",
       "      <th>118</th>\n",
       "      <td>425</td>\n",
       "      <td>2000</td>\n",
       "      <td>Allan Houston</td>\n",
       "      <td>G</td>\n",
       "      <td>6-6</td>\n",
       "      <td>205</td>\n",
       "      <td>New York Knicks</td>\n",
       "      <td>Eastern All-Star Coaches Selection</td>\n",
       "      <td>1993 Rnd 1 Pick 11</td>\n",
       "      <td>United States</td>\n",
       "    </tr>\n",
       "    <tr>\n",
       "      <th>119</th>\n",
       "      <td>431</td>\n",
       "      <td>2000</td>\n",
       "      <td>Michael Finley</td>\n",
       "      <td>G-F</td>\n",
       "      <td>6-7</td>\n",
       "      <td>225</td>\n",
       "      <td>Dallas Mavericks</td>\n",
       "      <td>Western All-Star Coaches Selection</td>\n",
       "      <td>1995 Rnd 1 Pick 21</td>\n",
       "      <td>United States</td>\n",
       "    </tr>\n",
       "    <tr>\n",
       "      <th>120</th>\n",
       "      <td>434</td>\n",
       "      <td>2000</td>\n",
       "      <td>Antonio McDyess</td>\n",
       "      <td>F</td>\n",
       "      <td>6-9</td>\n",
       "      <td>245</td>\n",
       "      <td>Denver Nuggets</td>\n",
       "      <td>Western All-Star Coaches Selection</td>\n",
       "      <td>1995 Rnd 1 Pick 2</td>\n",
       "      <td>United States</td>\n",
       "    </tr>\n",
       "    <tr>\n",
       "      <th>121</th>\n",
       "      <td>437</td>\n",
       "      <td>2000</td>\n",
       "      <td>David Robinson</td>\n",
       "      <td>C</td>\n",
       "      <td>7-1</td>\n",
       "      <td>250</td>\n",
       "      <td>San Antonio Spurs</td>\n",
       "      <td>Western All-Star Coaches Selection</td>\n",
       "      <td>1987 Rnd 1 Pick 1</td>\n",
       "      <td>United States</td>\n",
       "    </tr>\n",
       "    <tr>\n",
       "      <th>122</th>\n",
       "      <td>438</td>\n",
       "      <td>2000</td>\n",
       "      <td>Vlade Divac</td>\n",
       "      <td>C</td>\n",
       "      <td>7-1</td>\n",
       "      <td>260</td>\n",
       "      <td>Sacramento Kings</td>\n",
       "      <td>Western All-Star Replacement Selection</td>\n",
       "      <td>1989 Rnd 1 Pick 26</td>\n",
       "      <td>Serbia</td>\n",
       "    </tr>\n",
       "  </tbody>\n",
       "</table>\n",
       "</div>"
      ],
      "text/plain": [
       "     index  year           player  pos   ht   wt               team  \\\n",
       "118    425  2000    Allan Houston    G  6-6  205    New York Knicks   \n",
       "119    431  2000   Michael Finley  G-F  6-7  225   Dallas Mavericks   \n",
       "120    434  2000  Antonio McDyess    F  6-9  245     Denver Nuggets   \n",
       "121    437  2000   David Robinson    C  7-1  250  San Antonio Spurs   \n",
       "122    438  2000      Vlade Divac    C  7-1  260   Sacramento Kings   \n",
       "\n",
       "                             selection_type    nba_draft_status    nationality  \n",
       "118      Eastern All-Star Coaches Selection  1993 Rnd 1 Pick 11  United States  \n",
       "119      Western All-Star Coaches Selection  1995 Rnd 1 Pick 21  United States  \n",
       "120      Western All-Star Coaches Selection   1995 Rnd 1 Pick 2  United States  \n",
       "121      Western All-Star Coaches Selection   1987 Rnd 1 Pick 1  United States  \n",
       "122  Western All-Star Replacement Selection  1989 Rnd 1 Pick 26         Serbia  "
      ]
     },
     "execution_count": 10,
     "metadata": {},
     "output_type": "execute_result"
    }
   ],
   "source": [
    "#Needed so repeated player data doesn't skew the data\n",
    "filtered_df = df.drop_duplicates(subset = 'player')\n",
    "filtered_df = filtered_df.reset_index()\n",
    "filtered_df.tail()"
   ]
  },
  {
   "cell_type": "markdown",
   "metadata": {},
   "source": [
    "#### This cell just checks the nations that players have come from"
   ]
  },
  {
   "cell_type": "code",
   "execution_count": 11,
   "metadata": {},
   "outputs": [
    {
     "name": "stdout",
     "output_type": "stream",
     "text": [
      "There have been 10 all-stars that represent multiple nations from 2000-2016\n",
      "\n",
      "Countries that have ties with all starts include:\n",
      "Lithuania, Canada, United States, Australia, Democratic Republic of the Congo, Argentina, Russia, China, South Sudan, France, Nigeria, South Africa, Spain, Greece, Germany, England, Turkey, Dominican Republic, and Serbia.\n"
     ]
    }
   ],
   "source": [
    "filtered_df[\"Multi National\"] = filtered_df.apply(lambda row: 1 if '\\n' in row['nationality'] else 0, axis = 1)\n",
    "num_of_multi_nationals = filtered_df[\"Multi National\"].sum()\n",
    "\n",
    "countries_w_AS = filtered_df.drop_duplicates(subset = 'nationality')['nationality'].tolist()\n",
    "multi_nationals = []\n",
    "need_to_rm = []\n",
    "for country in countries_w_AS:\n",
    "    if '\\n' in country:\n",
    "        temp = country.split('\\n')\n",
    "        multi_nationals += temp\n",
    "        need_to_rm.append(country)\n",
    "#         print(repr(country))\n",
    "for country in need_to_rm:\n",
    "    countries_w_AS.remove(country)\n",
    "\n",
    "# print(multi_nationals)\n",
    "countries_w_AS = list(set(countries_w_AS+multi_nationals))\n",
    "\n",
    "print(\"There have been\", num_of_multi_nationals,\"all-stars that represent multiple nations from 2000-2016\\n\")\n",
    "print(\"Countries that have ties with all starts include:\")\n",
    "build_str = ''\n",
    "for i in range(0, len(countries_w_AS)-1):\n",
    "#     print(countries_w_AS[i])\n",
    "    build_str += countries_w_AS[i] + ', '\n",
    "build_str += 'and ' + countries_w_AS[-1] + '.'\n",
    "print(build_str)"
   ]
  },
  {
   "cell_type": "code",
   "execution_count": 146,
   "metadata": {},
   "outputs": [],
   "source": [
    "#Takes input as an int for inches\n",
    "#Returns a string in the format of 'Feet-Inches'\n",
    "def inchesToFeet(inches):\n",
    "    ft = int(inches)//12\n",
    "    i = inches%12\n",
    "    return str(ft)+'-'+str(i)\n",
    "#Takes input as a string in the format of 'Feet-Inches'\n",
    "#Returns an int for inches\n",
    "def feetToInches(ht):\n",
    "    digits = re.findall(r'[0-9]+',ht)\n",
    "    feet = int(digits[0])\n",
    "    inches = int(digits[1])\n",
    "    return (feet*12) + inches"
   ]
  },
  {
   "cell_type": "code",
   "execution_count": 24,
   "metadata": {},
   "outputs": [],
   "source": [
    "'''\n",
    "True position consists of 3 different classifications:\n",
    "    G -> Guard  Traditional PG, and Combo Guards\n",
    "    W -> Wing   Traditional SF, Traditional SG, SF/PF tweeners\n",
    "    B -> Big    Traditional PF, Traditional C, Stretch 4's\n",
    "'''\n",
    "filtered_df[\"true pos\"] = filtered_df[\"pos\"]\n",
    "filtered_df[\"true pos\"]  = filtered_df.apply(lambda row: 'G' if 'G' in row['pos'] else row['true pos'], axis = 1)\n",
    "filtered_df[\"true pos\"]  = filtered_df.apply(lambda row: 'W' if 'F' in row['pos'] else row['true pos'], axis = 1)\n",
    "filtered_df[\"true pos\"]  = filtered_df.apply(lambda row: 'B' if 'PF' in row['pos'] else row['true pos'], axis = 1)\n",
    "filtered_df[\"true pos\"]  = filtered_df.apply(lambda row: 'B' if 'C' in row['pos'] else row['true pos'], axis = 1)\n",
    "# filtered_df"
   ]
  },
  {
   "cell_type": "code",
   "execution_count": 149,
   "metadata": {},
   "outputs": [
    {
     "name": "stdout",
     "output_type": "stream",
     "text": [
      "The average height of a Guard was: 6-3.3414634146341484\n",
      "The average height of a Wing was: 6-7.885714285714286\n",
      "The average height of a Big was: 6-11.0\n"
     ]
    }
   ],
   "source": [
    "heightInInches = pd.DataFrame()\n",
    "heightInInches[\"true pos\"] = filtered_df[\"true pos\"]\n",
    "heightInInches[\"ht (inches)\"] = filtered_df.apply(lambda row: feetToInches(row['ht']), axis = 1)\n",
    "heightInInches[\"guard hts\"] = heightInInches.apply(lambda row: row['ht (inches)'] if row['true pos'] == 'G' else 0, axis = 1).replace(0, np.nan)\n",
    "heightInInches[\"wing hts\"] = heightInInches.apply(lambda row: row['ht (inches)'] if row['true pos'] == 'W' else 0, axis = 1).replace(0, np.nan)\n",
    "heightInInches[\"big hts\"] = heightInInches.apply(lambda row: row['ht (inches)'] if row['true pos'] == 'B' else 0, axis = 1).replace(0, np.nan)\n",
    "\n",
    "avgHeightAll = heightInInches[\"ht (inches)\"].mean()\n",
    "avgHeightG = heightInInches[\"guard hts\"].mean()\n",
    "avgHeightW = heightInInches['wing hts'].mean()\n",
    "avgHeightB = heightInInches['big hts'].mean()\n",
    "# heightInInches.mean()\n",
    "print(\"The average height of a Guard was: \"+ inchesToFeet(avgHeightG))\n",
    "print(\"The average height of a Wing was: \"+ inchesToFeet(avgHeightW))\n",
    "print(\"The average height of a Big was: \"+ inchesToFeet(avgHeightB))"
   ]
  },
  {
   "cell_type": "code",
   "execution_count": 159,
   "metadata": {},
   "outputs": [],
   "source": [
    "def draftPosConverter(pos):\n",
    "    if(type(pos) == int or type(pos) == float):\n",
    "#         print(\"Pos is an int\")\n",
    "        return \"Rnd \" + str(int(((pos-1)//30)+1)) + \" Pick \" + str((pos-1)%30+1)\n",
    "    elif(type(pos) == str):\n",
    "#         print(\"Pos is a str\")\n",
    "        rnd = re.findall(r'Rnd\\s\\d', pos)\n",
    "        if len(rnd) == 0:\n",
    "            return np.nan\n",
    "        rnd = int(rnd[0][3:])\n",
    "        pick = int(re.findall(r'Pick\\s\\d+$', pos)[0][4:])\n",
    "        return (rnd - 1)*30 + pick\n",
    "    else:\n",
    "        return np.nan"
   ]
  },
  {
   "cell_type": "code",
   "execution_count": 160,
   "metadata": {},
   "outputs": [
    {
     "name": "stdout",
     "output_type": "stream",
     "text": [
      "2 All-Stars from 2000-2016 were undrafted free agents\n",
      "The average draft position of All-Stars from 2000-2016 discounting UDFA was: Rnd 1 Pick 13.561983471074381\n"
     ]
    }
   ],
   "source": [
    "draftPos = pd.DataFrame()\n",
    "draftPos['undrafted'] = filtered_df.apply(lambda row: 1 if 'Undrafted' in row['nba_draft_status'] else 0, axis = 1)\n",
    "num_UDFA = draftPos['undrafted'].cumsum().tolist()[-1]\n",
    "print('%d All-Stars from 2000-2016 were undrafted free agents' % (num_UDFA))\n",
    "draftPos['draft_pos'] = filtered_df.apply(lambda row: draftPosConverter(row['nba_draft_status']), axis = 1)\n",
    "print(\"The average draft position of All-Stars from 2000-2016 discounting UDFA was: \" + \\\n",
    "      draftPosConverter(draftPos['draft_pos'].mean()))"
   ]
  },
  {
   "cell_type": "code",
   "execution_count": null,
   "metadata": {
    "collapsed": true
   },
   "outputs": [],
   "source": []
  }
 ],
 "metadata": {
  "kernelspec": {
   "display_name": "Python 3",
   "language": "python",
   "name": "python3"
  },
  "language_info": {
   "codemirror_mode": {
    "name": "ipython",
    "version": 3
   },
   "file_extension": ".py",
   "mimetype": "text/x-python",
   "name": "python",
   "nbconvert_exporter": "python",
   "pygments_lexer": "ipython3",
   "version": "3.6.3"
  }
 },
 "nbformat": 4,
 "nbformat_minor": 2
}
