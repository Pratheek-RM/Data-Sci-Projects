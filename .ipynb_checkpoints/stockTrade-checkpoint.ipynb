{
 "cells": [
  {
   "cell_type": "markdown",
   "metadata": {},
   "source": [
    "# Stock Trading Scheme"
   ]
  },
  {
   "cell_type": "markdown",
   "metadata": {},
   "source": [
    "#### Importing packages"
   ]
  },
  {
   "cell_type": "code",
   "execution_count": 2,
   "metadata": {
    "collapsed": true
   },
   "outputs": [],
   "source": [
    "import numpy as np\n",
    "import pandas as pd\n",
    "from copy import deepcopy\n",
    "import quandl\n",
    "from stockAnalysisTools import numToString"
   ]
  },
  {
   "cell_type": "markdown",
   "metadata": {},
   "source": [
    "#### The cell below will be used to pull all the stock data we want and make a dictionary for accessing it"
   ]
  },
  {
   "cell_type": "code",
   "execution_count": 3,
   "metadata": {
    "collapsed": true
   },
   "outputs": [],
   "source": [
    "quandl.ApiConfig.api_key = \"d1JcayaRuvKSaq7GaEHs\"\n",
    "aapl = \"aapl\"\n",
    "aaplData = quandl.get(\"WIKI/\"+aapl)\n",
    "finData = {aapl : aaplData[\"Adj. Close\"]}"
   ]
  },
  {
   "cell_type": "code",
   "execution_count": 22,
   "metadata": {
    "collapsed": true
   },
   "outputs": [],
   "source": [
    "class Portfolio(object):\n",
    "    names = list()\n",
    "    stocks = list()\n",
    "    uninvestedMoney = 0\n",
    "    \n",
    "    def addStock(self, name):\n",
    "        \n",
    "        if(name not in finData.keys()):\n",
    "            print(\"We haven't pulled up data for this stock, so it can't be added\")\n",
    "            return\n",
    "\n",
    "        self.names.append(name)\n",
    "        self.stocks.append(0)\n",
    "    \n",
    "    def addMoney(self, money):\n",
    "        \n",
    "        self.uninvestedMoney += money\n",
    "        \n",
    "    def reset(self):\n",
    "        self.uninvestedMoney = 0\n",
    "        for i in range(len(self.stocks)):\n",
    "            self.stocks[i] = 0\n",
    "        "
   ]
  },
  {
   "cell_type": "code",
   "execution_count": 5,
   "metadata": {
    "collapsed": true
   },
   "outputs": [],
   "source": [
    "def buyStock(name, portfolio, date = 0, price = 0, num = 0, noLimit=True):\n",
    "    if name not in portfolio.names:\n",
    "        print(\"Stock you want to buy isn't in the portfolio\")\n",
    "        print(\"It must be added to the potfolio before you can buy\")\n",
    "        return\n",
    "    \n",
    "    if(date == 0):\n",
    "        price_of_stock = price\n",
    "    else:\n",
    "        price_of_stock = finData[name].loc[date+\" 00:00:00\"]\n",
    "    \n",
    "    if(noLimit):\n",
    "        numOfStock = portfolio.uninvestedMoney/price_of_stock\n",
    "        portfolio.uninvestedMoney -= numOfStock * price_of_stock\n",
    "        portfolio.stocks[portfolio.names.index(name)] += numOfStock\n",
    "    else:\n",
    "        if(num * price_of_stock() > portfolio.uninvestedMoney):\n",
    "            print(\"Can't buy this much stock\")\n",
    "        else:\n",
    "            portfolio.uninvestedMoney -= num * price_of_stock\n",
    "            portfolio.stocks[portfolio.names.index(name)] += num      "
   ]
  },
  {
   "cell_type": "code",
   "execution_count": 6,
   "metadata": {
    "collapsed": true
   },
   "outputs": [],
   "source": [
    "def sellStock(name, portfolio, date = 0, price = 0, num = 0, noLimit=True):\n",
    "    if name not in portfolio.names:\n",
    "        print(\"Stock you want to buy isn't in the portfolio\")\n",
    "        print(\"It must be added to the potfolio before you can buy\")\n",
    "        return\n",
    "    \n",
    "    if(date == 0):\n",
    "        price_of_stock = price\n",
    "    else:\n",
    "        price_of_stock = finData[name].loc[date+\" 00:00:00\"]\n",
    "        \n",
    "    numOfStock = portfolio.stocks[portfolio.names.index(name)]\n",
    "    \n",
    "    if(noLimit):\n",
    "        portfolio.stocks[portfolio.names.index(name)] = 0\n",
    "        \n",
    "        portfolio.uninvestedMoney += numOfStock * price_of_stock\n",
    "    else:\n",
    "        if(numOfStock - num < 0):\n",
    "            print(\"Can't sell this much stock\")\n",
    "        else:\n",
    "            portfolio.uninvestedMoney += num * price_of_stock\n",
    "            portfolio.stocks[portfolio.names.index(name)] -= num"
   ]
  },
  {
   "cell_type": "code",
   "execution_count": 7,
   "metadata": {
    "scrolled": true
   },
   "outputs": [
    {
     "name": "stdout",
     "output_type": "stream",
     "text": [
      "Date\n",
      "2001-07-02      1.535742\n",
      "2001-07-03      1.531886\n",
      "2001-07-05      1.490119\n",
      "2001-07-06      1.415581\n",
      "2001-07-09      1.458633\n",
      "2001-07-10      1.358392\n",
      "2001-07-11      1.448352\n",
      "2001-07-12      1.565300\n",
      "2001-07-13      1.596786\n",
      "2001-07-16      1.539597\n",
      "2001-07-17      1.612850\n",
      "2001-07-18      1.335902\n",
      "2001-07-19      1.282569\n",
      "2001-07-20      1.283854\n",
      "2001-07-23      1.255581\n",
      "2001-07-24      1.226666\n",
      "2001-07-25      1.186826\n",
      "2001-07-26      1.194537\n",
      "2001-07-27      1.218312\n",
      "2001-07-30      1.216384\n",
      "2001-07-31      1.207388\n",
      "2001-08-01      1.224738\n",
      "2001-08-02      1.273573\n",
      "2001-08-03      1.253011\n",
      "2001-08-06      1.229236\n",
      "2001-08-07      1.236947\n",
      "2001-08-08      1.214457\n",
      "2001-08-09      1.224095\n",
      "2001-08-10      1.222168\n",
      "2001-08-13      1.226666\n",
      "                 ...    \n",
      "2018-02-13    164.340000\n",
      "2018-02-14    167.370000\n",
      "2018-02-15    172.990000\n",
      "2018-02-16    172.430000\n",
      "2018-02-20    171.850000\n",
      "2018-02-21    171.070000\n",
      "2018-02-22    172.600000\n",
      "2018-02-23    175.555000\n",
      "2018-02-26    178.970000\n",
      "2018-02-27    178.390000\n",
      "2018-02-28    178.120000\n",
      "2018-03-01    175.000000\n",
      "2018-03-02    176.210000\n",
      "2018-03-05    176.820000\n",
      "2018-03-06    176.670000\n",
      "2018-03-07    175.030000\n",
      "2018-03-08    176.940000\n",
      "2018-03-09    179.980000\n",
      "2018-03-12    181.720000\n",
      "2018-03-13    179.970000\n",
      "2018-03-14    178.440000\n",
      "2018-03-15    178.650000\n",
      "2018-03-16    178.020000\n",
      "2018-03-19    175.300000\n",
      "2018-03-20    175.240000\n",
      "2018-03-21    171.270000\n",
      "2018-03-22    168.845000\n",
      "2018-03-23    164.940000\n",
      "2018-03-26    172.770000\n",
      "2018-03-27    168.340000\n",
      "Name: Adj. Close, Length: 4208, dtype: float64\n"
     ]
    }
   ],
   "source": [
    "# aaplAdjClose = aaplData[\"Adj. Close\"]\n",
    "print(finData[\"aapl\"].loc['2001-07-01':'2018-07-01'])"
   ]
  },
  {
   "cell_type": "markdown",
   "metadata": {},
   "source": [
    "#### Creating Portfolio"
   ]
  },
  {
   "cell_type": "code",
   "execution_count": 24,
   "metadata": {
    "collapsed": true
   },
   "outputs": [],
   "source": [
    "my_portfolio = Portfolio()\n",
    "my_portfolio.addStock(aapl)"
   ]
  },
  {
   "cell_type": "code",
   "execution_count": 9,
   "metadata": {
    "scrolled": true
   },
   "outputs": [
    {
     "name": "stdout",
     "output_type": "stream",
     "text": [
      "168.34\n"
     ]
    }
   ],
   "source": [
    "#This cell is used for testing\n",
    "aaplAdjClose = aaplData[\"Adj. Close\"][\"2018-03-27 00:00:00\"]\n",
    "print(aaplAdjClose)\n",
    "# print(aaplAdjClose.keys()[0])"
   ]
  },
  {
   "cell_type": "code",
   "execution_count": 25,
   "metadata": {},
   "outputs": [],
   "source": [
    "#portfolio reset\n",
    "my_portfolio.reset()\n",
    "my_portfolio.addMoney(100)\n",
    "odd = True\n",
    "startDate = '2001-07-01'\n",
    "endDate = '2018-03-27'\n",
    "for adj_price in finData[aapl].loc[startDate: endDate]:\n",
    "    if(odd):\n",
    "        buyStock(aapl, my_portfolio, price = adj_price)\n",
    "    else:\n",
    "        sellStock(aapl, my_portfolio, price = adj_price)\n",
    "        \n",
    "    odd = (not odd)\n",
    "    \n",
    "sellStock(aapl, my_portfolio, date = endDate)"
   ]
  },
  {
   "cell_type": "code",
   "execution_count": 26,
   "metadata": {},
   "outputs": [
    {
     "name": "stdout",
     "output_type": "stream",
     "text": [
      "Value of Investment $355.03061640616050454\n"
     ]
    }
   ],
   "source": [
    "print(\"Value of Investment $\"+ numToString(my_portfolio.uninvestedMoney))"
   ]
  },
  {
   "cell_type": "markdown",
   "metadata": {},
   "source": [
    "#### Rate of Return Series Generated"
   ]
  },
  {
   "cell_type": "code",
   "execution_count": 21,
   "metadata": {},
   "outputs": [],
   "source": [
    "returnSer = deepcopy(finData)\n",
    "for key in returnSer.keys():\n",
    "    for i in range(len(returnSer[key])-1, 0, -1):\n",
    "        returnSer[key][i] = (returnSer[key][i]/returnSer[key][i-1]) - 1\n",
    "        \n",
    "# print(returnSer[aapl])    "
   ]
  },
  {
   "cell_type": "code",
   "execution_count": null,
   "metadata": {
    "collapsed": true
   },
   "outputs": [],
   "source": []
  }
 ],
 "metadata": {
  "kernelspec": {
   "display_name": "Python 3",
   "language": "python",
   "name": "python3"
  }
 },
 "nbformat": 4,
 "nbformat_minor": 2
}
