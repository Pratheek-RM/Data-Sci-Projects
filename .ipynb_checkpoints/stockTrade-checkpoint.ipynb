{
 "cells": [
  {
   "cell_type": "markdown",
   "metadata": {},
   "source": [
    "# Stock Trading Scheme"
   ]
  },
  {
   "cell_type": "markdown",
   "metadata": {},
   "source": [
    "#### Importing packages"
   ]
  },
  {
   "cell_type": "code",
   "execution_count": 1,
   "metadata": {
    "collapsed": true
   },
   "outputs": [],
   "source": [
    "import numpy as np\n",
    "import pandas as pd\n",
    "from copy import deepcopy\n",
    "import quandl\n",
    "from stockAnalysisTools import numToString"
   ]
  },
  {
   "cell_type": "markdown",
   "metadata": {},
   "source": [
    "#### The cell below will be used to pull all the stock data we want and make a dictionary for accessing it"
   ]
  },
  {
   "cell_type": "code",
   "execution_count": 2,
   "metadata": {
    "collapsed": true
   },
   "outputs": [],
   "source": [
    "quandl.ApiConfig.api_key = \"d1JcayaRuvKSaq7GaEHs\"\n",
    "aapl = \"aapl\"\n",
    "goog  = \"goog\"\n",
    "stockList = [aapl, goog]\n",
    "finData = dict()\n",
    "\n",
    "for ticker in stockList:\n",
    "    finData[ticker] = quandl.get(\"WIKI/\"+ticker)[\"Adj. Close\"]"
   ]
  },
  {
   "cell_type": "markdown",
   "metadata": {},
   "source": [
    "#### Bollinger bands and Rolling Mean Calculated"
   ]
  },
  {
   "cell_type": "markdown",
   "metadata": {},
   "source": [
    "#### Creating object for stock data"
   ]
  },
  {
   "cell_type": "code",
   "execution_count": 3,
   "metadata": {
    "collapsed": true
   },
   "outputs": [],
   "source": [
    "#Not using this class yet\n",
    "class Stock(object):\n",
    "    \n",
    "    def __init__(self, name):\n",
    "        self.name = \"\"\n",
    "        self.num = 0"
   ]
  },
  {
   "cell_type": "markdown",
   "metadata": {},
   "source": [
    "#### Creating an object to hold portfolio data"
   ]
  },
  {
   "cell_type": "code",
   "execution_count": 4,
   "metadata": {
    "collapsed": true
   },
   "outputs": [],
   "source": [
    "class Portfolio(object):\n",
    "    names = list()\n",
    "    stocks = list()\n",
    "    uninvestedMoney = 0\n",
    "    \n",
    "    def addStock(self, name):\n",
    "        \n",
    "        if(name not in finData.keys()):\n",
    "            print(\"We haven't pulled up data for this stock, so it can't be added\")\n",
    "            return\n",
    "\n",
    "#         self.stockList.append(Stock(name))\n",
    "        self.names.append(name)\n",
    "        self.stocks.append(0)\n",
    "    \n",
    "    def addMoney(self, money):\n",
    "        \n",
    "        self.uninvestedMoney += money\n",
    "        \n",
    "    def reset(self):\n",
    "        self.uninvestedMoney = 0\n",
    "        for i in range(len(self.stocks)):\n",
    "            self.stocks[i] = 0\n",
    "#             self.stockList[i].num = 0\n",
    "            \n",
    "    def buyStock(self, name, date = 0, price = 0, num = 0, noLimit=True):\n",
    "        if name not in self.names:\n",
    "            print(\"Stock you want to buy isn't in the self\")\n",
    "            print(\"It must be added to the portfolio before you can buy\")\n",
    "            return\n",
    "\n",
    "        if(date == 0):\n",
    "            price_of_stock = price\n",
    "        else:\n",
    "            price_of_stock = finData[name].loc[date+\" 00:00:00\"]\n",
    "\n",
    "        if(noLimit):\n",
    "            numOfStock = self.uninvestedMoney/price_of_stock\n",
    "            self.uninvestedMoney -= numOfStock * price_of_stock\n",
    "            self.stocks[self.names.index(name)] += numOfStock\n",
    "        else:\n",
    "            if(num * price_of_stock() > self.uninvestedMoney):\n",
    "                print(\"Can't buy this much stock\")\n",
    "            else:\n",
    "                self.uninvestedMoney -= num * price_of_stock\n",
    "                self.stocks[self.names.index(name)] += num \n",
    "                \n",
    "    def sellStock(self, name, date = 0, price = 0, num = 0, noLimit=True):\n",
    "        if name not in self.names:\n",
    "            print(\"Stock you want to buy isn't in the self\")\n",
    "            print(\"It must be added to the portfolio before you can buy\")\n",
    "            return\n",
    "\n",
    "        if(date == 0):\n",
    "            price_of_stock = price\n",
    "        else:\n",
    "            price_of_stock = finData[name].loc[date+\" 00:00:00\"]\n",
    "\n",
    "        numOfStock = self.stocks[self.names.index(name)]\n",
    "\n",
    "        if(noLimit):\n",
    "            self.stocks[self.names.index(name)] = 0\n",
    "\n",
    "            self.uninvestedMoney += numOfStock * price_of_stock\n",
    "        else:\n",
    "            if(numOfStock - num < 0):\n",
    "                print(\"Can't sell this much stock\")\n",
    "            else:\n",
    "                self.uninvestedMoney += num * price_of_stock\n",
    "                self.stocks[self.names.index(name)] -= num\n",
    "        "
   ]
  },
  {
   "cell_type": "markdown",
   "metadata": {},
   "source": [
    "#### Creating Portfolio"
   ]
  },
  {
   "cell_type": "code",
   "execution_count": 5,
   "metadata": {
    "collapsed": true
   },
   "outputs": [],
   "source": [
    "my_portfolio = Portfolio()\n",
    "my_portfolio.addStock(aapl)"
   ]
  },
  {
   "cell_type": "markdown",
   "metadata": {},
   "source": [
    "#### Simple Trading Strategy per 30 days"
   ]
  },
  {
   "cell_type": "code",
   "execution_count": 6,
   "metadata": {
    "collapsed": true,
    "scrolled": true
   },
   "outputs": [],
   "source": [
    "startDate = '2001-07-01'\n",
    "endDate = '2018-07-01'\n",
    "\n",
    "aaplReturn = finData[aapl].pct_change().shift(-1).dropna()\n",
    "aaplSharpe = aaplReturn.mean()/aaplReturn.std()\n",
    "aaplRollingStat = finData[aapl].loc[startDate: endDate].rolling(window=30,center=False).mean().dropna()\n",
    "aaplRollingStd = finData[aapl].loc[startDate: endDate].rolling(window=30,center=False).std().dropna()\n",
    "\n",
    "aaplRollingStat = aaplRollingStat.reset_index()\n",
    "\n",
    "aaplRollingStat = aaplRollingStat.rename(index=str, columns={\"Adj. Close\": \"Rolling Mean\"})\n",
    "aaplRollingStat[\"Std\"] = aaplRollingStd.values\n",
    "aaplRollingStat[\"Upper Band\"] = aaplRollingStat.apply(lambda row: row[\"Rolling Mean\"] + 2*row[\"Std\"], axis=1)\n",
    "aaplRollingStat[\"Lower Band\"] = aaplRollingStat.apply(lambda row: row[\"Rolling Mean\"] - 2*row[\"Std\"], axis=1)\n",
    "\n",
    "aaplRollingStat = aaplRollingStat.set_index(\"Date\")\n",
    "\n",
    "aaplRollingStat[\"Adj. Close\"] = finData[aapl].loc[aaplRollingStat.index[0]:aaplRollingStat.index[-1]].values"
   ]
  },
  {
   "cell_type": "code",
   "execution_count": 7,
   "metadata": {
    "collapsed": true
   },
   "outputs": [],
   "source": [
    "startDate = '2001-07-01'\n",
    "endDate = '2018-07-01'\n",
    "\n",
    "googReturn = finData[goog].pct_change().shift(-1).dropna()\n",
    "googSharpe = googReturn.mean()/googReturn.std()\n",
    "googRollingStat = finData[goog].loc[startDate: endDate].rolling(window=30,center=False).mean().dropna()\n",
    "googRollingStd = finData[goog].loc[startDate: endDate].rolling(window=30,center=False).std().dropna()\n",
    "\n",
    "googRollingStat = googRollingStat.reset_index()\n",
    "\n",
    "googRollingStat = googRollingStat.rename(index=str, columns={\"Adj. Close\": \"Rolling Mean\"})\n",
    "googRollingStat[\"Std\"] = googRollingStd.values\n",
    "googRollingStat[\"Upper Band\"] = googRollingStat.apply(lambda row: row[\"Rolling Mean\"] + 2*row[\"Std\"], axis=1)\n",
    "googRollingStat[\"Lower Band\"] = googRollingStat.apply(lambda row: row[\"Rolling Mean\"] - 2*row[\"Std\"], axis=1)\n",
    "\n",
    "googRollingStat = googRollingStat.set_index(\"Date\")\n",
    "\n",
    "googRollingStat[\"Adj. Close\"] = finData[goog].loc[googRollingStat.index[0]:googRollingStat.index[-1]].values"
   ]
  },
  {
   "cell_type": "code",
   "execution_count": 13,
   "metadata": {
    "scrolled": true
   },
   "outputs": [],
   "source": [
    "#portfolio reset\n",
    "my_portfolio.reset()\n",
    "my_portfolio.addMoney(100)\n",
    "\n",
    "aaplRollingStat = aaplRollingStat.reset_index()\n",
    "\n",
    "aaplRollingStat[\"Buy Day\"] = aaplRollingStat.apply(lambda row: 1 if row[\"Adj. Close\"] < row[\"Lower Band\"] else 0, axis=1)\n",
    "aaplRollingStat[\"Sell Day\"] = aaplRollingStat.apply(lambda row: 1 if row[\"Adj. Close\"] > row[\"Upper Band\"] else 0, axis=1)\n",
    "    \n",
    "\n",
    "aaplRollingStat = aaplRollingStat.set_index(\"Date\")\n",
    "\n",
    "# aaplRollingStat\n",
    "\n",
    "#Loop implementation gives a strange return value\n",
    "canBuy = True\n",
    "canSell = False\n",
    "for i, row in aaplRollingStat.iterrows():\n",
    "    if row[\"Adj. Close\"] < row[\"Lower Band\"] and canBuy:\n",
    "        my_portfolio.buyStock(aapl, price = row[\"Adj. Close\"])\n",
    "        canBuy = False\n",
    "        canSell = True\n",
    "    elif row[\"Adj. Close\"] > row[\"Upper Band\"] and canSell:\n",
    "        my_portfolio.sellStock(aapl, price = row[\"Adj. Close\"])\n",
    "        canBuy = True\n",
    "        canSell = False\n",
    "#         print(i)\n",
    "        \n",
    "if 0 not in my_portfolio.stocks:\n",
    "    my_portfolio.sellStock(aapl, price = finData[aapl][-1])\n",
    "\n",
    "# canBuy = True\n",
    "# canSell = False\n",
    "# for i, row in aaplRollingStat.iterrows():\n",
    "# #     print(aaplRollingStat.loc[i])\n",
    "#     if row[\"Adj. Close\"] < row[\"Lower Band\"] and canBuy:\n",
    "#         aaplRollingStat.loc[i][\"Buy Day\"] = 1\n",
    "# #         print(aaplRollingStat[i])\n",
    "#         canBuy = False\n",
    "#         canSell = True\n",
    "#     else:\n",
    "#         aaplRollingStat.loc[i][\"Buy Day\"] = 0\n",
    "        \n",
    "#     if row[\"Adj. Close\"] > row[\"Upper Band\"] and canSell:\n",
    "#         aaplRollingStat.loc[i][\"Sell Day\"] = 1\n",
    "# #         print(aaplRollingStat[i])\n",
    "#         canBuy = True\n",
    "#         canSell = False\n",
    "# #         print(i)\n",
    "#     else:\n",
    "#         aaplRollingStat.loc[i][\"Sell Day\"] = 0\n",
    "        \n",
    "# print(aaplRollingStat)\n",
    "    "
   ]
  },
  {
   "cell_type": "code",
   "execution_count": 14,
   "metadata": {},
   "outputs": [
    {
     "name": "stdout",
     "output_type": "stream",
     "text": [
      "Value of Investment $235.34122122923309917\n"
     ]
    }
   ],
   "source": [
    "print(\"Value of Investment $\"+ numToString(my_portfolio.uninvestedMoney))"
   ]
  },
  {
   "cell_type": "markdown",
   "metadata": {},
   "source": [
    "#### Rate of Return Series Generated"
   ]
  },
  {
   "cell_type": "code",
   "execution_count": null,
   "metadata": {
    "collapsed": true
   },
   "outputs": [],
   "source": []
  }
 ],
 "metadata": {
  "kernelspec": {
   "display_name": "Python 3",
   "language": "python",
   "name": "python3"
  },
  "language_info": {
   "codemirror_mode": {
    "name": "ipython",
    "version": 3
   },
   "file_extension": ".py",
   "mimetype": "text/x-python",
   "name": "python",
   "nbconvert_exporter": "python",
   "pygments_lexer": "ipython3",
   "version": "3.6.3"
  }
 },
 "nbformat": 4,
 "nbformat_minor": 2
}
